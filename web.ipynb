{
 "cells": [
  {
   "cell_type": "markdown",
   "id": "efadfc22-533b-4fac-9076-f2e79f2e3084",
   "metadata": {},
   "source": [
    "# Het web en het internet"
   ]
  },
  {
   "cell_type": "markdown",
   "id": "0430a2bb-4d79-40d6-a90b-26d09a9d0206",
   "metadata": {},
   "source": [
    "Hoe werkt het web? Wat gebeurt er als je via je browser een webpagina opvraagt?"
   ]
  },
  {
   "cell_type": "markdown",
   "id": "e56087a9-0f89-4646-bb75-953e6419dc19",
   "metadata": {},
   "source": [
    "Het web is een toepassing van het internet. Er zijn veel meer toepassingen van het internet naast het web (http), bijvoorbeeld: e-mail (mailto), file-transfer (ftp), het internet of things, enz."
   ]
  },
  {
   "cell_type": "markdown",
   "id": "ea438524-dc4b-4d18-8f2c-0f7638ff3748",
   "metadata": {},
   "source": [
    "De browser is een programma dat werkt op je computer. De gegevens (webpagina's) die je browser zichtbaar maakt zijn afkomstig van webservers. De browser maakt via het internet contact met een webserver, om de gegevens van een webpagina op te halen en weer te geven op het scherm van je computer.\n",
    "\n",
    "**Terminologie**.\n",
    "De interactie tussen een browser en een webserver heet een *client-server* interactie. De client vraagt de server om bepaalde gegevens, of om een bepaalde dienst; de server komt daarna met een antwoord (response) naar de client."
   ]
  },
  {
   "cell_type": "markdown",
   "id": "61417207-cbc8-49c1-bb71-8129e4832d21",
   "metadata": {},
   "source": [
    "figuur client-server interactie; browser-webserver"
   ]
  },
  {
   "cell_type": "markdown",
   "id": "52d5ad2a-f857-4f37-9021-7e0735b954ad",
   "metadata": {},
   "source": [
    "De naam of eigenlijk het adres van een webpagina die je invoert in de browser heet URL: Uniform Resource Locator.\n",
    "De URL van een webpagina is als volgt opgebouwd:\n",
    "\n",
    "```\n",
    "https://www.ieni.org/agenda\n",
    "```\n",
    "\n",
    "Hierin is:\n",
    "\n",
    "* `https:` - het protocol dat gebruikt wordt. Voor het web is dat http of https (de veilige versie van http)\n",
    "* `www.ieni.org` - de naam (\"hostnaam\") van de webserver\n",
    "* `/agenda` - de naam (\"padnaam\") van de pagina op die webserver "
   ]
  },
  {
   "cell_type": "markdown",
   "id": "7e8bc367-c4d8-4e92-ae8a-8afce0050de6",
   "metadata": {},
   "source": [
    "Het internet-protocol werkt niet met namen, maar met internetadressen. Een internetadres ofwel IP-adres heeft de vorm `aaa.bbb.ccc.ddd`, waarin `aaa`, enz. decimale getallen zijn tussen 0..255. Een IP-adres bestaat uit 4 bytes (32 bits). Je kunt de waarde van een byte weergeven door een getal tussen 0 en 255.\n",
    "\n",
    "> Dit is een IPv4 adres. Je komt ook IPv6 adressen tegen: deze bestaan uit 128 bits, verdeeld in groepen van 16 bits, gescheiden door `:`. Elke groep van 16 bits geef je weer als hexadecimaal getal. Een voorbeeld: "
   ]
  },
  {
   "cell_type": "markdown",
   "id": "6e40fa1d-23c9-46e4-bb92-d729b78144c2",
   "metadata": {},
   "source": [
    "De eerste stap die de browser neemt als je de bovenstaande URL invoert, is het opzoeken van het IP-adres wat bij de naam `www.ieni.org` hoort. Hiervoor gebruikt de browser het DNS protocol (Domain Name Service), om de gegevens op te halen van een *name server* (DNS server).\n",
    "\n",
    "**(*)** In de netwerkinstellingen van je computer kun je het IP-adres opgeven van de DNS server die hiervoor gebruikt moet worden. Gewoonlijk vult het DHCP-protocol deze gegevens in, met de nameserver van je Internet Service Provider. Maar je kunt het IP-adres van de DNS server ook zelf invullen, bijvoorbeeld met de nameserver van Google (8.8.8.8) of van Cloudflare (1.1.1.1).\n",
    "\n",
    "* ref. Google\n",
    "* ref. Cloudflare"
   ]
  },
  {
   "cell_type": "code",
   "execution_count": 2,
   "id": "5a346acb-4efd-42ae-bf94-8f141b591478",
   "metadata": {},
   "outputs": [
    {
     "name": "stdout",
     "output_type": "stream",
     "text": [
      "www.ieni.org has address 172.67.14.152\n",
      "www.ieni.org has address 104.22.72.171\n",
      "www.ieni.org has address 104.22.73.171\n",
      "www.ieni.org has IPv6 address 2606:4700:10::ac43:e98\n",
      "www.ieni.org has IPv6 address 2606:4700:10::6816:49ab\n",
      "www.ieni.org has IPv6 address 2606:4700:10::6816:48ab\n"
     ]
    }
   ],
   "source": [
    "!host www.ieni.org"
   ]
  },
  {
   "cell_type": "markdown",
   "id": "f3499c52-b11e-4fb5-88a6-3d505736d2c3",
   "metadata": {},
   "source": [
    "```{figure} images/dns.png\n",
    ":width: 500px\n",
    "\n",
    "DNS lookup - als eerste stap naar de webserver\n",
    "```"
   ]
  },
  {
   "cell_type": "markdown",
   "id": "4b6e7a1c-ce21-49bf-b3bf-7557d197492e",
   "metadata": {},
   "source": [
    "## Opdrachten\n",
    "\n",
    "(Welke opdrachten kunnen we hierbij bedenken? Je kunt bijvoorbeeld de interactie tussen de browser en de server volgen via de ingebouwde developer-tools van de browser.)"
   ]
  },
  {
   "cell_type": "markdown",
   "id": "d7f382b2-1e5e-4ad2-af80-e1664cfeb4e4",
   "metadata": {},
   "source": []
  }
 ],
 "metadata": {
  "kernelspec": {
   "display_name": "Python 3 (ipykernel)",
   "language": "python",
   "name": "python3"
  },
  "language_info": {
   "codemirror_mode": {
    "name": "ipython",
    "version": 3
   },
   "file_extension": ".py",
   "mimetype": "text/x-python",
   "name": "python",
   "nbconvert_exporter": "python",
   "pygments_lexer": "ipython3",
   "version": "3.9.7"
  }
 },
 "nbformat": 4,
 "nbformat_minor": 5
}
