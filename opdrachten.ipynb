{
 "cells": [
  {
   "cell_type": "markdown",
   "id": "88c7094a-3236-491c-9e3a-328ac53ce321",
   "metadata": {},
   "source": [
    "# Opdrachten"
   ]
  },
  {
   "cell_type": "markdown",
   "id": "888bf571-8769-4861-87fd-9ff1f599a91b",
   "metadata": {},
   "source": [
    "* verkennen (scan) van het lokale netwerk, met bijv. zen (of ander programma)\n",
    "    * welke apparaten? welke IP-adressen?\n",
    "    * welke apparaten bieden een web-interface? (meestal port 80) voor welk doel?\n"
   ]
  },
  {
   "cell_type": "markdown",
   "id": "7d7f5ee7-f652-4ab6-bd24-400510b0e933",
   "metadata": {},
   "source": [
    "* wat is het IP-adres van je computer?\n",
    "    * in het lokale netwerk? (volgens de instellingen van je computer)\n",
    "    * in het publieke internet (volgens een toepassing als ...)\n",
    "    * hoe verklaar je dit? (op basis van de NAT-uitleg)\n"
   ]
  },
  {
   "cell_type": "markdown",
   "id": "415fcda0-d70c-4225-906d-ced08e462724",
   "metadata": {},
   "source": [
    "* als je computer meerdere netwerk-interfaces heeft (Wifi, bedraad, mobiel?)\n",
    "    * wat is het IP-adres van het bedrade interface?\n",
    "    * wat is het IP-adres van het WiFi interface?\n",
    "    * wat is het IP-adres van het mobiele interface?\n",
    "    "
   ]
  },
  {
   "cell_type": "markdown",
   "id": "96466520-1250-4195-8ed6-d4456418e01c",
   "metadata": {},
   "source": [
    "* analyseren van een tabel van een router?\n",
    "    * IP- en MAC adressen"
   ]
  },
  {
   "cell_type": "markdown",
   "id": "e0c612a5-1512-4180-8176-c0bfa43d82cc",
   "metadata": {},
   "source": [
    "* opdracht(en) voor de thuisrouter\n",
    "    * tabel met apparaten in het netwerk\n",
    "    * openzetten van een poort (bijv. voor RasPi met webserver?) - vgl. ook games\n",
    "    * statische toewijzing adressen\n",
    "    * VPN verbinding met het lokale netwerk"
   ]
  },
  {
   "cell_type": "markdown",
   "id": "2376a128-a959-4c79-9621-fd7f722e93d1",
   "metadata": {},
   "source": [
    "* lokaal IoT-apparaat dat je wilt bedienen vanuit het publieke internet - welke mogelijkheden?\n",
    "    * via externe server\n",
    "    * via open poort (kan meestal maar met 1 apparaat)\n",
    "    * "
   ]
  }
 ],
 "metadata": {
  "kernelspec": {
   "display_name": "Python 3 (ipykernel)",
   "language": "python",
   "name": "python3"
  },
  "language_info": {
   "codemirror_mode": {
    "name": "ipython",
    "version": 3
   },
   "file_extension": ".py",
   "mimetype": "text/x-python",
   "name": "python",
   "nbconvert_exporter": "python",
   "pygments_lexer": "ipython3",
   "version": "3.9.7"
  }
 },
 "nbformat": 4,
 "nbformat_minor": 5
}
