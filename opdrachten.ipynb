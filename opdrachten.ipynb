{
 "cells": [
  {
   "cell_type": "markdown",
   "id": "88c7094a-3236-491c-9e3a-328ac53ce321",
   "metadata": {},
   "source": [
    "# Opdrachten"
   ]
  },
  {
   "cell_type": "markdown",
   "id": "8e8ad07d-65f5-4371-a8f0-e9a939e605a2",
   "metadata": {},
   "source": [
    "```{exercise} Verken een lokaal netwerk\n",
    ":label: opdracht-1\n",
    "\n",
    "Verken een lokaal netwerk, bijvoorbeeld je thuisnetwerk, met behulp van scan-software:\n",
    "\n",
    "* maak een tabel van de aanwezige apparaten met hun MAC-adres en IP-adres\n",
    "* welke van deze apparaten bieden een web-interface? (Met welk doel?)\n",
    "* zijn er ook IoT-apparaten in deze tabel?\n",
    "```"
   ]
  },
  {
   "cell_type": "markdown",
   "id": "3cb47738-4b83-48af-abb1-75a139e467ef",
   "metadata": {},
   "source": [
    "```{tip}\n",
    "Enkele voorbeelden van software voor het scannen van een lokaal netwerk:\n",
    "\n",
    "* Universeel: nmap (https://nmap.org/)\n",
    "    * een grafisch gebruikersinterface hiervoor: Zenmap (https://nmap.org/zenmap/)\n",
    "* Windows: Advanced Port Scanner (https://www.advanced-port-scanner.com/)\n",
    "* App voor smartphone: Fing (vood iOS en Android)\n",
    "\n",
    "Als je zoekt op \"port scanner\", \"network scanner\" of \"IP scanner\" vind je nog meer alternatieven.\n",
    "```\n",
    "\n"
   ]
  },
  {
   "cell_type": "markdown",
   "id": "7d7f5ee7-f652-4ab6-bd24-400510b0e933",
   "metadata": {},
   "source": [
    "* wat is het IP-adres van je computer?\n",
    "    * in het lokale netwerk? (volgens de instellingen van je computer)\n",
    "    * in het publieke internet (volgens een toepassing als ...)\n",
    "    * hoe verklaar je dit? (op basis van de NAT-uitleg)\n"
   ]
  },
  {
   "cell_type": "markdown",
   "id": "415fcda0-d70c-4225-906d-ced08e462724",
   "metadata": {},
   "source": [
    "* als je computer meerdere netwerk-interfaces heeft (Wifi, bedraad, mobiel?)\n",
    "    * wat is het IP-adres van het bedrade interface?\n",
    "    * wat is het IP-adres van het WiFi interface?\n",
    "    * wat is het IP-adres van het mobiele interface?\n",
    "    "
   ]
  },
  {
   "cell_type": "markdown",
   "id": "96466520-1250-4195-8ed6-d4456418e01c",
   "metadata": {},
   "source": [
    "* analyseren van een tabel van een router?\n",
    "    * IP- en MAC adressen"
   ]
  },
  {
   "cell_type": "markdown",
   "id": "78d5059a-5436-40b9-8792-c14dfd2de046",
   "metadata": {},
   "source": [
    "(Een netwerk-scanner geeft in principe meer informatie dan deze tabel. Waarom dan deze opdracht?)"
   ]
  },
  {
   "cell_type": "markdown",
   "id": "e0c612a5-1512-4180-8176-c0bfa43d82cc",
   "metadata": {},
   "source": [
    "* opdracht(en) voor de thuisrouter\n",
    "    * tabel met apparaten in het netwerk\n",
    "    * openzetten van een poort (bijv. voor RasPi met webserver?) - vgl. ook games\n",
    "    * statische toewijzing adressen\n",
    "    * VPN verbinding met het lokale netwerk\n",
    "    \n",
    "Suggestie: gebruik een oude thuisrouter om mee te experimenteren. Hiermee kun je een lokaal netwerk maken door bijvoorbeeld je thuisnetwerk als \"WAN\" te gebruiken."
   ]
  },
  {
   "cell_type": "markdown",
   "id": "2376a128-a959-4c79-9621-fd7f722e93d1",
   "metadata": {},
   "source": [
    "* lokaal IoT-apparaat dat je wilt bedienen vanuit het publieke internet - welke mogelijkheden?\n",
    "    * via externe server\n",
    "    * via open poort (kan meestal maar met 1 apparaat)\n",
    "    * "
   ]
  },
  {
   "cell_type": "markdown",
   "id": "58d93bf7-5daf-4175-b437-dff2552489b8",
   "metadata": {},
   "source": [
    "Ga voor je computer (laptop of desktop) na op welke manier deze het IP-adres gekregen heeft in het huidige netwerk: via DHCP of via een vaste instelling? Wat is het adres van de (residential) gateway (thuisrouter)?"
   ]
  },
  {
   "cell_type": "markdown",
   "id": "6e27be4a-eeae-4532-867b-3db4dd127e39",
   "metadata": {},
   "source": [
    "## Gebruik van shell-opdrachten\n",
    "\n",
    "* je kunt in Jupyter Notebook shell-opdrachten uitvoeren, deze worden dan uitgevoerd op de server (dus meestal niet op je eigen computer)\n",
    "* bijvoorbeeld:\n",
    "    * `ping ip-adres`\n",
    "    * "
   ]
  },
  {
   "cell_type": "markdown",
   "id": "6b7eb013-ded8-4bf8-88a2-fe124465c445",
   "metadata": {},
   "source": [
    "## Gebruik van \"localhost\"\n",
    "\n",
    "Je kunt ook via het netwerk-interface van je computer verbinding maken met je eigen computer. Dat is bijvoorbeeld zinvol als je een webserver uittest op je computer. Maar er zijn ook andere programma's zoals Jupyter Notebook die altijd gebruik maken van een web-interface: je gebruik de browser voor de user interface, en een server - mogelijk op je eigen computer - voor het rekenwerk.\n",
    "\n",
    "De internet-verbinding met je eigen computer heet ook wel \"localhost\", met als IP-adres `127.0.0.1`.\n",
    "\n",
    "Het lijkt een omweg, om je eigen computer te gebruiken via de internet interface, en dat is het ook wel. Maar omdat steeds meer programma's ontworpen zijn om te gebruiken via het internet, met de browser voor de user interface, is dit in veel gevallen een praktische oplossing. Ook voor programma's als database-servers wordt de localhost-verbinding vaak gebruikt.\n",
    "\n",
    "* gebruik van een lokale database server\n",
    "\n",
    "\n",
    "Mogelijke opdrachten:\n",
    "\n",
    "* ping naar localhost?\n",
    "* start een (statische) webserver op je eigen computer - bijvoorbeeld: python webserver, of de eenvoudige statische webserver; en bekijk vervolgens via deze webserver en localhost in de browser een lokaal html-bestand.\n",
    "\n"
   ]
  },
  {
   "cell_type": "markdown",
   "id": "8d671cb5-3f2a-4728-8c23-8995ac3c854b",
   "metadata": {},
   "source": [
    "* \"ping\" naar een bekende website\n",
    "* \"traceroute\" naar een bekende website\n",
    "* \"ping\" naar een IP-adres in je lokale netwerk\n"
   ]
  },
  {
   "cell_type": "markdown",
   "id": "d93fb570-57ec-48bc-b6ba-e4d57b1906ee",
   "metadata": {},
   "source": [
    "(Gebruik van een IoT-apparaat als webserver.)"
   ]
  },
  {
   "cell_type": "markdown",
   "id": "2da196df-2ddd-4b6e-908e-598af70346bf",
   "metadata": {},
   "source": [
    "Discussie: is het zinvol om een apart netwerk te gebruiken voor IoT-apparaten?\n",
    "\n",
    "Welke bedreigingen zijn er in het interne netwerk?\n",
    "\n",
    "* bedreigingen van laptop/desktop-computers (bijv. met prive-data; gebruikt voor bankieren e.d.)\n",
    "    * \"versleuteling van alle data op je computer\"?\n",
    "* bedreigingen van IoT-apparaten\n",
    "    * bediening van je apparaten wordt overgenomen\n",
    "    * apparaten worden afgeluisterd\n",
    "    \n",
    "(Bijv. bediening van je verwarming wordt overgenomen? of je camera('s) worden afgeluisterd? bediening van je voordeur?)\n"
   ]
  }
 ],
 "metadata": {
  "kernelspec": {
   "display_name": "Python 3 (ipykernel)",
   "language": "python",
   "name": "python3"
  },
  "language_info": {
   "codemirror_mode": {
    "name": "ipython",
    "version": 3
   },
   "file_extension": ".py",
   "mimetype": "text/x-python",
   "name": "python",
   "nbconvert_exporter": "python",
   "pygments_lexer": "ipython3",
   "version": "3.9.7"
  }
 },
 "nbformat": 4,
 "nbformat_minor": 5
}
