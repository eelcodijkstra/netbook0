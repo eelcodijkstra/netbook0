{
 "cells": [
  {
   "cell_type": "markdown",
   "id": "88c7094a-3236-491c-9e3a-328ac53ce321",
   "metadata": {},
   "source": [
    "# Opdrachten"
   ]
  },
  {
   "cell_type": "markdown",
   "id": "aff08949-c6aa-46ce-8745-d8ebff0718eb",
   "metadata": {},
   "source": [
    "```{exercise} Beschrijf een lokaal netwerk\n",
    ":label: opdracht-1\n",
    "\n",
    "Beschrijf een (deel van een) lokaal netwerk, bijvoorbeeld je thuisnetwerk, tot en met de aansluiting op het netwerk van de Internet Service Provider.\n",
    "\n",
    "* geef aan welke apparaten hierin voorkomen\n",
    "* geef van elk apparaat aan of dit een eindapparaat of een netwerkapparaat is\n",
    "* geef aan met welk(e) medium (media) dit apparaat in het netwerk verbonden is\n",
    "* probeer zo mogelijk de Ethernet of WiFi MAC adressen van deze apparaten te achterhalen\n",
    "\n",
    "De MAC-adressen van een apparaat staan gewoonlijk op een sticker op het apparaat.\n",
    "\n",
    "```"
   ]
  },
  {
   "cell_type": "markdown",
   "id": "8e8ad07d-65f5-4371-a8f0-e9a939e605a2",
   "metadata": {},
   "source": [
    "```{exercise} Verken een lokaal netwerk\n",
    ":label: opdracht-2\n",
    "\n",
    "Verken een lokaal netwerk, bijvoorbeeld je thuisnetwerk, met behulp van scan-software:\n",
    "\n",
    "* maak een tabel van de aanwezige apparaten met hun MAC-adres en IP-adres\n",
    "* welke van deze apparaten bieden een web-interface? (Met welk doel?)\n",
    "* zijn er ook IoT-apparaten in deze tabel?\n",
    "```"
   ]
  },
  {
   "cell_type": "markdown",
   "id": "3cb47738-4b83-48af-abb1-75a139e467ef",
   "metadata": {},
   "source": [
    "```{tip}\n",
    "Enkele voorbeelden van software voor het scannen van een lokaal netwerk:\n",
    "\n",
    "* Universeel: nmap (https://nmap.org/)\n",
    "    * een grafisch gebruikersinterface hiervoor: Zenmap (https://nmap.org/zenmap/)\n",
    "* Windows: Advanced Port Scanner (https://www.advanced-port-scanner.com/)\n",
    "* App voor smartphone: Fing (vood iOS en Android)\n",
    "\n",
    "Als je zoekt op \"port scanner\", \"network scanner\" of \"IP scanner\" vind je nog meer alternatieven.\n",
    "```\n",
    "\n"
   ]
  },
  {
   "cell_type": "markdown",
   "id": "7d7f5ee7-f652-4ab6-bd24-400510b0e933",
   "metadata": {},
   "source": [
    "```{exercise} computer IP-adressen\n",
    ":label: opdracht-3\n",
    "\n",
    "(a) Wat is het IP-adres van je computer:\n",
    "\n",
    "* in het lokale netwerk (thuis of op school)? Deze informatie vind je in de netwerkinstellingen van je computer; of eventueel via een scan van het netwerk, of in de DHCP-tabel van de thuisrouter.\n",
    "* in het publieke internet? Dit vind je via een toepassing als: https://www.whatismyip.com.\n",
    "\n",
    "(b) Verklaar bovenstaande met behulp van de uitleg over NAT-routering.\n",
    "```"
   ]
  },
  {
   "cell_type": "markdown",
   "id": "415fcda0-d70c-4225-906d-ced08e462724",
   "metadata": {},
   "source": [
    "* als je computer meerdere netwerk-interfaces heeft (Wifi, bedraad, mobiel?)\n",
    "    * wat is het IP-adres van het bedrade interface?\n",
    "    * wat is het IP-adres van het WiFi interface?\n",
    "    * wat is het IP-adres van het mobiele interface?\n",
    "    "
   ]
  },
  {
   "cell_type": "markdown",
   "id": "96466520-1250-4195-8ed6-d4456418e01c",
   "metadata": {},
   "source": [
    "* analyseren van een tabel van een router?\n",
    "    * IP- en MAC adressen"
   ]
  },
  {
   "cell_type": "markdown",
   "id": "7db0fe5f-f5de-4823-aca1-447f9b8c3f74",
   "metadata": {},
   "source": [
    "```{exercise} Bestudeer de netwerk (DHCP) tabel van een router\n",
    "\n",
    "Bestudeer (via de webinterface) de (DHCP) netwerktabel van een thuisrouter.\n",
    "In deze tabel vind je voor elk verbonden (en actief) apparaat het IP-adres, het MAC-adres en een beschijving of naam.\n",
    "\n",
    "De naam van een apparaat zegt waarschijnlijk niet altijd iets. Probeer aan de hand van het webinterface (als dat er is) uit te vinden om welk apparaat het gaat. Of, zoek dit uit aan de hand van het MAC-adres(label) op de verschillende apparaten.\n",
    "\n",
    "Maak een screenshot van (een deel van) deze tabel, of geef deze als volgt weer:\n",
    "\n",
    "| IP-adres     | MAC-adres         | beschrijving    |\n",
    "| ---:         | ---:              | :--             |\n",
    "| 192.168.1.12 | A8:40:41:20:5E:AC | LoRaWan gateway |\n",
    "|              |                   |                 |\n",
    "\n",
    "Ga na of er apparaten bij zijn met een vast (statisch) IP-adres, in plaats van een dynamisch IP-adres (in het ingestelde DHCP-bereik.)\n",
    "\n",
    "```"
   ]
  },
  {
   "cell_type": "markdown",
   "id": "e334abd0-c611-4693-a60a-09f368c6f60a",
   "metadata": {},
   "source": [
    "```{exercise} Bestudeer het DHCP-bereik van een router\n",
    "\n",
    "Bestudeer (via de webinterface) de DHCP-instellingen van een thuisrouter.\n",
    "\n",
    "* welk bereik is ingesteld voor dynamische IP-adressen?\n",
    "* zijn er ook apparaten met een statisch IP adres?\n",
    "```"
   ]
  },
  {
   "cell_type": "markdown",
   "id": "e0c612a5-1512-4180-8176-c0bfa43d82cc",
   "metadata": {},
   "source": [
    "* opdracht(en) voor de thuisrouter\n",
    "    * tabel met apparaten in het netwerk\n",
    "    * openzetten van een poort (bijv. voor RasPi met webserver?) - vgl. ook games\n",
    "    * statische toewijzing adressen\n",
    "    * VPN verbinding met het lokale netwerk\n",
    "    \n",
    "Suggestie: gebruik een oude thuisrouter om mee te experimenteren. Hiermee kun je een lokaal netwerk maken door bijvoorbeeld je thuisnetwerk als \"WAN\" te gebruiken. - maar: daarmee kun je bijv. niet zomaar een poort openzetten naar het internet, of een VPN-verbinding maken."
   ]
  },
  {
   "cell_type": "markdown",
   "id": "2376a128-a959-4c79-9621-fd7f722e93d1",
   "metadata": {},
   "source": [
    "* lokaal IoT-apparaat dat je wilt bedienen vanuit het publieke internet - welke mogelijkheden?\n",
    "    * via externe server\n",
    "    * via open poort (kan meestal maar met 1 apparaat)\n",
    "    * "
   ]
  },
  {
   "cell_type": "markdown",
   "id": "58d93bf7-5daf-4175-b437-dff2552489b8",
   "metadata": {},
   "source": [
    "```{exercise} Hoe krijgt je computer het IP-adres?\n",
    "Ga in de *netwerkinstellingen* voor je computer (laptop of desktop) na op welke manier deze het IP-adres gekregen heeft in het huidige netwerk: via DHCP (\"automatically\") of via een handmatige instelling? \n",
    "\n",
    "Wat is het adres van de (residential) gateway (thuisrouter)?\n",
    "\n",
    "Wat is het netwerkadres of subnetmasker?\n",
    "```"
   ]
  },
  {
   "cell_type": "markdown",
   "id": "389d55a3-132e-4a9d-b53a-5758c7114462",
   "metadata": {},
   "source": [
    "```{tip} Hoe vind je je netwerkinstellingen?\n",
    "\n",
    "Windows:\n",
    "\n",
    "* https://support.microsoft.com/en-us/windows/change-tcp-ip-settings-bd0a07af-15f5-cd6a-363f-ca2b6f391ace \n",
    "\n",
    "Chromebook:\n",
    "\n",
    "* https://support.google.com/chromebook/answer/1047420?hl=nl&ref_topic=3406281\n",
    "\n",
    "Apple OS X:\n",
    "\n",
    "* open systeemvoorkeuren -> Netwerken\n",
    "* klik voor het verbonden netwerk op \"geavanceerd\" en kies vervolgens de TCP/IP tab.\n",
    "\n",
    "Linux:\n",
    "\n",
    "* https://www.cyberciti.biz/faq/linux-list-network-interfaces-names-command/\n",
    "* (hoe zie je of DHCP gebruikt wordt?) \"BOOTPROTO\" in het netwerkinstellingen-bestand: /etc/netplan ???"
   ]
  },
  {
   "cell_type": "markdown",
   "id": "6e27be4a-eeae-4532-867b-3db4dd127e39",
   "metadata": {},
   "source": [
    "## Gebruik van shell-opdrachten\n",
    "\n",
    "* je kunt in Jupyter Notebook shell-opdrachten uitvoeren, deze worden dan uitgevoerd op de server (dus meestal niet op je eigen computer)\n",
    "* bijvoorbeeld:\n",
    "    * `ping ip-adres`\n",
    "    * "
   ]
  },
  {
   "cell_type": "markdown",
   "id": "6b7eb013-ded8-4bf8-88a2-fe124465c445",
   "metadata": {},
   "source": [
    "## Gebruik van \"localhost\"\n",
    "\n",
    "Je kunt ook via het netwerk-interface van je computer verbinding maken met je eigen computer. Dat is bijvoorbeeld zinvol als je een webserver uittest op je computer. Maar er zijn ook andere programma's zoals Jupyter Notebook die altijd gebruik maken van een web-interface: je gebruik de browser voor de user interface, en een server - mogelijk op je eigen computer - voor het rekenwerk.\n",
    "\n",
    "De internet-verbinding met je eigen computer heet ook wel \"localhost\", met als IP-adres `127.0.0.1`.\n",
    "\n",
    "Het lijkt een omweg, om je eigen computer te gebruiken via de internet interface, en dat is het ook wel. Maar omdat steeds meer programma's ontworpen zijn om te gebruiken via het internet, met de browser voor de user interface, is dit in veel gevallen een praktische oplossing. Ook voor programma's als database-servers wordt de localhost-verbinding vaak gebruikt.\n",
    "\n",
    "* gebruik van een lokale database server\n",
    "\n",
    "\n",
    "Mogelijke opdrachten:\n",
    "\n",
    "* ping naar localhost?\n",
    "* start een (statische) webserver op je eigen computer - bijvoorbeeld: python webserver, of de eenvoudige statische webserver; en bekijk vervolgens via deze webserver en localhost in de browser een lokaal html-bestand.\n",
    "\n"
   ]
  },
  {
   "cell_type": "markdown",
   "id": "8d671cb5-3f2a-4728-8c23-8995ac3c854b",
   "metadata": {},
   "source": [
    "* \"ping\" naar een bekende website\n",
    "* \"traceroute\" naar een bekende website\n",
    "* \"ping\" naar een IP-adres in je lokale netwerk\n"
   ]
  },
  {
   "cell_type": "markdown",
   "id": "d93fb570-57ec-48bc-b6ba-e4d57b1906ee",
   "metadata": {},
   "source": [
    "(Gebruik van een IoT-apparaat als webserver.)"
   ]
  },
  {
   "cell_type": "markdown",
   "id": "2da196df-2ddd-4b6e-908e-598af70346bf",
   "metadata": {},
   "source": [
    "Discussie: is het zinvol om een apart netwerk te gebruiken voor IoT-apparaten?\n",
    "\n",
    "Welke bedreigingen zijn er in het interne netwerk?\n",
    "\n",
    "* bedreigingen van laptop/desktop-computers (bijv. met prive-data; gebruikt voor bankieren e.d.)\n",
    "    * \"versleuteling van alle data op je computer\"?\n",
    "* bedreigingen van IoT-apparaten\n",
    "    * bediening van je apparaten wordt overgenomen\n",
    "    * apparaten worden afgeluisterd\n",
    "    \n",
    "(Bijv. bediening van je verwarming wordt overgenomen? of je camera('s) worden afgeluisterd? bediening van je voordeur?)\n"
   ]
  },
  {
   "cell_type": "markdown",
   "id": "d820a3df-247e-4988-b822-27d07e889b7e",
   "metadata": {},
   "source": [
    "```{exercise} Collisions in de dagelijkse communicatie\n",
    ":label: dagelijkse-collisions\n",
    "\n",
    "In het geval van Ethernet- en WiFi communicatie kan er sprake zijn van *collisions* (botsingen), als twee of meer apparaten tegelijk een bericht sturen naar het gedeelde medium.\n",
    "Ook in de dagelijkse communicatie komen dergelijke collisions voor. Geef hiervan voorbeelden, en geef aan hoe je dit probleem in de praktijk oplost (met een \"informeel protocol\").\n",
    "```"
   ]
  },
  {
   "cell_type": "markdown",
   "id": "73c26e88-126c-4afe-8dac-bf6251c0b5d5",
   "metadata": {},
   "source": [
    "```{exercise} Meerdere gebruikers met hetzelfde publieke IP-adres\n",
    "Ga na wat de publieke IP-adressen zijn van twee verschillende computers in het schoolnetwerk, bijvoorbeeld met https://whatismyipaddress.com.\n",
    "\n",
    "Waarschijnlijk hebben de verschillende computers in het schoolnetwerk hetzelde publieke IP-adres: er wordt dan gebruik gemaakt van NAT (zie ...).\n",
    "\n",
    "Als de verschillende computers hetzelfde IP-adres hebben, wat heeft dit dan voor gevolgen, bijvoorbeeld \n",
    "\n",
    "* als een leerling zich misdraagt door vandalisme te plegen op Wikipedia?\n",
    "* als leerlingen hun bijdrages aan Wikipedia anoniem willen houden (door niet in te loggen)?\n",
    "\n",
    "Overigens zijn er tegenwoordig ook manieren om met behulp van \"fingerprinting\" de identiteit van een apparaat te achterhalen, waarmee je ook apparaten met hetzelfde IP-adres kunt identificeren. (https://en.wikipedia.org/wiki/Device_fingerprint)\n",
    "```"
   ]
  },
  {
   "cell_type": "markdown",
   "id": "2dc93ab0-e7e8-4fd9-a803-ec62cdbc30d7",
   "metadata": {},
   "source": [
    "Is je privacy bij Wikipedia beter beschermd als je een anonieme bijdrage levert, of als bijdraagt als geregistreerde gebruiker? Leg uit."
   ]
  }
 ],
 "metadata": {
  "kernelspec": {
   "display_name": "Python 3 (ipykernel)",
   "language": "python",
   "name": "python3"
  },
  "language_info": {
   "codemirror_mode": {
    "name": "ipython",
    "version": 3
   },
   "file_extension": ".py",
   "mimetype": "text/x-python",
   "name": "python",
   "nbconvert_exporter": "python",
   "pygments_lexer": "ipython3",
   "version": "3.9.7"
  }
 },
 "nbformat": 4,
 "nbformat_minor": 5
}
