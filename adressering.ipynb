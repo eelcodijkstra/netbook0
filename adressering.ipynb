{
 "cells": [
  {
   "cell_type": "markdown",
   "id": "68930608-4736-4062-95ae-d889af80b995",
   "metadata": {},
   "source": [
    "# Adressering en adresvertaling (NAT)"
   ]
  },
  {
   "cell_type": "markdown",
   "id": "4d255912-af35-42a6-a8a1-0bf1c50e3ce3",
   "metadata": {},
   "source": [
    "Als je opdracht xxx gedaan hebt, heb je waarschijnlijk gezien dat het IP-adres van je computer in het lokale netwerk (thuis of op school) er anders uitziet dan het IP-adres gezien vanuit het publieke internet. Hoe kan dat, en hoe werkt dat?\n",
    "\n",
    "* bijvoorbeeld: https://whatismyipaddress.com/\n",
    "* \n",
    "\n",
    "De thuisrouter of residential gateway maakt hiervoor gebruik van NAT: Network Address Translation. Er zijn (veel) te weinig IPv4 adressen om elk apparaat in alle lokale netwerken van een uniek IP-adres te voorzien. De oplossing is dan om voor het lokale netwerk *lokale IP-adressen* te gebruiken; in het verkeer naar het publieke internet delen de lokale apparaten het publieke IP-adres van de NAT-router.\n",
    "\n",
    "Hoe kunnen die verschillende lokale apparaten *eenzelfde publiek IP-adres delen*? Hoe weet de NAT router bij een binnenkomend pakket, voor welk lokaal apparaat dit bestemd is? De oplossing zit in het gebruik van de *poortnummers* in de adressering.\n",
    "\n",
    "* een adres in de UDP- en TCP-protocollen bestaat uit een IP-adres en een poortnummer.\n",
    "    * een \"inkomend\" poortnummer van een server is gekoppeld aan dienst die die server biedt;\n",
    "    * bijvoorbeeld: poortnummer 80 is gewoonlijk de poort voor het web-protocol HTTP (via TCP).\n",
    "* de NAT-router zet de lokale combinatie (IPa, Portx) om in (IPs, Portax)\n",
    "    * hierin is IPa: een lokaal IP-adres; Portx: een lokaal poortnummer van IPa\n",
    "    * en IPs: het (gedeelde) externe IP-adres van de router\n",
    "    * en Portax: het externe poortnummmer van de router dat gebruikt wordt voor de lokale combinatie (IPa, Portx).\n",
    "\n",
    "Voorbeeld van een NAT-tabel:\n",
    "\n",
    "(Hebben we een voorbeeld hiervan van een echte router?)\n",
    "\n",
    "(Hoe vind je NAT terug in het interface van de router?)\n",
    "\n",
    "\n",
    "Het IP-adres van je thuisrouter wordt toegewezen door je internet provider (ISP). Dit kan een statisch (onveranderlijk) IP-adres zijn, of een dynamisch (veranderlijk) IP adres.\n",
    "\n",
    "Als je gebruik maakt van mobiel internet, wordt meestal een adres toegewezen op het moment dat je verbinding maakt.\n",
    "\n"
   ]
  },
  {
   "cell_type": "markdown",
   "id": "a9b0439c-d505-4d6e-b32b-80fdae421cbd",
   "metadata": {},
   "source": [
    "(Je zou het IP-adres van je Smartphone bij een mobiele verbinding ook moeten kunnen opvragen - heeft deze wel een IPv4 adres, of werkt deze alleen met IPv6? Ik zou niet weten waar je dat kunt vinden in de instellingen.)"
   ]
  },
  {
   "cell_type": "markdown",
   "id": "67fb53d9-e25c-4235-8458-43f1898b79ce",
   "metadata": {},
   "source": [
    "We hebben hier te maken met adressering op verschillende niveaus:\n",
    "\n",
    "* laagste, \"fysieke\" niveau: MAC adres. Dit is de \"native\" adressering in het lokale netwerk, die gebruikt wordt voor de \"routering\". (Het netwerk-interface van je computer of smartphone werkt op dit niveau.)\n",
    "    * voor de adressering van (eind)apparaten in het netwerk\n",
    "* IP-niveau (netwerklaag):\n",
    "    * voor de adressering van (eind)apparaten in het netwerk\n",
    "* TCP, UDP niveau (transportlaag?) - hoort eigenlijk nog bij de universele, logische laag; maar valt buiten het eigenlijke netwerk.\n",
    "    * voor de adressering van (netwerk)toepassingen cq. diensten in eindapparaten\n",
    "    * (bijv. een webserver; of, in de response van de webserver, de client (browser))"
   ]
  },
  {
   "cell_type": "markdown",
   "id": "76c330ee-d3a6-445e-8caa-eb292b3a9bd1",
   "metadata": {},
   "source": [
    "* een MAC-adres is gekoppeld aan een apparaaat, niet aan het netwerk\n",
    "* een IP-adres is gekoppeld aan het netwerk waarin het apparaat verbonden is: als je je apparaat in een ander netwerk verbindt, krijgt dit een ander IP-adres.\n",
    "    * vergelijk bijvoorbeeld: het IP-adres van je computer thuis, op school, of in het mobiele netwerk.\n"
   ]
  }
 ],
 "metadata": {
  "kernelspec": {
   "display_name": "Python 3 (ipykernel)",
   "language": "python",
   "name": "python3"
  },
  "language_info": {
   "codemirror_mode": {
    "name": "ipython",
    "version": 3
   },
   "file_extension": ".py",
   "mimetype": "text/x-python",
   "name": "python",
   "nbconvert_exporter": "python",
   "pygments_lexer": "ipython3",
   "version": "3.9.7"
  }
 },
 "nbformat": 4,
 "nbformat_minor": 5
}
