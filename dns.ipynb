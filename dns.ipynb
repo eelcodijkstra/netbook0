{
 "cells": [
  {
   "cell_type": "markdown",
   "id": "fe1f736c-913d-4d03-9ce9-8c0e570ca36e",
   "metadata": {},
   "source": [
    "# Domain Name System"
   ]
  },
  {
   "cell_type": "markdown",
   "id": "fa08a56e-4d06-4163-a6ef-84d7034317d7",
   "metadata": {},
   "source": [
    "```{admonition} Begrippen\n",
    "host, hostnaam, domeinnaam, ip-adres, dns protocol, dns server (name server), top-level domein, subdomein,\n",
    "```"
   ]
  },
  {
   "cell_type": "markdown",
   "id": "4fd0a37a-c677-424d-a1d3-2d7d3eed9bc3",
   "metadata": {},
   "source": [
    "Om de diensten van een computer in het internet te gebruiken, heb je het IP-adres van die computer nodig.\n",
    "Maar het is voor mensen erg lastig om dergelijke getallen te onthouden:\n",
    "namen zijn veel eenvoudiger te onthouden.\n",
    "Het Domain Name System is bedacht om het internet voor mensen geschikter te maken.\n",
    "Hiermee kun je een computer een naam geven: via het DNS-protocol kun je het IP-adres bij deze naam opzoeken.\n",
    "\n",
    "Als je in de browser https://wikipedia.nl invoert, zal de eerste stap van de browser zijn om het IP-adres van `wikipedia.nl` op te zoeken. Dit wordt dan gebruikt in een HTTPS-verzoek naar de betreffende computer."
   ]
  },
  {
   "cell_type": "markdown",
   "id": "eeb0c20f-4dc8-48e2-b4a5-5300b7fb2b6b",
   "metadata": {},
   "source": [
    "Enkele voorbeelden van domeinnamen: `www.ieni.org`, `ftp.ieni.org`, `jupyter.infvo.nl`, `infvo.nl`, `wikipedia.nl`, `wikipedia.org`, `apple.com`.\n",
    "\n",
    "Een domeinnaam bestaat uit 2 of 3 gedeeltes, gescheiden door een punt: (i) een optioneel subdomein (hierboven: `www`, `ftp`, `jupyter`; (ii) het domein `ieni`, `infvo`, `wikipedia`, `apple`; (iii) het top-level domein (TLD), `nl`, `org`, `com`."
   ]
  },
  {
   "cell_type": "markdown",
   "id": "1c9544e8-ae75-4384-a7c0-88219436fbe0",
   "metadata": {},
   "source": [
    "## DNS server(s)"
   ]
  },
  {
   "cell_type": "markdown",
   "id": "d6ed59d3-46f0-473b-b189-35d09f737496",
   "metadata": {},
   "source": [
    "```{figure} images/dns.png\n",
    ":width: 500px\n",
    "\n",
    "DNS lookup - als eerste stap naar de webserver\n",
    "```"
   ]
  },
  {
   "cell_type": "markdown",
   "id": "3b0c9db1-05f2-4638-884f-2494f2787096",
   "metadata": {},
   "source": [
    "Zoals gezegd kun je via het DNS-protocol opvragen wat het IP-adres bij een domeinnaam is.\n",
    "Je gebruikt hiervoor een *DNS-server* (ook wel: *name server*). \n",
    "\n",
    "In de netwerkinstellingen van je computer moet ook het IP-adres van een DNS server ingevuld zijn.\n",
    "(In principe krijg je dit ook via de automatische DHCP-instellingen.)\n",
    "Deze DNS-server is verbonden met andere DNS-servers, voor het geval de lokale DNS-server de betreffende domeinnaam niet kent. De domeinnaam-IP-adres tabel van een lokale DNS-server bevat een kopie van de gegevens van de *authorative* DNS-servers, die de originele gegevens bevatten.\n",
    "\n",
    "Vaak zal dit een DNS-server zijn van je internet service provider; maar je kunt ook bijvoorbeeld de DNS-servers van Google gebruiken (https://developers.google.com/speed/public-dns, `8.8.8.8`), of van andere organisaties (Cloudflare: `1.1.1.1`).\n",
    "\n",
    "Een goed-werkende DNS-server is erg belangrijk: je wilt snel resultaat, en je wilt het juiste resultaat. Als het lang duurt voordat je het resultaat krijgt, heeft dan gevolgen voor de snelheid van de browser. Als je niet het juiste resultaat krijgt, loop je het risico dat je een nep-website gepresenteerd krijgt in plaats van de originele. Om dit laatste risico te vermijden, is het gebruik van het beveiligde DNSSEC protocol essentieel, in combinatie met een goede DNS-server."
   ]
  },
  {
   "cell_type": "markdown",
   "id": "366c3e6e-74ba-4c6d-a21d-2ae6ca445e0d",
   "metadata": {},
   "source": [
    "## Registratie van domeinnamen"
   ]
  },
  {
   "cell_type": "markdown",
   "id": "db5c29a1-1393-494c-92ca-62cbd5a3890e",
   "metadata": {},
   "source": [
    "Een domeinnaam (zonder subdomein), zoals `ien.org`, moet je registreren  voordat je deze kunt gebruiken voor je diensten. Deze registratie zorgt ervoor dat namen uniek zijn, en dat voor elke naam duidelijk is wie de \"eigenaar' (registrant) van die naam is.\n",
    "\n",
    "Via \"whois\" kun je van een domein opvragen wie deze geregistreerd heeft."
   ]
  },
  {
   "cell_type": "markdown",
   "id": "535807d6-b976-4421-9ac2-6bcb626c9c62",
   "metadata": {},
   "source": [
    "## Een eigen domeinnaam"
   ]
  },
  {
   "cell_type": "markdown",
   "id": "84fa1091-affc-4fca-b818-c4d1d73fd0c5",
   "metadata": {},
   "source": [
    "Als je een domeinnaam wilt hebben in meerdere top-level domeinen, bijvoorbeeld `betapartners.org` en `betapartners.nl`, dan moet je die afzonderlijk registreren. Bovendien kunnen voor een top-leven domein speciale regels gelden. Voor het registreren van een domeinnaam betaal je jaarlijks een klein bedrag."
   ]
  },
  {
   "cell_type": "markdown",
   "id": "925f0a1b-c60d-40dc-b8d3-c56a97f7cf93",
   "metadata": {},
   "source": [
    "**Subdomeinen.** Als je een domeinnaam hebt, kun je daar zelf subdomeinen aan toevoegen, bijvoorbeeld een subdomein per dienst. (`www.ieni.org` voor de website, `ftp.ieni.org` voor file transfer; of `codeweek.ieni.org` voor de codeweek-activiteiten)."
   ]
  },
  {
   "cell_type": "markdown",
   "id": "25e76808-137b-4825-bc77-0fc7071f7597",
   "metadata": {},
   "source": [
    "**Top-level domeinen.** Een domeinnaam is onderdeel van een top-level domein, zoals `nl` of `com`. Het aantal TLDs is een tijd lang erg beperkt geweest, naast `org`, `com`, `net` en `edu`, vooral landgebonden TLDs zoals `nl`, `be`, `de`, `tv`, enz. Tegenwoordig kun je ook een eigen TLD laten registreren; maar dat moet je dan ook goed beheren, bijvoorbeeld  de registratie van domeinen in je eigen TLD. (Bijvoorbeeld: `gemeente.amsterdam`."
   ]
  },
  {
   "cell_type": "markdown",
   "id": "bd1c1a27-fe27-4eae-8c6c-9c3070d1db29",
   "metadata": {},
   "source": [
    "DNS-gegevens invullen.\n",
    "\n",
    "Als je een domeinnaam hebt, kun je zelf bij deze naam het bijbehorende IP-adres invullen, in een \"authorative\" DNS server voor je domein. Doordat andere \n"
   ]
  },
  {
   "cell_type": "markdown",
   "id": "e2b049fd-3d31-44e4-a09a-0ca47e4db303",
   "metadata": {},
   "source": [
    "## Verhuizen van een website\n",
    "\n",
    "Er is nog een belangrijk voordeel aan het gebruik van namen in plaats van IP-adressen. Als het IP-adres van `www.ieni.org` verandert, bijvoorbeeld omdat deze website naar een zwaardere server overgebracht is, dan is het voldoende om de DNS-gegevens aan te passen: op die manier worden alle browsers die `www.ieni.org` gebruiken automatisch naar de nieuwe server gestuurd.\n",
    "\n",
    "(Na een dergelijke verhuizing kan het tot 24 uur duren voordat alle DNS-gegevens bijgewerkt en verspreid zijn, omdat er op alle niveaus *caching* plaatsvindt. In de praktijk gaat het vaak wel sneller, maar er kunnen altijd computers zijn die nog niet up-to-date zijn. Je moet zo'n verhuizing daarom wel zorgvuldig plannen.)"
   ]
  },
  {
   "cell_type": "markdown",
   "id": "e89877e2-472d-49b4-aa48-55e116d8be6c",
   "metadata": {},
   "source": [
    "```{exercise} Domeinnamen\n",
    "\n",
    "Zoek van een veelgebruikte domeinnaam uit wie deze geregistreerd heeft, met behulp van \"whois\".\n",
    "\n",
    "Tip: via bijvoorbeeld SIDN kun je nagaan of een domeinnaam nog vrij is, maar voor een naam die al in gebruik is, kun je de registratie-gegevens opvragen.\n",
    "\n",
    "```"
   ]
  },
  {
   "cell_type": "markdown",
   "id": "818f91ed-3c54-4c33-8467-7675ce0a7aa7",
   "metadata": {},
   "source": [
    "```{exercise} Een eigen domeinnaam kiezen\n",
    "\n",
    "Bedenk voor een eigen dienst (website) een domeinnaam, en controleer of deze beschikbaar is.\n",
    "\n",
    "Stel dat je dienst erg succesvol is; welke andere domeinnamen zou je dan willen hebben? (Soms wil je extra domeinen voor verwante diensten. Of je wilt voorkomen dat anderen een sterk-gelijkende domeinnaam gebruiken om jouw gebruikers te verwarren. Bijvoorbeeld: naast `ing.nl`, `ingbank.nl`, `ing-bank.nl`, `ing.com`, `ing.eu`, enz.)\n",
    "\n",
    "* welke domeinnaam kies je? welke andere domeinen komen eventueel in aanmerking?\n",
    "* welk TLD kies je voor je domein? Waarom?\n",
    "* kies je meerdere TLDs voor je domein? Waarom wel/niet?\n",
    "\n",
    "```"
   ]
  },
  {
   "cell_type": "markdown",
   "id": "96a01961-44ba-4563-9612-36403cd1d10f",
   "metadata": {},
   "source": [
    "```{exercise} DNS server problemen\n",
    "\n",
    "Omdat de snelheid van de domeinnaam-resolutie van belang is, houdt zowel de browser als het operating systeem vaak een eigen tabel (cache) bij. Als deze lokale kopie van de DNS-gegevens niet meer klopt met het origineel, kan dat problemen opleveren. \n",
    "\n",
    "* zie bijvoorbeeld: https://kinsta.com/nl/kennisbank/zo-los-je-de-fout-dns-server-not-responding-op-voor-windows-en-mac/\n",
    "\n",
    "Wat kan er misgaan als je DNS-server niet goed werkt: niet snel is, of niet het juiste resultaat geeft?\n",
    "\n",
    "```"
   ]
  },
  {
   "cell_type": "code",
   "execution_count": 2,
   "id": "27469bab-e465-4c61-9850-85a8c776f37e",
   "metadata": {},
   "outputs": [
    {
     "name": "stdout",
     "output_type": "stream",
     "text": [
      "Trying \"wikipedia.nl\"\n",
      ";; ->>HEADER<<- opcode: QUERY, status: NOERROR, id: 49274\n",
      ";; flags: qr rd ra; QUERY: 1, ANSWER: 1, AUTHORITY: 0, ADDITIONAL: 0\n",
      "\n",
      ";; QUESTION SECTION:\n",
      ";wikipedia.nl.\t\t\tIN\tA\n",
      "\n",
      ";; ANSWER SECTION:\n",
      "wikipedia.nl.\t\t3558\tIN\tA\t164.138.24.109\n",
      "\n",
      "Received 46 bytes from 192.168.178.1#53 in 8 ms\n",
      "Trying \"wikipedia.nl\"\n",
      ";; ->>HEADER<<- opcode: QUERY, status: NOERROR, id: 14643\n",
      ";; flags: qr rd ra; QUERY: 1, ANSWER: 0, AUTHORITY: 1, ADDITIONAL: 0\n",
      "\n",
      ";; QUESTION SECTION:\n",
      ";wikipedia.nl.\t\t\tIN\tAAAA\n",
      "\n",
      ";; AUTHORITY SECTION:\n",
      "wikipedia.nl.\t\t258\tIN\tSOA\tns091.auroradns.eu. admin.auroradns.eu. 2019011601 86400 7200 604800 300\n",
      "\n",
      "Received 90 bytes from 192.168.178.1#53 in 8 ms\n",
      "Trying \"wikipedia.nl\"\n",
      ";; ->>HEADER<<- opcode: QUERY, status: NOERROR, id: 19561\n",
      ";; flags: qr rd ra; QUERY: 1, ANSWER: 2, AUTHORITY: 0, ADDITIONAL: 0\n",
      "\n",
      ";; QUESTION SECTION:\n",
      ";wikipedia.nl.\t\t\tIN\tMX\n",
      "\n",
      ";; ANSWER SECTION:\n",
      "wikipedia.nl.\t\t3558\tIN\tMX\t10 primary.mail.pcextreme.nl.\n",
      "wikipedia.nl.\t\t3558\tIN\tMX\t20 fallback.mail.pcextreme.nl.\n",
      "\n",
      "Received 96 bytes from 192.168.178.1#53 in 6 ms\n"
     ]
    }
   ],
   "source": [
    "!host -v wikipedia.nl"
   ]
  },
  {
   "cell_type": "code",
   "execution_count": 3,
   "id": "0f20954c-b982-45ba-b0bd-6b1cbb1805f8",
   "metadata": {},
   "outputs": [
    {
     "name": "stdout",
     "output_type": "stream",
     "text": [
      "Server:\t\t192.168.178.1\n",
      "Address:\t192.168.178.1#53\n",
      "\n",
      "Non-authoritative answer:\n",
      "Name:\twikipedia.nl\n",
      "Address: 164.138.24.109\n",
      "\n"
     ]
    }
   ],
   "source": [
    "!nslookup wikipedia.nl"
   ]
  },
  {
   "cell_type": "code",
   "execution_count": 4,
   "id": "2345c9e3-f1b5-41a0-ab3c-a5d4d1ad6cbc",
   "metadata": {},
   "outputs": [
    {
     "name": "stdout",
     "output_type": "stream",
     "text": [
      "Server:\t\t1.1.1.1\n",
      "Address:\t1.1.1.1#53\n",
      "\n",
      "Non-authoritative answer:\n",
      "Name:\twikipedia.nl\n",
      "Address: 164.138.24.109\n",
      "\n"
     ]
    }
   ],
   "source": [
    "!nslookup wikipedia.nl 1.1.1.1"
   ]
  },
  {
   "cell_type": "code",
   "execution_count": 6,
   "id": "ebac1b81-e1ad-41cf-a5eb-fccb04def681",
   "metadata": {},
   "outputs": [
    {
     "name": "stdout",
     "output_type": "stream",
     "text": [
      "Using domain server:\n",
      "Name: 8.8.8.8\n",
      "Address: 8.8.8.8#53\n",
      "Aliases: \n",
      "\n",
      "wikipedia.nl has address 164.138.24.109\n",
      "wikipedia.nl mail is handled by 20 fallback.mail.pcextreme.nl.\n",
      "wikipedia.nl mail is handled by 10 primary.mail.pcextreme.nl.\n"
     ]
    }
   ],
   "source": [
    "!host wikipedia.nl 8.8.8.8"
   ]
  },
  {
   "cell_type": "markdown",
   "id": "3f14fade-50bc-4a1e-b750-960c996feafa",
   "metadata": {},
   "source": [
    "## Toetsvragen"
   ]
  },
  {
   "cell_type": "markdown",
   "id": "53990208-3237-4806-83e1-af5d3ad88a0e",
   "metadata": {},
   "source": [
    "```{dragndrop} Domeinnaam\n",
    "\n",
    "Gegeven zijn de URLs: `http:192.168.1.1`, `ftp:ieni.org`, `https:www.ieni.org`, `https:wikipedia.nl`\n",
    "\n",
    "Plaats de onderdelen bij het overeenkomstige begrip:\n",
    "\n",
    "* protocol\n",
    "    * `http`\n",
    "    * `https`\n",
    "    * `ftp`\n",
    "* subdomein\n",
    "    * `www`\n",
    "* domein\n",
    "    * `ieni`\n",
    "    * `wikipedia`\n",
    "* top-level domein\n",
    "    * `org`\n",
    "    * `nl`\n",
    "* ip-adres\n",
    "    * `192.168.1.1`\n",
    "    \n",
    "```"
   ]
  },
  {
   "cell_type": "markdown",
   "id": "295019eb-1d13-4920-bcd8-50d1fdcd31e5",
   "metadata": {},
   "source": [
    "```{fillintheblank} Onderdelen van een domeinnaam (hostnaam)\n",
    "\n",
    "Gegeven is de hostnaam `www.ieni.org`. Hier is `org` het {blank}`top-level`domein, `ieni` het {blank}`??`domein, en `www` het {blank}`sub`domein.\n",
    "\n",
    "* toelichting\n",
    "```"
   ]
  }
 ],
 "metadata": {
  "kernelspec": {
   "display_name": "Python 3 (ipykernel)",
   "language": "python",
   "name": "python3"
  },
  "language_info": {
   "codemirror_mode": {
    "name": "ipython",
    "version": 3
   },
   "file_extension": ".py",
   "mimetype": "text/x-python",
   "name": "python",
   "nbconvert_exporter": "python",
   "pygments_lexer": "ipython3",
   "version": "3.9.7"
  }
 },
 "nbformat": 4,
 "nbformat_minor": 5
}
