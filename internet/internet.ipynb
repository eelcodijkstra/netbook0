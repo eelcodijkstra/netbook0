{
 "cells": [
  {
   "cell_type": "markdown",
   "id": "2063d772-1e38-447d-a78b-81b22e8be301",
   "metadata": {},
   "source": [
    "# Het publieke internet\n",
    "\n",
    "```{Admonition} Concepten\n",
    "ISP, router, maasnetwerk, adressering, netwerk-prefix, host-adres, routering, BGP, peering, transit\n",
    "```"
   ]
  },
  {
   "cell_type": "markdown",
   "id": "5749ee11-399b-4ff6-86ef-d6a6b1315641",
   "metadata": {},
   "source": [
    "```{figure} images/internet-tiers.png\n",
    ":width: 600px\n",
    "\n",
    "Internet-tiers\n",
    "```"
   ]
  },
  {
   "cell_type": "markdown",
   "id": "37995827-4698-4101-8d15-e6b7c1d21fdc",
   "metadata": {},
   "source": [
    "Het internet is een netwerk van netwerken.\n",
    "De thuisrouter is de *gateway* van het lokale netwerk naar het publieke internet:\n",
    "naar alle netwerken die daarin verbonden zijn, met hun hosts.\n",
    "\n",
    "De thuisrouter maakt deel uit van het netwerk van de Internet Service Provider.\n",
    "Dit ISP-netwerk is via routers/gateways verbonden met de netwerken van andere ISPs,\n",
    "en uiteindelijk met de *Tier-1* netwerken die de *backbone* van het internet vormen."
   ]
  },
  {
   "cell_type": "markdown",
   "id": "1fbbf782-b0c2-4783-86aa-84d4b0176812",
   "metadata": {},
   "source": [
    "```{figure} images/maas-netwerk.png\n",
    ":width: 400px\n",
    "\n",
    "Internet als maas-netwerk: elk punt is een router \n",
    "```"
   ]
  },
  {
   "cell_type": "markdown",
   "id": "da85314a-ed32-49dc-ab75-e79a9b35c370",
   "metadata": {},
   "source": [
    "De netwerken zijn onderling sterk verknoopt in een *maasnetwerk*.\n",
    "Dit betekent dat er tussen elk tweetal punten (netwerken) meestal meerdere paden door het netwerk te vinden zijn.\n",
    "Er is dan bij het uitvallen van een enkele verbinding of van een enkel knoopput (router) nog steeds communicatie mogelijk."
   ]
  },
  {
   "cell_type": "markdown",
   "id": "3a282ab0-fcef-46cc-ac9b-7dc1050e7048",
   "metadata": {},
   "source": [
    "Net als in het verkeersnetwerk kunnen er in het internet files en opstoppingen ontstaan, en storingen door verbindingen of routers die (tijdelijk) niet werken. \n",
    "Het routeren van een pakket door het internet lijkt sterk op het probleem van een routeplanner (\"TomTom\"), die met al die factoren rekening moet houden."
   ]
  },
  {
   "cell_type": "markdown",
   "id": "bad7eaec-755e-4134-a27f-bb685e2dd422",
   "metadata": {},
   "source": [
    "Deze *redundantie* (letterlijk overtolligheid, hier eigenlijk *overdimensionering*) zorgt ervoor dat het netwerk betrouwbaar is, ook bij storingen en plaatselijke overbelasting. \n",
    "\n",
    "Het \"beste pad\" voor een pakket tussen A en B is niet op elk moment hetzelfde. Niet alleen de capaciteit van de verbindingen en van de routers bepalen het beste pad, maar ook de eventuele storingen en de huidige verkeersdruk."
   ]
  },
  {
   "cell_type": "markdown",
   "id": "6c3562b4-1d69-4334-bbcb-2d2b2aba9d2e",
   "metadata": {},
   "source": [
    "## Adressering"
   ]
  },
  {
   "cell_type": "markdown",
   "id": "a7b25f72-a146-4df1-adef-0ad3738c6564",
   "metadata": {},
   "source": [
    "De communicatie in het internet is gebaseerd op pakketten: elk pakket bevat, naast de eigenlijke data (de \"payload\"), het internetadres van de bestemming en dat van de afzender."
   ]
  },
  {
   "cell_type": "markdown",
   "id": "f2872492-0363-481e-ba72-9997282bbf52",
   "metadata": {},
   "source": [
    "```{margin}\n",
    "Je kunt een internetadres vergelijken met een postadres: de plaatsnaam/straatnaam (postcode) bepaalt de straat, het huisnummer het huis in de straat.\n",
    "```"
   ]
  },
  {
   "cell_type": "markdown",
   "id": "07db62a1-cc16-4776-890b-8207bdd4037d",
   "metadata": {},
   "source": [
    "Een internetadres (IP-adres) bestaat uit twee gedeelten: (i) de netwerkprefix (het netwerkadres); en (ii) het adres van de host in het netwerk.\n",
    "De netwerkprefix wordt gebruikt voor het routeren van het pakket naar het juiste netwerk. Daarna zorgt de lokale router voor de bezorging bij de host."
   ]
  },
  {
   "cell_type": "markdown",
   "id": "ffa0d9cd-abf7-4cf5-b7c7-ce82bcac913f",
   "metadata": {},
   "source": [
    "```{margin}\n",
    "De notatie 192.169.47.34/24 heet wel de *CIDR* notatie.\n",
    "```"
   ]
  },
  {
   "cell_type": "markdown",
   "id": "da4bfb2e-e754-47fe-addf-c943311c8ad1",
   "metadata": {},
   "source": [
    "**IPv4** De netwerk-prefix geef je aan door `/xx`, waarbij `xx` het aantal bits van de prefix is; of door het *netmasker*, waarin de binaire 1-en aangeven welk deel tot de netwerk-prefix hoort.\n",
    "\n",
    "Het adres van een netwerk is de netwerk-prefix aangevuld met 0-en; bijvoorbeeld: 192.168.3.12/24, met als netmasker 255.255.255.0, heeft als netwerkadres: 192.168.3.0.\n",
    "\n",
    "De rest van het IP-adres, na de prefix, bepaalt het *aantal mogelijke host-adressen* in het netwerk. Hierbij zijn twee adressen gereserveerd: allemaal 0-en voor het netwerk-adres en allemaal 1-en voor een broadcast-pakket.\n",
    "\n",
    "Voor het bovenstaande voorbeeld is het netwerkadres 192.168.3.0 en het broadcastadres 192.168.3.255. In dit voorbeeld blijven er dan 256-2=254 host-adressen over, van 192.168.3.1 t/m 192.168.3.254. Meestal wordt één van beide uitersten gebruikt voor de gateway, hier 192.168.3.1 of 192.178.3.254."
   ]
  },
  {
   "cell_type": "markdown",
   "id": "b5067eed-60cb-4470-a465-8a7f0595354e",
   "metadata": {},
   "source": [
    "**IPv6** Bovenstaande geldt voor IPv4-adressen. Een IPv6-adres bestaat uit 128 bits, waarvan de eerste 64 bits de netwerk-prefix zijn, en de laatste 64 bits het host-adres in het netwerk."
   ]
  },
  {
   "cell_type": "markdown",
   "id": "1e8fcec2-8f8a-40d8-9293-93b22c4b77ab",
   "metadata": {},
   "source": [
    "## Routering"
   ]
  },
  {
   "cell_type": "markdown",
   "id": "7f107f51-491d-4b07-ab50-6d0baa8e7c98",
   "metadata": {},
   "source": [
    "Hoe komt een internet-pakket van A naar B? De *routering* van internet-pakketten gebeurt (i) voor elk pakket afzonderlijk, en (ii) stap voor stap.\n",
    "\n",
    "```{margin}\n",
    "Een routeplanner voor wegverkeer werkt anders: deze bepaalt vooraf de hele route.\n",
    "```\n",
    "\n",
    "Een router die een pakket ontvangt bepaalt of dit bestemd is voor een lokaal netwerk dat aan deze router verbonden is; zo ja, dan stuurt de router het pakket direct naar de bestemmings-host (zie het gedeelte over het lokale netwerk).\n",
    "Zo nee, dan bepaalt de router wat in de aanliggende netwerken de eerstvolgende router is die een stap dichter bij de bestemming ligt, en stuurt het pakket naar die router."
   ]
  },
  {
   "cell_type": "markdown",
   "id": "ddc80341-92de-4a63-abce-bed9b5b85768",
   "metadata": {},
   "source": [
    "**(+)** Elke router heeft informatie over de netwerken die via deze router bereikbaar zijn, direct en indirect; en wat voor de indirecte routes de eerstvolgende router is. Deze informatie wordt tussen de routers uitgewisseld via het *Border Gateway Protocol*.\n",
    "\n",
    "* https://en.wikipedia.org/wiki/Border_Gateway_Protocol\n",
    "* https://www.imperva.com/blog/bgp-routing-explained/"
   ]
  },
  {
   "cell_type": "markdown",
   "id": "4da2c57e-9196-47ec-8fbb-95447cada22f",
   "metadata": {},
   "source": [
    "Een pakket kan onderweg verloren raken, ten gevolge van een storing of door overbelansting van een router. Bovendien wordt, zoals gezegd, elk pakket afzonderlijk gerouteerd. Dit betekent dat (i) niet alle pakketten op hun bestemming aankomen; en dat (ii) de pakketten in een andere volgorde bij de bestemming kunnen aankomen dan waarin ze verzonden zijn."
   ]
  },
  {
   "cell_type": "markdown",
   "id": "4de1b4e2-651c-41d6-a834-af87ba2bb64c",
   "metadata": {},
   "source": [
    "```{margin}\n",
    "*end-to-end*: in hosts A en B, niet in het netwerk.\n",
    "```"
   ]
  },
  {
   "cell_type": "markdown",
   "id": "bd88576c-3c87-4991-a15a-61ca9b5cbcc3",
   "metadata": {},
   "source": [
    "*Voorbeeld.* Stel, host A stuurt 3 pakketten: p1, p2, en p3. Bij de bestemming B kunnen deze pakketten in alle (6) volgordes aankomen: p1, p2, p3; p1, p3, p2; p2, p1, p3; ... En bovendien kunnen in deze volgordes pakketten ontbreken. Met als gevolg: als B pakket p3 ontvangt weet deze niet of p1 en p2 verloren geraakt zijn, of nog onderweg zijn.\n",
    "Als je wilt garanderen dat alle pakketten aankomen, en dat de volgorde gehandhaafd blijft, heb je een *end-to-end* protocol nodig dat daarvoor zorgt. Het TCP protocol is daarvan een voorbeeld."
   ]
  },
  {
   "cell_type": "markdown",
   "id": "8f70aed3-800d-4849-9cd9-6308f1aec842",
   "metadata": {},
   "source": [
    "## (+) Internet backbone"
   ]
  },
  {
   "cell_type": "markdown",
   "id": "a6a5246e-9a80-4ec2-b1df-5b3e12bdb569",
   "metadata": {},
   "source": [
    "De netwerken van de Internet Service Providers zijn op verschillende manieren op elkaar aangesloten, met verschillende soorten afspraken:\n",
    "\n",
    "* een kleiner netwerk (\"Tier-3\") moet voor de aansluiting op een groter netwerk meestal betalen: het grote netwerk levert meer voordeel voor het kleine netwerk op, dan omgekeerd. Er is dan sprake van een *transit overeenkomst*; het kleinere netwerk is de klant van het grotere netwerk. (Dit kun je vergelijken met de overeenkomst die je als consument met een ISP hebt.)\n",
    "* de grootste netwerken (\"Tier-1\") betalen niet voor de aansluiting op een ander groot netwerk: de voordelen zijn voor beide ongeveer gelijk. Er is dan sprake van een *peering overeenkomst* zonder betaling.\n",
    "* de middelgrote netwerken (\"Tier-2\") hebben een combinatie van transit- en peering-overeenkomsten met betaling voor de aansluiting op grotere netwerken, en peering overeenkomsten met vergelijkbare netwerken.\n",
    "\n",
    "Veel overeenkomsten tussen ISPs zijn geheim, waardoor niet duidelijk is of er sprake is van aan transit-overeenkomst of van peering op basis van gelijkwaardigheid.\n",
    "\n",
    "* https://en.wikipedia.org/wiki/Tier_1_network\n",
    "* https://nl.wikipedia.org/wiki/Tier_1-netwerk\n",
    "* https://nl.wikipedia.org/wiki/Peering\n",
    "* https://en.wikipedia.org/wiki/Internet_backbone\n",
    "\n",
    "Vooral de Tier-1 netwerken hebben grote internationale glasvezel-verbindingen, met onderzeese verbindingen.\n",
    "Een kaart van de verbindingen wereldwijd vind je bijvoorbeeld op:\n",
    "\n",
    "* https://www.infrapedia.com/app\n",
    "* https://www.vox.com/a/internet-maps (historische ontwikkeling van het internet)\n",
    "\n",
    "Deze netwerken worden op elkaar aangesloten via Internet Exchange Points (IXPs).\n",
    "Eén van de grootste IXPs is IXP Amsterdam.\n",
    "\n",
    "* https://en.wikipedia.org/wiki/Internet_exchange_point\n",
    "* https://nl.wikipedia.org/wiki/Amsterdam_Internet_Exchange\n",
    "* https://www.ams-ix.net/ams\n"
   ]
  },
  {
   "cell_type": "markdown",
   "id": "34a9c944-c75f-451b-80fe-45d15ab54902",
   "metadata": {},
   "source": [
    "## (+) Content Delivery Networks"
   ]
  },
  {
   "cell_type": "markdown",
   "id": "ae74684f-a1ef-42f7-8b8d-7f01e7cf2cc3",
   "metadata": {},
   "source": [
    "Veel web-content is *statisch*, dat wil zeggen, deze is voor een groot deel van de gebruikers gelijk. Dat geldt niet alleen voor statische websites, die niet afhangen van de gebruiker of van de toestand van de server. Het geldt ook voor vaak omvangrijke onderdelen zoals foto's, video's, JavaScript-libraries en dergelijke. Voor dergelijke content heeft het zin om deze te *cachen*, bij voorkeur in de buurt van de gebruikers. *Content Delivery Networks* bieden dat als dienst aan, om zo de snelheid van websites te vergroten en tegelijkertijd de webservers van de aanbieders te ontlasten.\n",
    "Voorbeelden van dergelijke CDN-aanbieders zijn: Akamai, Cloudflare, Fastly"
   ]
  },
  {
   "cell_type": "markdown",
   "id": "0e8ff660-75a6-4a5c-95ba-6ec92e174ff4",
   "metadata": {},
   "source": [
    "## (+) Van wie is het internet?"
   ]
  },
  {
   "cell_type": "markdown",
   "id": "42dfd9ad-a3d1-4997-a0cd-3e7fd661f2e8",
   "metadata": {},
   "source": [
    "Het internet is van niemand, of beter: van ons allemaal. Het is niet het eigendom van een bedrijf of van een overheid. Het is een gemeenschappelijke activiteit van een groot aantal organisaties, bedrijven, overheden, en individuen.\n",
    "\n",
    "Er zijn wel organisaties die proberen de ontwikkelingen rond het internet in goede banen te leiden; enkele van de belangrijkste daarvan:\n",
    "\n",
    "* ISOC: de internet society\n",
    "    * *The Internet is for Everyone* - This vision drives everything we do\n",
    "    *  https://www.internetsociety.org/internet/how-it-works/\n",
    "    * http://www.internetsociety.org/who-we-are\n",
    "* IETF: de technische organisatie die verantwoordelijk is voor de *protocollen* die in het internet gebruikt worden.\n",
    "    * deze protocollen worden beschreven in zogenaamde *Request for Comments* (RFCs): dit zijn publieke documenten van een werkgroep waar iedereen met verstand van zaken gedurende een bepaalde periode commentaar op kan leveren. Veel van deze RFCs, zeker de oudere, zijn een voorbeeld van helder technisch taalgebruik.\n",
    "    * https://www.rfc-editor.org/rfc/rfc8700.html#name-key-moments-in-rfc-history\n",
    "    * in principe kan iedereen met verstand van zaken deelnemen in de IETF werkgroepen; dat is niet gebonden aan andere organisaties of bedrijven. - https://www.ietf.org/about/participate/\n",
    "* SIDN: beheert het .nl-domein\n",
    "    * https://www.sidn.nl/over-sidn/ons-verhaal\n",
    "    * https://www.sidn.nl/over-sidn/waar-wij-voor-staan\n",
    "* ICANN: Internet Corporation for Assigned Names and Numbers\n",
    "    * https://www.icann.org\n",
    "    * ICANN organiseert IANA: Internet Assigned Numbers Authority\n",
    "    * deelt nummers uit voor gebruik in de internet-protoollen: IP-nummers, socket-nummers, protocol-nummers, enz.; en (domein)namen: DNS root, TLD (top level domeinen registratie), .int en .arpa domeinen beheer.\n",
    "* W3C: Word Wide Web Consortium - standaardisatie van het web (HTML, CSS, JavaScript)\n",
    "    * https://en.wikipedia.org/wiki/World_Wide_Web_Consortium\n",
    "    * https://www.w3.org\n",
    "\n",
    "De organisatie van het internet is uniek, en een voorbeeld waar grootschalige open samenwerking toe kan leiden. De bovenstaande organisaties zijn allemaal non-profit organisaties met leden. Veel van het werk wordt door vrijwilligers gedaan, en de organisaties zijn erg open en welkom voor nieuwkomers."
   ]
  }
 ],
 "metadata": {
  "kernelspec": {
   "display_name": "Python 3 (ipykernel)",
   "language": "python",
   "name": "python3"
  },
  "language_info": {
   "codemirror_mode": {
    "name": "ipython",
    "version": 3
   },
   "file_extension": ".py",
   "mimetype": "text/x-python",
   "name": "python",
   "nbconvert_exporter": "python",
   "pygments_lexer": "ipython3",
   "version": "3.9.7"
  }
 },
 "nbformat": 4,
 "nbformat_minor": 5
}
