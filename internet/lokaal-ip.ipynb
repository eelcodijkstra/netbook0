{
 "cells": [
  {
   "cell_type": "markdown",
   "id": "68930608-4736-4062-95ae-d889af80b995",
   "metadata": {},
   "source": [
    "# IP in het lokale netwerk"
   ]
  },
  {
   "cell_type": "markdown",
   "id": "381d64ea-98b0-477b-a0b4-83eb8842ee1f",
   "metadata": {},
   "source": [
    "```{admonition} Concepten\n",
    "MAC-adres, IP-adres, bus, Ethernet, WiFi, frame, collision, LAN-routering, switch, gateway\n",
    "```"
   ]
  },
  {
   "cell_type": "markdown",
   "id": "c99c91ef-bcd3-40c8-8cbc-8bb8e1445cdd",
   "metadata": {},
   "source": [
    "## Lokale IP-communicatie"
   ]
  },
  {
   "cell_type": "markdown",
   "id": "f261fd9a-b919-421c-89c3-42418da1ef07",
   "metadata": {},
   "source": [
    "De communicatie van IP-pakketten gebeurt in het lokale netwerk op basis van de Ethernet- en WiFi-verbindingen. Een IP-pakket wordt hiervoor ingepakt in een Ethernet- of WiFi-frame, wat voorzien moet worden van de juiste MAC-adresssen."
   ]
  },
  {
   "cell_type": "markdown",
   "id": "36d03b36-826e-4c45-bb15-6c772075e6fe",
   "metadata": {},
   "source": [
    "```{figure} images/ip-in-ethernet-frame.png\n",
    ":width: 600px\n",
    "\n",
    "IP-pakket ingepakt in een Ethernet frame\n",
    "```"
   ]
  },
  {
   "cell_type": "markdown",
   "id": "ec9d1760-b7e6-42fd-8f10-e7d0b9f7a6cd",
   "metadata": {},
   "source": [
    "Als een host in het lokale netwerk een IP-pakket wil versturen, bepaalt deze host eerst of de bestemming een IP-adres in het lokale netwerk is, of daarbuiten. Voor een pakket in het lokale netwerk wordt het MAC-adres van de bestemming gebruikt. Een pakket met een bestemming buiten het lokale netwerk krijgt het MAC-adres van de gateway: die stuurt het pakket verder.\n",
    "\n",
    "*Hoe bepaalt een host of een IP-adres een adres in het lokale netwerk is?* Dit gebeurt aan de hand van het *netmasker*. Het netmasker geeft aan welke bits tot de *netwerkprefix* van het adres horen, en welke het host-adres in het netwerk vormen. Als de netwerkprefix van de bestemming verschilt van de eigen netwerkprefix van de host, dan is het pakket voor een ander netwerk bestemd."
   ]
  },
  {
   "cell_type": "markdown",
   "id": "c41ccaa1-a6d7-4523-94b9-e6ee2e8005dc",
   "metadata": {},
   "source": [
    "```{admonition} Voorbeeld\n",
    "Het netmasker is 255.255.255.0, en het IP-adres van de host is 192.168.3.42. Dit betekent dat de netwerkprefix 192.168.3.0 is, en het host-deel van het adres 42.\n",
    "\n",
    "\n",
    "| netmasker (decimaal)         | 255.255.255.0                         |\n",
    "| :---                         | :---                                  |\n",
    "| IP-adres (decimaal)          | 192.168.3.42                          |\n",
    "| IP-adres (binair)            | `11000000.10101000.00000011.00101010` |\n",
    "| netmasker (binair)           | `11111111.11111111.11111111.00000000` |\n",
    "| \"and\" van masker en IP-adres | `11000000.10101000.00000011.00000000` |\n",
    "| netwerkadres (decimaal)      | 192.168.3.0                           |\n",
    "\n",
    "IP-adres 192.168.3.27 valt in hetzelfde netwerk. IP-adres 192.168.7.27 valt in een ander netwerk, net als 27.63.12.13.\n",
    "\n",
    "```"
   ]
  },
  {
   "cell_type": "markdown",
   "id": "0198ef80-f7e8-4c16-a6cd-859c84b53fee",
   "metadata": {},
   "source": [
    "*Hoe weet een host het MAC-adres van een andere host in het lokale netwerk, op basis van het IP-adres daarvan?*\n",
    "Elke host houdt daarvoor een tabel bij met lokale IP-adressen en bijbehorende MAC-adressen.\n",
    "Om deze tabel te vullen voor een bepaald IP-adres, stuurt de host een verzoek naar alle andere hosts in het netwerk (*broadcast*), met daarin het gezochte IP-adres.\n",
    "De host met dit gezochte IP-adres stuurt een antwoord terug met daarin het eigen MAC-adres ingevuld. (Address Resolution Protocol, ARP)."
   ]
  },
  {
   "cell_type": "markdown",
   "id": "09f9d3b5-9fc5-4403-97ed-8ae1e9f792a3",
   "metadata": {},
   "source": [
    "Je kunt uit het netmasker ook bepalen hoeveel hosts er maximaal in het netwerk kunnen zijn.\n",
    "De 0-en aan het eind van het netmasker zijn beschikbaar voor het netwerk zelf.\n",
    "*Voorbeeld.* Acht 0-en geeft 256 mogelijke adressen; daarvan zijn er 2 gereserveerd: `00000000` is het netwerkadres; `11111111` is het broadcast-adres. Bovendien heb je nog een adres nodig voor de gateway; deze heeft meestal adres `00000001` of `11111110` (decimaal 254). Blijven er 253 over voor hosts in het netwerk."
   ]
  },
  {
   "cell_type": "markdown",
   "id": "3e0e7995-3c45-4b61-9d14-669d6103b566",
   "metadata": {},
   "source": [
    "## Netwerk-prefix\n",
    "\n",
    "Een IP-adres bestaat uit twee delen: het adres van het netwerk (de netwerk-prefix), en het adres van host in het netwerk. Bij IPv4 zijn er twee manieren om de grens tussen deze twee delen aan te geven:\n",
    "\n",
    "* door de prefix-lengte, in de notatie `/xx`, waarin *xx* het aantal bits van de prefix aangeeft.\n",
    "* door het netmasker, in decimale notatie voor de bytes, bijvoorbeeld `255.255.254.0`. Hierin geven de \"1\"-bits aan welk deel tot de prefix behoort.\n",
    "\n",
    "Voor het uitrekenen van de lengte uit een byte-masker (of omgekeerd) kun je de volgende tabel gebruiken:"
   ]
  },
  {
   "cell_type": "markdown",
   "id": "4c4d243a-b675-4f4a-854c-fcf5ba7a3aab",
   "metadata": {},
   "source": [
    "```{figure} images/prefix-tabel.png\n",
    ":width: 300px\n",
    "\n",
    "Verband tussen byte-masker en prefix-lengte\n",
    "```"
   ]
  },
  {
   "cell_type": "markdown",
   "id": "8dfa6ccd-1738-4fb7-85dd-48a3e8aaab49",
   "metadata": {},
   "source": [
    "Voorbeeld: het netmasker `255.255.254.0` komt overeen met prefix-lengte 8 + 8 + 7 + 0 = 23. Het netmasker `255.255.248.0` geeft prefix-lengte 8 + 8 + 5 + 0 = 21.\n",
    "\n",
    "> Een IPv6 adres bestaat uit 128 bits: de eerste 64 bits vormen het netwerkadres; de laatste 64 bits, het adres van de host in het netwerk.\n"
   ]
  },
  {
   "cell_type": "markdown",
   "id": "b3166e44-863e-488e-9b7e-b9f5403df215",
   "metadata": {},
   "source": [
    "## Communicatie met het internet: NAT"
   ]
  },
  {
   "cell_type": "markdown",
   "id": "2eae7bf6-8499-425f-87cb-b4a3eeef2190",
   "metadata": {},
   "source": [
    "Een IP-pakket bestemd voor een apparaat buiten het lokale netwerk wordt ingepakt in een Ethernet- of WiFi-frame naar de gateway. De gateway stuurt dit pakket dan via de WAN-verbinding van het ISP-netwerk door naar de eerstvolgende router/gateway in het pad naar de bestemming.\n",
    "\n",
    "De lokale router/gateway gebruikt hierbij vaak Network Address Translation (NAT). In het lokale netwerk worden \"private\" IP-adresssen gebruikt, bijvoorbeeld 192.168.4.23. Zo'n adres is onbruikbaar in het publieke internet. De gateway vervangt daarom het afzender-IP-adres van een uitgaand pakket door het eigen IP-adres in het ISP-netwerk. Dit is wel een publiek IP-adres.\n",
    "\n",
    "Een gevolg hiervan is dat alle apparaten in het lokale netwerk hetzelfde publieke IP-adres krijgen, nl. het adres van de router/gateway."
   ]
  },
  {
   "cell_type": "markdown",
   "id": "32fad339-21d3-44fa-94b7-8abe9f74e2d6",
   "metadata": {},
   "source": [
    "### (+) Hoe werkt NAT?\n",
    "\n",
    "Op een uitgaand pakket volgt vaak een antwoord van het apparaat elders in het internet. Hoe kan de gateway er dan voor zorgen dat dit antwoord bij het juiste apparaat in het lokale netwerk terecht komt? Immers, alle lokale apparaten delen hetzelfde publieke IP-adres.\n",
    "\n",
    "```{margin}\n",
    "Bekende poortnummers zijn bijvoorbeeld 80 (HTTP: webserver), 443 (HTTPS: webserver), 22 (SSH: secure shell).\n",
    "```\n",
    "\n",
    "De oplossing hiervoor is om deze NAT-vertaling niet (alleen) op het niveau van IP-pakketten te doen, maar ook op het niveau direct daarboven: van de UDP-datagrammen (berichten) en TCP-segmenten. Deze \"hoger-niveau pakketten\" bevatten een extra adres: het host-poortnummer. Het UDP- of TCP-protocol gebruikt dit poortnummer om aan te geven welke toepassing op de host aan deze communicatie gekoppeld is.\n",
    "\n",
    "```{figure} images/udp-in-ip-pakket.png\n",
    ":width: 600px\n",
    "\n",
    "UDP-datagram ingepakt in een IP-pakket\n",
    "```\n",
    "\n",
    "Bij de NAT-vertaling wordt de lokale combinatie (IP-adres, poortnummer) omgezet in een publieke combinatie (gateway publiek IP-adres, poortnummer). Bij ontvangst van een inkomend bericht voert de gateway de omgekeerde omzetting uit.\n",
    "\n",
    "| lokaal IP-adres | lokaal poortnr | publiek IP-adres | publiek poortnr |\n",
    "| --:             |  --:           |   --:            | --:             |\n",
    "| 192.168.4.23    | 8010           | 94.231.226.38    | 8113            |\n",
    "| 192.168.4.37    | 8010           | 94.231.226.38    | 8117            |\n",
    "| 192.168.4.23    | 3712           | 92.231.226.38    | 8114            |\n",
    "| 192.168.4.30    | 3720           | 92.231.226.38    | 3512            |\n",
    "\n",
    "Zoals je ziet delen alle lokale computers hetzelfde publieke IP-adres: het adres van de gateway. Alleen aan de hand van de (UDP, TCP, etc.) poortnummers kan de gateway het onderscheid maken, bij het ontvangen van een pakket \"van buiten\".\n",
    "\n",
    "Deze tabel wordt ingevuld door de gateway: voor een uitgaand pakket met een nieuwe (IP-adres, poortnummer) combinatie wordt een nieuw publiek poortnummer toegewezen.\n",
    "\n",
    "### (+) Van publiek internet naar lokaal netwerk\n",
    "\n",
    "NAT-vertaling werkt op zich prima voor het lokale verkeer naar het internet, zoals bij het gebruik van (web)servers in het internet.\n",
    "Maar op deze manier is een apparaat in het lokale netwerk niet van buiten te bereiken.\n",
    "Dat kan een probleem zijn bijv. voor bepaalde games; of als je een lokale computer wilt gebruiken als web- of file-server in het publieke internet.\n",
    "\n",
    "Een oplossing hiervoor is het *openzetten van een poort* (port sharing): je kunt voor de combinatie van een lokaal (IP-adres, poortnr) een publiek poortnr in deze tabel zetten.\n",
    "Via deze publieke poort is je lokale apparaat dan van buiten bereikbaar.\n",
    "Dit kan gevolgen hebben voor de veiligheid van het netwerk: als de besturing van een computer in het netwerk van buiten overgenomen kan worden, is het hele lokale netwerk toegankelijk.\n",
    " "
   ]
  }
 ],
 "metadata": {
  "kernelspec": {
   "display_name": "Python 3 (ipykernel)",
   "language": "python",
   "name": "python3"
  },
  "language_info": {
   "codemirror_mode": {
    "name": "ipython",
    "version": 3
   },
   "file_extension": ".py",
   "mimetype": "text/x-python",
   "name": "python",
   "nbconvert_exporter": "python",
   "pygments_lexer": "ipython3",
   "version": "3.9.7"
  }
 },
 "nbformat": 4,
 "nbformat_minor": 5
}
