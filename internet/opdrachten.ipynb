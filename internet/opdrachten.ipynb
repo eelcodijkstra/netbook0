{
 "cells": [
  {
   "cell_type": "markdown",
   "id": "88c7094a-3236-491c-9e3a-328ac53ce321",
   "metadata": {},
   "source": [
    "# Opdrachten"
   ]
  },
  {
   "cell_type": "markdown",
   "id": "aff08949-c6aa-46ce-8745-d8ebff0718eb",
   "metadata": {},
   "source": [
    "```{exercise} Beschrijf een lokaal netwerk\n",
    ":label: opdracht-1\n",
    "\n",
    "Beschrijf een (deel van een) lokaal netwerk, bijvoorbeeld je thuisnetwerk, tot en met de aansluiting op het netwerk van de Internet Service Provider.\n",
    "\n",
    "* geef aan welke apparaten hierin voorkomen\n",
    "* geef van elk apparaat aan of dit een eindapparaat is of een netwerkapparaat\n",
    "* geef aan met welk(e) medium (media) dit apparaat in het netwerk verbonden is\n",
    "* probeer zo mogelijk de Ethernet of WiFi MAC-adressen van deze apparaten te achterhalen\n",
    "\n",
    "De MAC-adressen van een apparaat staan gewoonlijk op een sticker op het apparaat.\n",
    "\n",
    "```"
   ]
  },
  {
   "cell_type": "markdown",
   "id": "8e8ad07d-65f5-4371-a8f0-e9a939e605a2",
   "metadata": {},
   "source": [
    "```{exercise} Verken een lokaal netwerk\n",
    ":label: opdracht-2\n",
    "\n",
    "Verken een lokaal netwerk, bijvoorbeeld je thuisnetwerk, met behulp van scan-software:\n",
    "\n",
    "* maak een tabel van de aanwezige apparaten met hun MAC-adres en IP-adres\n",
    "* welke van deze apparaten bieden een web-interface? (Met welk doel?)\n",
    "* zijn er ook IoT-apparaten in deze tabel?\n",
    "```"
   ]
  },
  {
   "cell_type": "markdown",
   "id": "3cb47738-4b83-48af-abb1-75a139e467ef",
   "metadata": {},
   "source": [
    "```{tip}\n",
    "Enkele voorbeelden van software voor het scannen van een lokaal netwerk:\n",
    "\n",
    "* Universeel: nmap (https://nmap.org/)\n",
    "    * een grafisch gebruikersinterface hiervoor: Zenmap (https://nmap.org/zenmap/)\n",
    "* Windows: Advanced Port Scanner (https://www.advanced-port-scanner.com/)\n",
    "* App voor smartphone: Fing (vood iOS en Android)\n",
    "\n",
    "Als je zoekt op \"port scanner\", \"network scanner\" of \"IP scanner\" vind je nog meer alternatieven.\n",
    "```\n",
    "\n"
   ]
  },
  {
   "cell_type": "markdown",
   "id": "58d93bf7-5daf-4175-b437-dff2552489b8",
   "metadata": {},
   "source": [
    "```{exercise} Hoe krijgt je computer een IP-adres?\n",
    ":label: opdracht-3\n",
    "\n",
    "Ga in de *netwerkinstellingen* voor je computer (laptop of desktop) na op welke manier deze het IP-adres gekregen heeft in het huidige netwerk: \n",
    "\n",
    "(a) heeft deze het IP- adres automatisch gekregen (via DHCP) of via een handmatige instelling? \n",
    "\n",
    "(b) wat is het adres van de (residential) gateway (thuisrouter)?\n",
    "\n",
    "(c) wat is het netwerkadres of subnetmasker?\n",
    "```"
   ]
  },
  {
   "cell_type": "markdown",
   "id": "f6f69a97-feca-47cc-afbe-07af9f703fcf",
   "metadata": {},
   "source": [
    "```{exercise} Wat is het IP-adres thuis en op school?\n",
    ":label: opdracht-4\n",
    "\n",
    "Als je een laptop hebt die je zowel thuis als elders, bijvoorbeeld op school, in het netwerk kunt verbinden,\n",
    "voer dan {ref}`opdracht-3` uit voor die verschillende netwerken.\n",
    "\n",
    "Vergelijk de resultaten. Hoe verklaar je de mogelijke verschillen en overeenkomsten?\n",
    "```"
   ]
  },
  {
   "cell_type": "markdown",
   "id": "389d55a3-132e-4a9d-b53a-5758c7114462",
   "metadata": {},
   "source": [
    "```{tip} Hoe vind je de netwerkinstellingen van je computer?\n",
    "\n",
    "* Windows: https://support.microsoft.com/en-us/windows/change-tcp-ip-settings-bd0a07af-15f5-cd6a-363f-ca2b6f391ace \n",
    "* Chromebook: https://support.google.com/chromebook/answer/1047420?hl=nl&ref_topic=3406281\n",
    "* Apple OS X:\n",
    "    * open systeemvoorkeuren -> Netwerken\n",
    "    * klik voor het verbonden netwerk op \"geavanceerd\" en kies vervolgens de TCP/IP tab.\n",
    "* Linux: https://www.cyberciti.biz/faq/linux-list-network-interfaces-names-command/\n",
    "```"
   ]
  },
  {
   "cell_type": "markdown",
   "id": "7d7f5ee7-f652-4ab6-bd24-400510b0e933",
   "metadata": {},
   "source": [
    "```{exercise} computer IP-adres: lokaal en publiek\n",
    ":label: opdracht-5\n",
    "\n",
    "(a) Wat is het IP-adres van je computer:\n",
    "\n",
    "* in het lokale netwerk (thuis of op school)? Deze informatie vind je in de netwerkinstellingen van je computer; of eventueel via een scan van het netwerk, of in de DHCP-tabel van de thuisrouter.\n",
    "* in het publieke internet? Dit vind je via een toepassing als: https://www.whatismyip.com.\n",
    "\n",
    "(b) Idem, voor een tweede computer in hetzelfde lokale netwerk\n",
    "\n",
    "(c) Verklaar je resultaten met behulp van de uitleg over NAT-routering.\n",
    "```"
   ]
  },
  {
   "cell_type": "markdown",
   "id": "323c2359-ea50-4800-aed4-7a938fffe1ff",
   "metadata": {},
   "source": [
    "```{tip}\n",
    "Een aantal opdrachten hieronder heeft betrekking op het bestuderen van een thuisrouter via de webinterface.\n",
    "Je kunt eventueel experimenteren met een oude router die je (via Ethernet) aansluit op een ander netwerk, thuis of op school. Daarmee maak je een eigen lokaal netwerk, zonder het andere netwerk te verstoren.\n",
    "```"
   ]
  },
  {
   "cell_type": "markdown",
   "id": "7db0fe5f-f5de-4823-aca1-447f9b8c3f74",
   "metadata": {},
   "source": [
    "```{exercise} Bestudeer de netwerktabel van een router\n",
    "\n",
    "Bestudeer via de webinterface van de thuisrouter de (DHCP) netwerktabel daarvan.\n",
    "In deze tabel vind je voor elk verbonden (en actief) apparaat het IP-adres, het MAC-adres en een beschijving of naam.\n",
    "\n",
    "De naam van een apparaat zegt waarschijnlijk niet altijd iets. Probeer aan de hand van het webinterface (als dat er is) uit te vinden om welk apparaat het gaat. Of, zoek dit uit aan de hand van het MAC-adres(label) op de verschillende apparaten.\n",
    "\n",
    "Maak een screenshot van (een deel van) deze tabel, of geef deze als volgt weer:\n",
    "\n",
    "| IP-adres     | MAC-adres         | beschrijving    |\n",
    "| ---:         | ---:              | :--             |\n",
    "| 192.168.1.12 | A8:40:41:20:5E:AC | LoRaWan gateway |\n",
    "|              |                   |                 |\n",
    "\n",
    "Ga na of er apparaten bij zijn met een vast (statisch) IP-adres, in plaats van een dynamisch IP-adres (in het ingestelde DHCP-bereik.)\n",
    "\n",
    "```"
   ]
  },
  {
   "cell_type": "markdown",
   "id": "e334abd0-c611-4693-a60a-09f368c6f60a",
   "metadata": {},
   "source": [
    "```{exercise} Bestudeer het DHCP-bereik van een router\n",
    "\n",
    "Bestudeer via de webinterface de DHCP-instellingen van een thuisrouter.\n",
    "\n",
    "(a) welk bereik is ingesteld voor dynamische IP-adressen?\n",
    "\n",
    "(b) zijn er ook apparaten met een statisch IP adres?\n",
    "```"
   ]
  },
  {
   "cell_type": "markdown",
   "id": "9375e186-6220-4d17-a0b6-5ebe2b7b25ef",
   "metadata": {},
   "source": [
    "```{exercise} firewall-instellingen\n",
    "\n",
    "Bestudeer de firewall-instellingen via de webinterface van de thuisrouter.\n",
    "Maak een screenshot van de instellingen voor:\n",
    "\n",
    "(a) het blokkeren van een IP-adres voor binnenkomende pakketten\n",
    "\n",
    "(b) het blokkeren van een website voor uitgaande http(s)-verbindingen\n",
    "\n",
    "```"
   ]
  },
  {
   "cell_type": "markdown",
   "id": "d820a3df-247e-4988-b822-27d07e889b7e",
   "metadata": {},
   "source": [
    "```{exercise} Collisions in de dagelijkse communicatie\n",
    ":label: dagelijkse-collisions\n",
    "\n",
    "In het geval van Ethernet- en WiFi communicatie kan er sprake zijn van *collisions* (botsingen), als twee of meer apparaten tegelijk een bericht sturen naar het gedeelde medium.\n",
    "Ook in de dagelijkse communicatie komen dergelijke collisions voor. Geef hiervan voorbeelden, en geef aan hoe je dit probleem in de praktijk oplost (met een \"informeel protocol\").\n",
    "```"
   ]
  },
  {
   "cell_type": "markdown",
   "id": "73c26e88-126c-4afe-8dac-bf6251c0b5d5",
   "metadata": {},
   "source": [
    "```{exercise} Meerdere gebruikers met hetzelfde publieke IP-adres\n",
    ":label: opdracht-10\n",
    "\n",
    "Waarschijnlijk hebben de verschillende computers in het schoolnetwerk hetzelde *publieke* IP-adres: er wordt dan gebruik gemaakt van NAT (zie {ref}`opdracht-5`).\n",
    "\n",
    "Als de verschillende computers hetzelfde *publieke* IP-adres hebben, wat heeft dit dan voor gevolgen, bijvoorbeeld \n",
    "\n",
    "* als een leerling zich misdraagt door vandalisme te plegen op Wikipedia?\n",
    "* als leerlingen hun bijdrages aan Wikipedia anoniem willen houden (door niet in te loggen)?\n",
    "\n",
    "Overigens zijn er tegenwoordig ook manieren om met behulp van \"fingerprinting\" de identiteit van een apparaat te achterhalen, waarmee je ook apparaten met hetzelfde IP-adres kunt identificeren. (https://en.wikipedia.org/wiki/Device_fingerprint)\n",
    "```"
   ]
  },
  {
   "cell_type": "markdown",
   "id": "eaeac546-bdd1-421e-9ffc-85c4dbd218bd",
   "metadata": {},
   "source": [
    ":::{exercise} Routes in het internet\n",
    ":label: internet-routes\n",
    "\n",
    "Je kunt met behulp van de commando-regelopdracht `traceroute destination` nagaan wat de \"beste\" route is vanaf de huidige computer (waarop he deze opdracht geeft) naar de bestemming.\n",
    "\n",
    "Ga na wat `traceroute wikipedia.nl` als resultaat geeft.\n",
    "\n",
    "* herken je hierin de router van je ISP? (Deze heeft dezelde netwerk-prefix van het adres als je eigen thuisrouter of server.)\n",
    "* zie je via welke \"exchange\" je ISP met andere netwerken verbonden is?\n",
    "* zie je een \"peering\" router?\n",
    "\n",
    "*Opmerking.* Als je deze opdracht geeft vanuit een Jupyter Notebook, dan krijg je de route van de server waar dit Notebook op verwerkt wordt naar de bestemming. De Notebook-client: de computer waarop de browser draait, speelt daarbij geen rol.\n",
    "\n",
    "De tijd voor het oversturen van een pakket wordt gegeven door 3 getallen: `traceroute` stuurt 3 pakketten, deze tijden zijn de \"round trip times\": de tijd van je computer of server naar de router, en terug. Een `*` in plaats van een tijd geeft aan dat het pakket zoekgeraakt is.\n",
    "\n",
    "Als je in de route een regel ziet met `* * *` dan maakt de betreffende router zich niet bekend.\n",
    "\n",
    ":::"
   ]
  },
  {
   "cell_type": "markdown",
   "id": "180cce45-f310-4486-a20e-e2002601d2d8",
   "metadata": {},
   "source": [
    ":::{tip}\n",
    "Je kunt in een (actief) Python Notebook een commandoregel-opdracht (*shell command*) geven door in een code-cel een `!` voor het betreffende commando te plaatsen, bijvoorbeeld: \n",
    "\n",
    "```\n",
    "!traceroute wikipedia.nl\n",
    "```\n",
    ":::"
   ]
  },
  {
   "cell_type": "markdown",
   "id": "2dc93ab0-e7e8-4fd9-a803-ec62cdbc30d7",
   "metadata": {},
   "source": [
    "```{exercise} Privacy van IP-adressen\n",
    "\n",
    "Is je privacy bij Wikipedia beter beschermd als je een anonieme bijdrage levert, of als bijdraagt als geregistreerde gebruiker? Leg uit.\n",
    "```"
   ]
  },
  {
   "cell_type": "markdown",
   "id": "fcaaeecd-2441-4756-92ca-1183caea89e3",
   "metadata": {},
   "source": [
    "## DNS"
   ]
  },
  {
   "cell_type": "markdown",
   "id": "8537851d-0537-4238-99b4-1aaffa6e0355",
   "metadata": {},
   "source": [
    "```{exercise} Domeinnamen\n",
    "\n",
    "Zoek van een veelgebruikte domeinnaam uit wie deze geregistreerd heeft, met behulp van \"whois\".\n",
    "\n",
    "Tip: via bijvoorbeeld SIDN kun je nagaan of een domeinnaam nog vrij is, maar voor een naam die al in gebruik is, kun je de registratie-gegevens opvragen.\n",
    "\n",
    "```"
   ]
  },
  {
   "cell_type": "markdown",
   "id": "70b0067c-e4c2-4fc9-8ecb-3c87f6d0231f",
   "metadata": {},
   "source": [
    "```{exercise} Een eigen domeinnaam kiezen\n",
    "\n",
    "Bedenk voor een eigen dienst (website) een domeinnaam, en controleer of deze beschikbaar is.\n",
    "\n",
    "Stel dat je dienst erg succesvol is; welke andere domeinnamen zou je dan willen hebben? (Soms wil je extra domeinen voor verwante diensten. Of je wilt voorkomen dat anderen een sterk-gelijkende domeinnaam gebruiken om jouw gebruikers te verwarren. Bijvoorbeeld: naast `ing.nl`, `ingbank.nl`, `ing-bank.nl`, `ing.com`, `ing.eu`, enz.)\n",
    "\n",
    "* welke domeinnaam kies je? welke andere domeinen komen eventueel in aanmerking?\n",
    "* welk TLD kies je voor je domein? Waarom?\n",
    "* kies je meerdere TLDs voor je domein? Waarom wel/niet?\n",
    "\n",
    "```"
   ]
  },
  {
   "cell_type": "markdown",
   "id": "3918d0dc-1065-431e-8b18-1475725a320b",
   "metadata": {},
   "source": [
    "```{exercise} DNS server problemen\n",
    "\n",
    "Omdat de snelheid van de domeinnaam-resolutie van belang is, houdt zowel de browser als het operating systeem vaak een eigen tabel (cache) bij. Als deze lokale kopie van de DNS-gegevens niet meer klopt met het origineel, kan dat problemen opleveren. \n",
    "\n",
    "* zie bijvoorbeeld: https://kinsta.com/nl/kennisbank/zo-los-je-de-fout-dns-server-not-responding-op-voor-windows-en-mac/\n",
    "\n",
    "Wat kan er misgaan als je DNS-server niet goed werkt: niet snel is, of niet het juiste resultaat geeft?\n",
    "\n",
    "```"
   ]
  }
 ],
 "metadata": {
  "kernelspec": {
   "display_name": "Python 3 (ipykernel)",
   "language": "python",
   "name": "python3"
  },
  "language_info": {
   "codemirror_mode": {
    "name": "ipython",
    "version": 3
   },
   "file_extension": ".py",
   "mimetype": "text/x-python",
   "name": "python",
   "nbconvert_exporter": "python",
   "pygments_lexer": "ipython3",
   "version": "3.9.7"
  }
 },
 "nbformat": 4,
 "nbformat_minor": 5
}
