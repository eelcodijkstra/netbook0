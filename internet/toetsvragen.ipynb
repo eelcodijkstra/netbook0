{
 "cells": [
  {
   "cell_type": "markdown",
   "id": "bcf5c502-119e-415a-9a10-ce7f9d3e96f5",
   "metadata": {},
   "source": [
    "# Toetsvragen"
   ]
  },
  {
   "cell_type": "markdown",
   "id": "4e988e1f-81c0-41f0-a28c-9444fb725628",
   "metadata": {},
   "source": [
    "::::{dragndrop} Onderdelen van het lokale netwerk\n",
    "\n",
    ":::{figure} images/mac-lan-lettered.png\n",
    ":width: 750px\n",
    "\n",
    "Thuisnetwerk op hardwarelaag (MAC)\n",
    ":::\n",
    "\n",
    "Benoem de \"geletterde\" onderdelen in de bovenstaande figuur, door de betreffende letter naar de bijbehorende term te slepen\n",
    "\n",
    "* thuisrouter (\"residential gateway\")\n",
    "    * B\n",
    "* WiFI basisstation\n",
    "    * C\n",
    "* desktop computer\n",
    "    * G\n",
    "* switch\n",
    "    * A\n",
    "* tablet\n",
    "    * F\n",
    "* Ethernet-verbinding\n",
    "    * E\n",
    "* glasvezel-verbinding (WAN fiber)\n",
    "    * D\n",
    "\n",
    "::::"
   ]
  },
  {
   "cell_type": "markdown",
   "id": "66c5b7e8-9f80-4791-8b81-68d250f0448f",
   "metadata": {},
   "source": [
    "```{dragndrop} Elementen in het netwerk\n",
    "Plaats de onderstaande begrippen in de bijpassende categorie\n",
    "\n",
    "* eindapparaat\n",
    "    * desktop-computer\n",
    "    * IoT-schakelaar\n",
    "    * IoT-lamp\n",
    "    * webserver (\"in the cloud\")\n",
    "    * netwerkprinter\n",
    "* fysieke verbinding (medium)\n",
    "    * Ethernetkabel\n",
    "    * glasvezelkabel\n",
    "* netwerkapparaat\n",
    "    * WiFi basisstation\n",
    "    * internet-router\n",
    "    * thuisrouter (\"residential gateway\")\n",
    "```"
   ]
  },
  {
   "cell_type": "markdown",
   "id": "03038fe5-b508-4dfd-91a7-ff64c9e9e338",
   "metadata": {},
   "source": [
    "```{dragndrop} Vraag 3\n",
    "Je thuisrouter (\"residential gateway\") heeft Ethernet-aansluitingen met de labels \"WAN\" en \"LAN\".\n",
    "\n",
    "Plaats de Ethernetnet-kabels van de onderstaande apparaten bij het juiste label.\n",
    "\n",
    "* WAN\n",
    "    * kabelmodem\n",
    "    * glasvezelmodem\n",
    "* LAN\n",
    "    * netwerkprinter\n",
    "    * Ethernet switch\n",
    "    * desktop-computer\n",
    "    * Hue basisstation (IoT)\n",
    "    * WiFi basisstation\n",
    "* no-target\n",
    "    * USB netvoeding\n",
    "```"
   ]
  },
  {
   "cell_type": "markdown",
   "id": "05b7f832-9980-4eac-80c3-ffcccddc304e",
   "metadata": {},
   "source": [
    "```{mchoice} Netwerkadres op apparaat-label\n",
    ":correct: b\n",
    "\n",
    "Op het label van een apparaat vind je een netwerkadres van dit apparaat.\n",
    "Welk soort adres staat op dat label?\n",
    "\n",
    "* IP-adres\n",
    "* MAC-adres\n",
    "* web-adres\n",
    "```"
   ]
  },
  {
   "cell_type": "markdown",
   "id": "0425e2ce-a252-4205-911e-5a1d94e54846",
   "metadata": {},
   "source": [
    ":::{mchoice} MAC-adres en IP-adres\n",
    ":correct: b\n",
    "\n",
    "Je wilt een web-verbinding (HTTP) maken met de webserver van een lokaal apparaat. Op het apparaat staat het MAC-adres van dit apparaat.\n",
    "\n",
    "* je kunt dit MAC-adres gebruiken in de URL voor deze webverbinding\n",
    "    * het MAC-adres kan niet in een URL gebruikt worden. HTTP is gedefinieerd in termen van de IP-protocolstack.\n",
    "* je kunt het IP-adres gebruiken in de URL voor deze webverbinding. Dit IP-adres vind je bij het MAC-adres in de tabel van de router of van een netwerk-scanner.\n",
    "    * juist\n",
    "* je hebt in de URL de naam van het lokale apparaat nodig. Dit vind je via de DNS-gegevens.\n",
    "    * een lokaal apparaat heeft meestal geen naam; en DNS werkt niet voor apparaten in het lokale netwerk"
   ]
  },
  {
   "cell_type": "markdown",
   "id": "4a136000-1284-424f-82cc-bee2df7ac70e",
   "metadata": {},
   "source": [
    "```{mchoice} Thuisrouter-aansluitingen\n",
    ":correct: a\n",
    "\n",
    "Je thuisrouter (\"residential gateway\") heeft maar een beperkt aantal Ethernet-aansluitingen.\n",
    "Je wilt meer apparaten met een bedrade verbinding in het lokale netwerk kunnen aansluiten.\n",
    "Hoe los je dit op?\n",
    "\n",
    "* met een Ethernet *switch* aan een LAN-aansluiting van de router\n",
    "    * Juist! De switch verzorgt dan de \"routering\" op Ethernet/MAC-niveau \n",
    "* met een Ethernet *switch* aan een WAN-aansluiting van de router\n",
    "    * De WAN-aansluiting is voor het \"Wide Area Network\" van de internet service provider (ISP)\n",
    "* met een IP *router* aan een IP-aansluiting van de router\n",
    "    * (i) er zijn geen IP-aansluitingen; (ii) binnen een enkel netwerk heb je geen router nodig \n",
    "* met een USB-*hub* aan een USB-aansluiting van de router\n",
    "    * de USB-aansluiting is niet bedoeld voor het netwerk, alleen voor randapparaten van de router.\n",
    "```"
   ]
  },
  {
   "cell_type": "markdown",
   "id": "c3db1271-3e10-4f4f-a2cc-1c268ae460b5",
   "metadata": {},
   "source": [
    "```{mchoice} WiFi-versleuteling\n",
    ":correct: b\n",
    "\n",
    "Wat is de functie van de versleuteling van een WiFi netwerk?\n",
    "\n",
    "* het beschermen van de data tegen afluisteren door andere apparaten in het netwerk\n",
    "* het beschermen van het netwerk tegen toegang van buiten\n",
    "* het beschermen van de data tegen dataverlies\n",
    "```"
   ]
  },
  {
   "cell_type": "markdown",
   "id": "f586331e-d02c-4daf-9bff-3402c96f85c7",
   "metadata": {},
   "source": [
    "```{mchoice} Data-versleuteling\n",
    ":correct: b\n",
    "\n",
    "Is het verkeer *tussen de apparaten* in het lokale netwerk versleuteld?\n",
    "\n",
    "* ja, bijvoorbeeld met de WiFi versleuteling\n",
    "* nee, de WiFi versleuteling beveiligt alleen de toegang tot het netwerk, niet het verkeer in het netwerk.\n",
    "\n",
    "```"
   ]
  },
  {
   "cell_type": "markdown",
   "id": "3762016d-246d-45fa-8754-58008744932e",
   "metadata": {},
   "source": [
    "```{mchoice} Thuisrouter IP-adressen\n",
    ":correct: c\n",
    "\n",
    "Hoeveel IP-adressen heeft een thuisrouter (residential gateway)?\n",
    "\n",
    "* precies 1\n",
    "    * de thuisrouter verbindt twee of meer netwerken: het ISP-netwerk, het lokale netwerk, en soms een gast-netwerk of een VPN-netwerk. In elk netwerk heeft de thuisrouter een ander IP-adres.\n",
    "* precies 2\n",
    "    * de thuisrouter verbindt twee of meer netwerken: het ISP-netwerk, het lokale netwerk, en soms een gast-netwerk of een VPN-netwerk. In elk netwerk heeft de thuisrouter een ander IP-adres.\n",
    "* 2 of meer\n",
    "    * ja: voor het ISP-netwerk, voor het lokale netwerk, en eventueel voor een gast-netwerk of VPN\n",
    "```"
   ]
  },
  {
   "cell_type": "markdown",
   "id": "c3844af1-d445-45a5-b3b6-ee513e1cfaa2",
   "metadata": {},
   "source": [
    "* IP-adres gekoppeld aan het netwerk waarin de computer (cq. de netwerk-interface) verbonden is.\n",
    "    * dus, thuis anders dan op school\n",
    "    * en, veranderlijk\n",
    "    * toegewezen door netwerkbeheerder/DHCP\n",
    "* MAC-adres onveranderlijk; toegewezen door fabrikant.\n",
    "    * geldt ook voor bijv. USB, en andere lokale netwerken. - waar er geen sprake is van routering, of maar zeer beperkt.\n",
    "* "
   ]
  },
  {
   "cell_type": "markdown",
   "id": "2d066fc5-a8b1-4ab4-894f-efd4318ca12f",
   "metadata": {},
   "source": [
    "Welke figuur hoort bij een firewall die het (uitgaande) verkeer naar bepaalde websites blokkeert?\n",
    "\n",
    "* Ethernet (fysiek) niveau\n",
    "* IP niveau\n",
    "* TCP niveau\n",
    "* HTTP niveau"
   ]
  },
  {
   "cell_type": "markdown",
   "id": "b5eb868e-d7d8-47de-aff2-7e550facdf12",
   "metadata": {},
   "source": [
    "(Wat is \"deep packet inspection\"? En welke gevolgen heeft dit voor de privacy?)"
   ]
  },
  {
   "cell_type": "markdown",
   "id": "ea5f4252-bbca-4380-810d-a2006e3246ff",
   "metadata": {},
   "source": [
    "```{mchoice} thuisrouter-WAN aansluiting naar ISP\n",
    ":correct: a\n",
    "\n",
    "Voor het aansluiten van de Ethernet-WAN aansluiting van een \"kale\" thuisrouter op de glasvezelverbinding van de internet service provider (ISP) gebruik je een:\n",
    "\n",
    "* modem\n",
    "* firewall\n",
    "* switch\n",
    "* router\n",
    "```"
   ]
  },
  {
   "cell_type": "markdown",
   "id": "14322dec-d319-400f-b658-0b203a4bf082",
   "metadata": {},
   "source": [
    "```{mchoice}\n",
    ":correct: c\n",
    "\n",
    "PC-1 en PC-2 maken gebruik van dezelfde Ethernet-verbinding in het lokale netwerk. Op het moment dat PC-1 een groot bestand ophaalt vanuit het (snelle) internet, probeert PC-2 een bestand naar de lokale netwerkschijf (NAS) te sturen. Wat gebeurt er?\n",
    "\n",
    "* PC-2 moet wachten totdat PC-1 het bestand ontvangen heeft\n",
    "    * zie de uitleg over Ethernet; door het gebruik van pakketcommunicatie is \"gelijktijdige\" communicatie mogelijk\n",
    "* de communicatie van PC-2 wordt vertraagd door de communicatie van PC 1, andersom niet\n",
    "    * zie de uitleg over Ethernet; voor de Ethernetverbinding zijn beide communicaties gelijkwaardig\n",
    "* de communicaties van PC-1 en van PC-2 worden beide vertraagd\n",
    "    * juist!\n",
    "* de communicaties van PC-1 en PC-2 hebben geen invloed op elkaar\n",
    "    * zie de uitleg over Ethernet\n",
    "```"
   ]
  },
  {
   "cell_type": "markdown",
   "id": "dead8300-8aef-421f-84d1-b818f9a82423",
   "metadata": {},
   "source": [
    "```{fillintheblank} Soorten netwerken\n",
    "\n",
    "Een WiFi-netwerk met een enkel basisstation vormt een {blank}`ster`-netwerk.\n",
    "Het internet vormt een {blank}`maas`-netwerk.\n",
    "\n",
    "* no feedback?\n",
    "```"
   ]
  },
  {
   "cell_type": "markdown",
   "id": "156ff698-98c8-46fc-8b47-de94cf6a4e72",
   "metadata": {},
   "source": [
    "```{fillintheblank} Netwerkapparaten\n",
    "\n",
    "Een apparaat dat het signaal aanpast aan een medium, bijvoorbeeld een glasvezelkabel, heet een {blank}`modem`.\n",
    "\n",
    "* modem: modulator - demodulator. Modulatie gebruik je voor het aanpassen van een signaal aan een medium.\n",
    "```"
   ]
  },
  {
   "cell_type": "markdown",
   "id": "b7191bb2-24e7-43d0-8b4f-7965a999b3a8",
   "metadata": {},
   "source": [
    "```{mchoice} Ontvangen pakketten\n",
    ":correct: b\n",
    "\n",
    "De afzender A stuurt 3 pakketten naar de bestemming B. B heeft pakketten 1 en 3 ontvangen.\n",
    "Wat is er aan de hand?\n",
    "\n",
    "* je weet nu zeker dat pakket 2 verloren is gegaan;\n",
    "    * doordat pakketten van A naar B verschillende paden (routes) in het netwerk kunnen afleggen, kunnen pakketten elkaar inhalen\n",
    "* pakket 2 is verloren gegaan of is ingehaald door pakket 3;\n",
    "    * juist!\n",
    "* deze situatie kan niet optreden: pakket 2 moet ontvangen worden voordat pakket 3 ontvangen kan worden.\n",
    "    * pakketten kunnen verloren raken of elkaar inhalen (langs verschillende routes). Het is de taak van de hogere protocollen (in de hosts, niet in het netwerk) om te zorgen voor betrouwbare communicatie.\n",
    "```"
   ]
  },
  {
   "cell_type": "markdown",
   "id": "756e3893-e00f-44d1-bd35-30b56dd07d0f",
   "metadata": {},
   "source": [
    "## DNS"
   ]
  },
  {
   "cell_type": "markdown",
   "id": "ae5a209b-8063-4545-866d-368171d13b72",
   "metadata": {},
   "source": [
    "```{dragndrop} Domeinnaam\n",
    "\n",
    "Gegeven zijn de URLs: `http:192.168.1.1`, `ftp:ieni.org`, `https:www.ieni.org`, `https:wikipedia.nl`\n",
    "\n",
    "Plaats de onderdelen bij het overeenkomstige begrip:\n",
    "\n",
    "* protocol\n",
    "    * `http`\n",
    "    * `https`\n",
    "    * `ftp`\n",
    "* subdomein\n",
    "    * `www`\n",
    "* domein\n",
    "    * `ieni`\n",
    "    * `wikipedia`\n",
    "* top-level domein\n",
    "    * `org`\n",
    "    * `nl`\n",
    "* ip-adres\n",
    "    * `192.168.1.1`\n",
    "    \n",
    "```"
   ]
  },
  {
   "cell_type": "markdown",
   "id": "d6211abc-f80f-41a5-a3b0-7ce960999e5e",
   "metadata": {},
   "source": [
    "```{fillintheblank} Onderdelen van een domeinnaam (hostnaam)\n",
    "\n",
    "Gegeven is de hostnaam `www.ieni.org`. Hier vormt `ieni` de eigenlijk domein; `org` het {blank-regexp}`^(top(\\s|-)*level|TLD|tld)$`domein en `www` het {blank-regexp}`^(sub|SUB|Sub)$`domein.\n",
    "\n",
    "* toelichting\n",
    "```"
   ]
  }
 ],
 "metadata": {
  "kernelspec": {
   "display_name": "Python 3 (ipykernel)",
   "language": "python",
   "name": "python3"
  },
  "language_info": {
   "codemirror_mode": {
    "name": "ipython",
    "version": 3
   },
   "file_extension": ".py",
   "mimetype": "text/x-python",
   "name": "python",
   "nbconvert_exporter": "python",
   "pygments_lexer": "ipython3",
   "version": "3.9.7"
  }
 },
 "nbformat": 4,
 "nbformat_minor": 5
}
