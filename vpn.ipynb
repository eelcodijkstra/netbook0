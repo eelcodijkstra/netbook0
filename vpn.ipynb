{
 "cells": [
  {
   "cell_type": "markdown",
   "id": "e6a3eb89-b6e9-4832-97c6-467f0a56edcb",
   "metadata": {},
   "source": [
    "# VPN"
   ]
  },
  {
   "cell_type": "markdown",
   "id": "ded280f8-0036-463a-aa23-3d43efc593b9",
   "metadata": {},
   "source": [
    "Stel, je wilt bepaalde bestanden in je lokale (thuis)netwerk gebruiken, terwijl je niet in de buurt van dit netwerk bent. Hoe kan dat?\n",
    "Een oplossing hiervoor is het gebruik van een VPN (virtual private network): dat is een \"virtuele\" uitbreiding van het lokale \"private network\", door middel van een verbinding over een ander netwerk, gewoonlijk het publieke internet, tussen de thuisrouter en je eigen computer.\n",
    "\n",
    "\n",
    "\n",
    "Een VPN wordt bijvoorbeeld gebruikt door medewerkers van een organisatie die thuis werken: via de VPN-verbinding kunnen ze dan toch verbinding maken met de servers en andere computers (en collega's) in het lokale netwerk van die organisatie.\n",
    "\n",
    "\n",
    "\n",
    "Via VPN kun je een beveiligde verbinding maken *naar/met het lokale netwerk*, vanuit een computer of smartphone in het publieke internet. (Fritzbox ondersteunt dit.) https://en.avm.de/service/vpn/tips-tricks/. Op die manier kun je bijvoorbeeld lokale bestanden bereiken, of een lokale printer.\n",
    "\n",
    "> Dit is een ander gebruik dan een VPN *vanuit het lokale netwerk*: dat gebruik je om toegang tot diensten in het publieke internet af te schermen. (*Is hiervoor ook een terminologie in gebruik?) Eigenlijk is er in dit geval sprake van een \"remote proxy server\"?\n",
    "\n",
    "Uit de handleidingen e.d. voor de FritzBox:\n",
    "\n",
    "* verbinden van de FritxBox met een bedrijfsnetwerk; je kunt dan via een willekeurige computer in het thuisnetwerk verbinding maken met het bedrijfsnetwerk. (Dat lijkt mij niet zo veilig, voor het bedrijfsnetwerk; je wilt je bedrijfsnetwerk niet aan risico's van al die thuisnetwerken blootstellen...)\n",
    "* \n",
    "\n",
    "NB: plek van VPN in de IP-stack, laten zien dat je een complete internet-verbinding maakt als toepassing\n",
    "\n",
    "* op basis van TCP? UDP? (of direct op IP?)\n",
    "** OpenVPS: \"Tunnel any IP subnetwork or virtual ethernet adapter over a single UDP or TCP port,\"\n",
    "* maar: IPsec vervangt de IP-laag (en maakt daarmee ook het gebruik van UDP mogelijk).\n",
    "* "
   ]
  },
  {
   "cell_type": "markdown",
   "id": "252d8cd7-2eab-4d0d-8652-d650ea7712d4",
   "metadata": {},
   "source": [
    "## VPN - Mozilla\n",
    "\n",
    "Zie de scenario's daar.\n",
    "\n",
    "* \"het WiFi netwerk van het hotel is beveiligd met een sterk wachtwoord, mijn computer is dus veilig en mijn privacy is beschermd\".\n"
   ]
  }
 ],
 "metadata": {
  "kernelspec": {
   "display_name": "Python 3 (ipykernel)",
   "language": "python",
   "name": "python3"
  },
  "language_info": {
   "codemirror_mode": {
    "name": "ipython",
    "version": 3
   },
   "file_extension": ".py",
   "mimetype": "text/x-python",
   "name": "python",
   "nbconvert_exporter": "python",
   "pygments_lexer": "ipython3",
   "version": "3.9.7"
  }
 },
 "nbformat": 4,
 "nbformat_minor": 5
}
