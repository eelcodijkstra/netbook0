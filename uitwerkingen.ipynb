{
 "cells": [
  {
   "cell_type": "markdown",
   "id": "b9ce245b-a7c6-46d7-8f8a-fbca3b7eacc3",
   "metadata": {},
   "source": [
    "# Uitwerkingen van de opdrachten"
   ]
  },
  {
   "cell_type": "markdown",
   "id": "fe17eb43-afee-4c35-8365-9f7a3e18ac6f",
   "metadata": {},
   "source": [
    "```{solution} opdracht-1\n",
    "De beschrijving kan zijn zoals de figuur van het fysieke netwerk.\n",
    "```"
   ]
  },
  {
   "cell_type": "markdown",
   "id": "8de668e6-aaab-4c11-a099-7e8359470d43",
   "metadata": {},
   "source": [
    "```{solution} opdracht-2\n",
    "\n",
    "Voorbeeld van een tabel met apparaten in een thuisnetwerk:\n",
    "\n",
    "```{list-table}\n",
    ":header-rows: 1\n",
    "\n",
    "* - IP-adres\n",
    "  - MAC-adres\n",
    "  - naam\n",
    "  - soort apparaat\n",
    "* - 192.168.178.1\n",
    "  - 2C:3A:FD:26:EA:B0\n",
    "  - residential gateway\n",
    "  - port 80: configuration\n",
    "* - 192.168.178.27\n",
    "  - CC:50:E3:C4:99:F6\n",
    "  - IoT-apparaat (ESP-node)\n",
    "  - 80: status, configuration\n",
    "* - 192.168.178.31\n",
    "  - 04:69:F8:B3:EF:0B\n",
    "  - Apple TV\n",
    "  - (--)\n",
    "* - 192.168.178.32\n",
    "  - 84:F3:EB:3B:77:F1\n",
    "  - IoT-apparaat (ESP-node)\n",
    "  - 80: status, configuration\n",
    "* - 192.168.178.39\n",
    "  - 00:25:00:3F:79:80\n",
    "  - computer (laptop)\n",
    "  - (--)\n",
    "* - 192.168.178.43\n",
    "  - 00:17:88:6D:C7:A2\n",
    "  - Philips (Signify) Hue Hub\n",
    "  - port 80: REST API, UI\n",
    "* - 192.168.178.45\n",
    "  - 30:05:5C:9B:7E:33\n",
    "  - Netwerk printer\n",
    "  - port 80: status, configuration\n",
    "* - 192.168.178.47\n",
    "  - 4A:41:86:76:61:C4\n",
    "  - iPad\n",
    "  - (--)\n",
    "```\n",
    "\n",
    "Onder andere de volgende apparaten bieden een web-interface via poort 80:\n",
    "\n",
    "* de thuisrouter\n",
    "* de IoT-apparaten\n",
    "* \n",
    "\n",
    "```"
   ]
  },
  {
   "cell_type": "markdown",
   "id": "803c0d4b-19c2-4fe1-939c-848ab2f4a925",
   "metadata": {},
   "source": [
    "```{solution} opdracht-3\n",
    "\n",
    "\n",
    "(b) De thuisrouter vertaalt, in het geval van een verbinding met een externe host, de \n",
    "\n",
    "```"
   ]
  }
 ],
 "metadata": {
  "kernelspec": {
   "display_name": "Python 3 (ipykernel)",
   "language": "python",
   "name": "python3"
  },
  "language_info": {
   "codemirror_mode": {
    "name": "ipython",
    "version": 3
   },
   "file_extension": ".py",
   "mimetype": "text/x-python",
   "name": "python",
   "nbconvert_exporter": "python",
   "pygments_lexer": "ipython3",
   "version": "3.9.7"
  }
 },
 "nbformat": 4,
 "nbformat_minor": 5
}
