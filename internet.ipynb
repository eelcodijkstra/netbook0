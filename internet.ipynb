{
 "cells": [
  {
   "cell_type": "markdown",
   "id": "2063d772-1e38-447d-a78b-81b22e8be301",
   "metadata": {},
   "source": [
    "# Het publieke internet\n",
    "\n",
    "```{Admonition} Concepten\n",
    "ISP, router, maas-netwerk\n",
    "```"
   ]
  },
  {
   "cell_type": "markdown",
   "id": "4125e617-8c9b-4acc-9fd4-e6f972a03b91",
   "metadata": {},
   "source": [
    "* het internet is een maas-netwerk, met *redundante* verbindingen.\n",
    "* voor de routering van pakketten wordt een bepaald algoritme gebruikt (BGP)\n",
    "* een pakket kan verloren raken... bijvoorbeeld als gevolg van een transmissiefout, maar ook door een buffer-overflow bij een router\n",
    "* alle netwerkapparaten in het publieke internet werken - in principe - alleen op het IP-niveau\n",
    "    * voor de functionaliteit is dat voldoende\n",
    "    * maar: soms vindt \"deep packet inspection\" plaats\n",
    "    * en bijv. caching van protocollen op hogere niveaus (html?)\n"
   ]
  }
 ],
 "metadata": {
  "kernelspec": {
   "display_name": "Python 3 (ipykernel)",
   "language": "python",
   "name": "python3"
  },
  "language_info": {
   "codemirror_mode": {
    "name": "ipython",
    "version": 3
   },
   "file_extension": ".py",
   "mimetype": "text/x-python",
   "name": "python",
   "nbconvert_exporter": "python",
   "pygments_lexer": "ipython3",
   "version": "3.9.7"
  }
 },
 "nbformat": 4,
 "nbformat_minor": 5
}
