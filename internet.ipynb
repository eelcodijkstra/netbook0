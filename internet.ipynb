{
 "cells": [
  {
   "cell_type": "markdown",
   "id": "2063d772-1e38-447d-a78b-81b22e8be301",
   "metadata": {},
   "source": [
    "# Het publieke internet\n",
    "\n",
    "```{Admonition} Concepten\n",
    "ISP, router, maas-netwerk, routering, BGP, peering\n",
    "```"
   ]
  },
  {
   "cell_type": "markdown",
   "id": "4125e617-8c9b-4acc-9fd4-e6f972a03b91",
   "metadata": {},
   "source": [
    "* het internet is een maas-netwerk (mesh network), met *redundante* verbindingen.\n",
    "    * deze redundantie (extra verbindingen) zorgen ervoor dat het netwerk kan blijven functioneren, ook als er een enkele verbinding uitvalt (of overbelast raakt)\n",
    "    * dit maakt het routeren wel lastiger, omdat de \"snelste verbinding tussen twee punten\" in de tijd kan veranderen.\n",
    "* voor de routering van pakketten wordt een bepaald algoritme gebruikt (BGP)\n",
    "* elk pakket wordt onafhankelijk van de andere pakketten gerouteerd. De pakketten van eenzelfde HTTP-verbinding kunnen dus verschillende routes afleggen.\n",
    "* een pakket kan verloren raken... bijvoorbeeld als gevolg van een transmissiefout, maar ook door een buffer-overflow bij een router\n",
    "    * dit probleem wordt niet in het netwerk opgelost, maar moet door de protocollen in de hogere lagen (transportlaag: TCP of toepassingenlaag) opgelost worden.\n",
    "    * dit is een voorbeeld van het \"end to end\" principe - omdat de manier waarop dit probleem het best opgelost kan worden, afhankelijk is van de toepassing. Bijvoorbeeld in het geval van internet-telefonie, VoIP, levert het verlies van een paar pakketten niet direct problemen op. (Extra latency voor het oplossen hiervan, zoals bij TCP, is een groter probleem.)\n",
    "* alle netwerkapparaten in het publieke internet werken - in principe - alleen op het IP-niveau\n",
    "    * voor de functionaliteit is dat voldoende\n",
    "    * maar: soms vindt \"deep packet inspection\" plaats\n",
    "    * en bijv. caching van protocollen op hogere niveaus (html?)\n"
   ]
  },
  {
   "cell_type": "markdown",
   "id": "271e0125-f645-404d-85b9-6c310808b216",
   "metadata": {},
   "source": [
    "figuur: maas-netwerk (met benoemde punten)"
   ]
  },
  {
   "cell_type": "markdown",
   "id": "bf99da1a-8565-44d5-a5c7-cc95877e5f44",
   "metadata": {},
   "source": [
    "Wat kunnen we in deze context zeggen over adressering? Het gaat eigenlijk vnl. over routering, op basis van IP-adressen (IP-netwerk-adressen.)\n"
   ]
  },
  {
   "cell_type": "markdown",
   "id": "410fe403-98a5-451d-b4ce-bcf01bc12169",
   "metadata": {},
   "source": [
    "Internet Backbone (Cisco figuren)\n",
    "\n",
    "\"backbone providers sell their services to ISP's\"\n",
    "\n",
    "* https://en.wikipedia.org/wiki/List_of_Internet_exchange_points"
   ]
  },
  {
   "cell_type": "markdown",
   "id": "02748b9d-26e1-480d-bb7a-d86dec90e98f",
   "metadata": {},
   "source": [
    "Internet outages\n",
    "\n",
    "* https://www.thousandeyes.com/outages/\n",
    "\n",
    "Internet radar\n",
    "\n",
    "* https://radar.cloudflare.com\n",
    "\n",
    "Met o.a. verschillende soorten aanvallen (DDOS e.d.)"
   ]
  },
  {
   "cell_type": "markdown",
   "id": "d977c572-6b6c-4bb2-b2d6-63524679047f",
   "metadata": {},
   "source": [
    "Cloudflare (zijn er ook alternatieve aanbieders van dit soort diensten? - o.a. CND, content delivery network - voor de caching van content \"dichtbij de gebruikers\".)"
   ]
  },
  {
   "cell_type": "markdown",
   "id": "a112b04b-ea21-4de4-9704-c914fb39072a",
   "metadata": {},
   "source": [
    "Tier-1 networks - https://en.wikipedia.org/wiki/Tier_1_network\n",
    "\n",
    "\"zo groot dat ze met *peering* kunnen volstaan, en niet hoeven te betalen voor het uitwisselen van verkeer met andere netwerken.\""
   ]
  },
  {
   "cell_type": "markdown",
   "id": "7ec1807f-82d6-4ba6-81ee-865bd3a015e4",
   "metadata": {},
   "source": [
    "Amsterdam Internet Exchange\n",
    "\n",
    "* https://nl.wikipedia.org/wiki/Amsterdam_Internet_Exchange\n",
    "* https://en.wikipedia.org/wiki/List_of_Internet_exchange_points\n",
    "\n",
    "Schakelpunten tussen netwerken; verwerken grote hoeveelheden dataverkeer."
   ]
  },
  {
   "cell_type": "markdown",
   "id": "0f74e17b-1b5c-45b7-875d-ca3a82111736",
   "metadata": {},
   "source": [
    "## Adressering in het internet\n",
    "\n",
    "* internetadres bestaat uit (netwerkadres, hostadres)\n",
    "    * in het geval van IPv4 weet je bijv. uit het netmasker wat het netwerk-deel is van het adres. Een andere notatie is \"/xx\" wat aangeeft dat de eerste xx bits van het adres het netwerk-deel vormen\n",
    "    * in het geval van IPv6 is het eenvoudig: de eerste 64 bits vormen het netwerk-deel, de laatste 64 bits het host-deel. (Dit kun je evt. afleiden van het MAC-adres.)\n",
    "* je kunt ook symbolische namen gebruiken (domeinnaam), die via het DNS protocol omgezet kunnen worden in het bijbehorende IP-adres\n",
    "    * bij een bepaald IP-adres kunnen meerdere domeinnamen horen. Meerdere domeinnamen kunnen hetzelfde IP-adres delen.\n",
    "    * een domeinnaam bestaat uit twee of 3 delen, bijv. `www.infvo.nl`. Het subdomein-gedeelte (hier: `www.`) kan ook leeg zijn. Het laatste deel is het \"superdomein\" - officieel: \n",
    "    \n",
    "### IP-adressen    \n",
    "    \n",
    "### DNS\n",
    "    \n",
    "(Een router moet eigenlijk weten wat het netwerk-deel is van een IP-adres: dat gebruik je voor het routeren. Als je dat niet weet, moet je voor elk IP-adres een entry in de router-tabellen hebben. Maar hoe weet je, gegeven een IP-adres, wat daarvan het netwerk-deel is?)\n",
    "\n",
    "Een gateway kan in elk geval concluderen dat een IP-adres niet in het eigen netwerk valt. (Dat is triviaal.)"
   ]
  }
 ],
 "metadata": {
  "kernelspec": {
   "display_name": "Python 3 (ipykernel)",
   "language": "python",
   "name": "python3"
  },
  "language_info": {
   "codemirror_mode": {
    "name": "ipython",
    "version": 3
   },
   "file_extension": ".py",
   "mimetype": "text/x-python",
   "name": "python",
   "nbconvert_exporter": "python",
   "pygments_lexer": "ipython3",
   "version": "3.9.7"
  }
 },
 "nbformat": 4,
 "nbformat_minor": 5
}
