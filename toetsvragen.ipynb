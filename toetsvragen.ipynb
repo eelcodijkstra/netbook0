{
 "cells": [
  {
   "cell_type": "markdown",
   "id": "bcf5c502-119e-415a-9a10-ce7f9d3e96f5",
   "metadata": {},
   "source": [
    "# Toetsvragen"
   ]
  },
  {
   "cell_type": "markdown",
   "id": "916f3ee7-9242-4ebc-a2cb-e713bab43eb1",
   "metadata": {},
   "source": []
  },
  {
   "cell_type": "markdown",
   "id": "4e988e1f-81c0-41f0-a28c-9444fb725628",
   "metadata": {},
   "source": []
  },
  {
   "cell_type": "markdown",
   "id": "2c60121d-fb58-4aec-b8a5-d582a56bf1b2",
   "metadata": {},
   "source": [
    "Benoemen van onderdelen: lokale router (\"residential gateway\"); WiFi base station; computer (\"eindapparaat\"); switch; bedrade verbinding (Ethernet); WAN-verbinding (glasvezel)."
   ]
  },
  {
   "cell_type": "markdown",
   "id": "66c5b7e8-9f80-4791-8b81-68d250f0448f",
   "metadata": {},
   "source": [
    "```{dragndrop} vraag 2\n",
    "Plaats de onderstaande begrippen in de bijpassende categorie\n",
    "\n",
    "* eindapparaat\n",
    "    * computer\n",
    "    * IoT-schakelaar\n",
    "    * IoT-lamp\n",
    "    * webserver (\"in the cloud\")\n",
    "    * netwerkprinter\n",
    "* fysieke verbinding (medium)\n",
    "    * Ethernetkabel\n",
    "    * glasvezelkabel\n",
    "* netwerkapparaat\n",
    "    * WiFi basisstation\n",
    "    * internet-router\n",
    "    * thuisrouter (\"residential gateway\")\n",
    "```"
   ]
  },
  {
   "cell_type": "markdown",
   "id": "edd90702-a05b-4a67-ae92-9a208d9c7a88",
   "metadata": {},
   "source": [
    "Wat verbind je met de LAN poorten van een thuisrouter, en wat met de WAN-poort?\n",
    "\n",
    "* verbinding naar het glasvezel-modem (of kabelmodem) van de ISP\n",
    "* verbinding naar de netwerkprinter\n",
    "* verbinding naar het Hue basisstation\n",
    "* verbinding naar een WiFi basisstation\n",
    "* verbinding naar een Ethernet switch\n",
    "* verbinding naar een desktop computer\n",
    "* verbinding naar de stroomvoorziening"
   ]
  },
  {
   "cell_type": "markdown",
   "id": "03038fe5-b508-4dfd-91a7-ff64c9e9e338",
   "metadata": {},
   "source": [
    "```{dragndrop} Vraag 3\n",
    "Je thuisrouter (\"residential gateway\") heeft Ethernet-aansluitingen met de labels \"WAN\" en \"LAN\".\n",
    "\n",
    "Plaats de Ethernetnet-kabels van de onderstaande apparaten bij het juiste label.\n",
    "\n",
    "* WAN\n",
    "    * kabelmodem\n",
    "    * glasvezelmodem\n",
    "* LAN\n",
    "    * netwerkprinter\n",
    "    * Ethernet switch\n",
    "    * desktop-computer\n",
    "    * Hue basisstation (IoT)\n",
    "    * WiFi basisstation\n",
    "* no-target\n",
    "    * USB netvoeding"
   ]
  },
  {
   "cell_type": "markdown",
   "id": "f7057189-962a-495b-85f4-c38186b7f83c",
   "metadata": {},
   "source": [
    "Op het label van een apparaat vind je een netwerkadres; welk soort netwerkadres staat op dat label, en hoe vind je dat terug in de onderstaande tabel?"
   ]
  },
  {
   "cell_type": "markdown",
   "id": "0425e2ce-a252-4205-911e-5a1d94e54846",
   "metadata": {},
   "source": [
    "Je wilt een web-verbinding (HTTP) maken met de webserver van een lokaal apparaat. Op het apparaat staat het MAC-adres van dit apparaat.\n",
    "\n",
    "* je kunt dit MAC-adres gebruiken in de URL voor deze webverbinding\n",
    "* voor de webverbinding heb je het IP-adres nodig; dat kun je vinden in de tabel van de router\n",
    "* of in de tabel van een netwerk-scanner."
   ]
  },
  {
   "cell_type": "markdown",
   "id": "4d2ff2bc-a1bb-4b9a-a5e2-76cdeed7b0d5",
   "metadata": {},
   "source": [
    "Als je meer apparaten wilt aansluiten via een Ethernet-kabel dan het aantal aansluitigen van je thuisrouter, hoe os je dat dan op?\n",
    "\n",
    "* met behulp van een Ethernet *switch*\n",
    "* met behup van een IP switch\n",
    "* met behulp van een USB hub\n",
    "* "
   ]
  },
  {
   "cell_type": "markdown",
   "id": "4a136000-1284-424f-82cc-bee2df7ac70e",
   "metadata": {},
   "source": [
    "```{mchoice} vraag 4\n",
    ":correct: a\n",
    "\n",
    "Je thuisrouter (\"residential gateway\") heeft maar een beperkt aantal Ethernet-aansluitingen.\n",
    "Je wilt meer apparaten met een bedrade verbinding in het lokale netwerk kunnen aansluiten.\n",
    "Hoe los je dit op?\n",
    "\n",
    "* met een Ethernet *switch* aan een LAN-aansluiting van de router\n",
    "    * Juist! De switch verzorgt dan de \"routering\" op Ethernet/MAC-niveau \n",
    "* met een Ethernet *switch* aan een WAN-aansluiting van de router\n",
    "    * De WAN-aansluiting is voor het \"Wide Area Network\" van de internet service provider (ISP)\n",
    "* met een IP *router* aan een IP-aansluiting van de router\n",
    "    * (i) er zijn geen IP-aansluitingen; (ii) binnen een enkel netwerk heb je geen router nodig \n",
    "* met een USB-*hub* aan een USB-aansluiting van de router\n",
    "    * de USB-aansluiting is niet bedoeld voor het netwerk, alleen voor randapparaten van de router.\n",
    "```"
   ]
  },
  {
   "cell_type": "markdown",
   "id": "2eab33da-fde7-43ca-9d2e-bb9aa829e8ee",
   "metadata": {},
   "source": [
    "toetsvraag over DHCP? statische, dynamische adressen?"
   ]
  },
  {
   "cell_type": "markdown",
   "id": "cf07d380-5871-4c15-b2ad-2db99f213cc3",
   "metadata": {},
   "source": [
    "Is het verkeer tussen de apparaten in het lokale netwerk versleuteld?\n",
    "\n",
    "* ja, bijvoorbeeld met de WiFi versleuteling\n",
    "* nee, de WiFi versleuteling beveiligt alleen de toegang tot het netwerk "
   ]
  },
  {
   "cell_type": "markdown",
   "id": "f586331e-d02c-4daf-9bff-3402c96f85c7",
   "metadata": {},
   "source": [
    "```{mchoice} vraag 5\n",
    ":correct: a\n",
    "\n",
    "Is het verkeer tussen de apparaten in het lokale netwerk versleuteld?\n",
    "\n",
    "* ja, bijvoorbeeld met de WiFi versleuteling\n",
    "* nee, de WiFi versleuteling beveiligt alleen de toegang tot het netwerk, niet het verkeer in het netwerk.\n",
    "\n",
    "```"
   ]
  },
  {
   "cell_type": "markdown",
   "id": "f0794369-34f3-47e4-a47a-a901b8fc580f",
   "metadata": {},
   "source": [
    "Heeft het zin om op je computer te beveiligen tegen het lokale netwerk?\n"
   ]
  },
  {
   "cell_type": "markdown",
   "id": "3f7006d6-6453-481c-b292-363e1558f22c",
   "metadata": {},
   "source": [
    "Vragen over IP- en MAC-adressen\n",
    "\n",
    "* een eindapparaat heeft 1 IP adres\n",
    "* een eindapparaat kan meerdere IP-adressen hebben\n",
    "* een eindapparaat heeft 1 MAC adres\n",
    "* een eindapparaat kan meerdere MAC-adressen hebben\n"
   ]
  },
  {
   "cell_type": "markdown",
   "id": "215b8629-0600-419a-a2f1-33efff83c971",
   "metadata": {},
   "source": [
    "een switch verzorgt de \"routering\" op MAC-niveau in het lokale netwerk.\n",
    "daarmee kan verkeer in een deel-netwerk lokaal blijven.\n",
    "\n",
    "Hoe verloopt de lokale communicatie in een Ethernet-netwerk? Tussen twee eindapparaten?\n",
    "\n",
    "* een bericht (Ethernet-pakket) wordt van het eindapparaat naar de router gestuurd;\n",
    "    * de router stuurt dit vervolgens naar het andere apparaat.\n",
    "* een bericht wordt op de Ethernet-verbinding gezet;\n",
    "    * de ontvanger herkent dat het bericht voor hem(?) bestemd is en leest het bericht\n",
    "\n",
    "Waarom heet het \"Ethernet\"? Omdat het een gedeeld medium is, net als in het geval van een radio-verbinding."
   ]
  },
  {
   "cell_type": "markdown",
   "id": "5de95187-1b68-43eb-8bfc-826d277320c1",
   "metadata": {},
   "source": [
    "Hoeveel IP-adressen heeft de residential gateway?\n",
    "\n",
    "* de residential gateway verbindt twee netwerken: het lokale netwerk en het netwerk van de internet service provider (ISP). in beide netwerken moet de gateway een IP-adres hebben\n",
    "    * immers, een IP-adres is gekoppeld aan een netwerk, niet aan een computer. Als een computer zich in een ander netwerk bevindt, heeft deze een ander IP-adres.\n",
    "    "
   ]
  },
  {
   "cell_type": "markdown",
   "id": "c03c4e04-a412-4022-bf1e-6e8e6fd562ec",
   "metadata": {},
   "source": [
    "Heeft de residential gateway een webserver? Hoe weet je dat? Wat is het IP-adres van deze webserver, gezien vanuit het lokale netwerk?"
   ]
  },
  {
   "cell_type": "markdown",
   "id": "c3844af1-d445-45a5-b3b6-ee513e1cfaa2",
   "metadata": {},
   "source": [
    "* IP-adres gekoppeld aan het netwerk waarin de computer (cq. de netwerk-interface) verbonden is.\n",
    "    * dus, thuis anders dan op school\n",
    "    * en, veranderlijk\n",
    "    * toegewezen door netwerkbeheerder/DHCP\n",
    "* MAC-adres onveranderlijk; toegewezen door fabrikant.\n",
    "    * geldt ook voor bijv. USB, en andere lokale netwerken. - waar er geen sprake is van routering, of maar zeer beperkt.\n",
    "* "
   ]
  },
  {
   "cell_type": "markdown",
   "id": "6a996e5d-d556-4099-ab9c-cf76fa41cb90",
   "metadata": {},
   "source": [
    "## VPN\n",
    "\n",
    "* wat is VPN? Waar staat deze afkorting voor?\n",
    "* wat is er \"virtueel\" aan dit netwerk? (Wat is de \"fysieke\" basis voor dit netwerk?)\n",
    "    *VPN op basis van UDP of TCP? (TCP geeft een verbinding)\n",
    "* verschillende manieren om VPN te gebruiken\n",
    "    * om van elders toegang te hebben tot het lokale netwerk\n",
    "    * om vanaf je computer toegang te hebben tot servers/diensten \"elders\", waarbij je voor de server de lokatie e.d. van de client verbergt. (Ook voor het tussenliggende netwerk is het verkeer dan afgeschermd.)\n",
    "    * bijv. omzeilen van \"firewalls\" zoals de Chinene Muur. (En andere vormen van \"deep packet inspection\">\n",
    "    "
   ]
  },
  {
   "cell_type": "markdown",
   "id": "1737a827-5ebe-49c6-befe-350164c36c19",
   "metadata": {},
   "source": [
    "Waarvoor staat de afkorting VPN?\n",
    "\n",
    "* Virtual Private Network\n",
    "* Virtual Personal Network\n",
    "* Virtual Privacy Network\n",
    "* Virtual Protected Network"
   ]
  },
  {
   "cell_type": "markdown",
   "id": "49f38855-0283-45d8-82dd-ffad7d48e7ec",
   "metadata": {},
   "source": [
    "Een VPN stelt je in staat om: / Met een VPN kun je\n",
    "\n",
    "* via het publieke internet op een veilige manier toegang krijgen tot apparaten, servers en bestanden in je thuisnetwerk (\"private network\").\n",
    "* apparaten, servers en bestanden in je thuisnetwerk (\"private network\") voor iedereen toegankelijk maken in het publieke internet.\n",
    "* apparaten, servers en bestanden in je thuisnetwerk afschermen van het publieke internet.\n",
    "* (???)"
   ]
  },
  {
   "cell_type": "markdown",
   "id": "f7b16113-8e8c-4997-8d6a-9d16c7d6e468",
   "metadata": {},
   "source": [
    "## Switch, router, e.d.\n",
    "\n",
    "Welke figuur geeft de rol van een switch in het netwerk aan?\n",
    "\n",
    "(figuren: hub: verbinding op medium-niveau:? switch: verbinding op MAC-niveau; IP-router: verbinding op IP-niveau; residential gateway/NAT router: verbinding op UDP/TCP niveau. (\"bridge\" - verbinding op toepassings=niveau?)\n",
    "\n",
    "WiFi-basisstation: heeft twee verschillende fysieke interfaces; gebruiken deze dezelfde pakketten?\n",
    "\n",
    "En/of: plaats het netwerkapparaat bij de betreffende figuur.\n",
    "\n",
    "(\"Hoe programmeer je een switch?\") - \"switch is zelf-lerend\"."
   ]
  },
  {
   "cell_type": "markdown",
   "id": "c7b79b48-fa1d-4051-a8c8-eb6b8afe48dd",
   "metadata": {},
   "source": [
    "Wat is het minimale aantal netwerkaansluitingen van een router? en van een switch?\n",
    "\n",
    "* een router verbindt verschillende IP-netwerken; deze heeft per netwerk een aansluiting nodig. Het minimale aantal netwerken dat een router verbindt is 2 (meestal is er dan sprake van een gateway). Het minimale aantal aansluitingen is dus ook 2\n",
    "* een switch verbindt verschillende segmenten in een fysiek (Ethernet) netwerk. Je gebruikt dit om meerdere apparaten op een enkele \"upstream\" Ethernet-aansluiting, bijvoorbeeld van een router, aan te kunnen sluiten. Het minimale aantal aansluitingen is 3: 1 voor \"upstream\", en 2 voor downstream. In de praktijk is het minimum meestal 5.\n",
    "\n",
    "Je hebt een apparaat met 2 Ethernet-aansluitingen en een met 5 Ethernet-aansluitingen. Welke van de deze apparaten is de switch, en welke de router?\n",
    "\n",
    "(En, Ethernet en glasvezel-aansluiting: modem.)\n",
    "\n",
    "(Met \"router\" boedoelen we gewoonlijk \"IP router\"; met \"switch\": Ethernet-switch.)"
   ]
  },
  {
   "cell_type": "markdown",
   "id": "7db7c708-de92-42b4-9251-c30c2fbe2ca7",
   "metadata": {},
   "source": [
    "## Firewall (wat kunnen we daarover opmerken?)\n",
    "\n",
    "* kan op verschillende niveau's, maar meestal: UDP/TCP, en soms het toepassingsprotocol. \n",
    "\n",
    "Je hebt een firewall die alleen HTTP-verkeer op poort 80 toelaat; op andere poorten is geen HTTP-verkeer toegestaan. Welke fuguur geeft past bij deze firewall?\n",
    "\n",
    "Je hebt een firewall die alleen verkeer afkomstig van bepaalde IP-adressen mag doorlaten. Welke figuur past bij deze fiewall?\n"
   ]
  },
  {
   "cell_type": "markdown",
   "id": "cfeb8019-1e1e-4814-b15a-77c7ebbb41b4",
   "metadata": {},
   "source": [
    "Instellingen van een firewall:\n",
    "\n",
    "* op een computer\n",
    "* in een thousrouter\n",
    "\n",
    "NB: bij het gebruik van virtuele servers (bijv. VPS) kun je ook vaak een firewall instellen; bijv. combinatie van poort, en protocol (UDP, TCP, of toepassingsprotocol)."
   ]
  },
  {
   "cell_type": "markdown",
   "id": "f2d7a9b8-0904-40cc-882d-f277d4def788",
   "metadata": {},
   "source": [
    "Een firewall kan ook gebruikt worden om het verkeer vanuit het lokale netwerk naar buiten te blokkeren. Bijvoorbeeld: het verhinderen van het gebruik van bepaalde websites of diensten. (\"parental control\")\n",
    "\n",
    "* dit kan op basis van\n",
    "    * IP-adres\n",
    "    * protocol\n",
    "    * application (protocol op hoger niveau)\n"
   ]
  },
  {
   "cell_type": "markdown",
   "id": "606ed7ff-f4ab-4073-a7ad-85bc8ec69257",
   "metadata": {},
   "source": [
    "Stel, je wilt een IoT-apparaat alleen een MQTT-verbinding naar het publieke netwerk toestaan.\n",
    "Waar kun je dit instellen?\n",
    "\n",
    "* WiFi-router base station\n",
    "* Firewall in \"residential gateway\"\n",
    "* Ethernet-switch\n",
    "* DHCP in \"residential gateway\""
   ]
  },
  {
   "cell_type": "markdown",
   "id": "2d066fc5-a8b1-4ab4-894f-efd4318ca12f",
   "metadata": {},
   "source": [
    "Welke figuur hoort bij een firewall die het (uitgaande) verkeer naar bepaalde websites blokkeert?\n",
    "\n",
    "* Ethernet (fysiek) niveau\n",
    "* IP niveau\n",
    "* TCP niveau\n",
    "* HTTP niveau"
   ]
  },
  {
   "cell_type": "markdown",
   "id": "b5eb868e-d7d8-47de-aff2-7e550facdf12",
   "metadata": {},
   "source": [
    "(Wat is \"deep packet inspection\"? En welke gevolgen heeft dit voor de privacy?)"
   ]
  },
  {
   "cell_type": "markdown",
   "id": "ea5f4252-bbca-4380-810d-a2006e3246ff",
   "metadata": {},
   "source": [
    "```{mchoice} thuisrouter-WAN aansluiting naar ISP\n",
    ":correct: a\n",
    "\n",
    "Voor het aansluiten van de Ethernet-WAN aansluiting van een \"kale\" thuisrouter op de glasvezelverbinding van de internet service provider (ISP) gebruik je een:\n",
    "\n",
    "* modem\n",
    "* firewall\n",
    "* switch\n",
    "* router\n",
    "```"
   ]
  },
  {
   "cell_type": "markdown",
   "id": "14322dec-d319-400f-b658-0b203a4bf082",
   "metadata": {},
   "source": [
    "```{mchoice} Vraag 12\n",
    ":correct: c\n",
    "\n",
    "PC 1 en PC2 maken gebruik van dezelfde Ethernet-verbinding in het lokale netwerk. Op het moment dat PC 1 een groot bestand ophaalt vanuit het (snelle) internet, probeert PC 2 een bestand naar de lokale netwerkschijf (NAS) te sturen. Wat gebeurt er?\n",
    "\n",
    "* PC2 moet wachten totdat PC1 het bestand ontvangen heeft\n",
    "    * zie de uitleg over Ethernet; door het gebruik van pakketcommunicatie is \"gelijktijdige\" communicatie mogelijk\n",
    "* de communicatie van PC 2 wordt vertraagd door de communicatie van PC 1, andersom niet\n",
    "    * zie de uitleg over Ethernet; voor de Ethernetverbinding zijn beide communicaties gelijkwaardig\n",
    "* de communicaties van zolwel PC 1 als van PC 2 wordt vertraagd\n",
    "    * juist!\n",
    "* de communicaties van PC1 en PC 2 hebben geen invloed op elkaar\n",
    "    * zie de uitleg over Ethernet\n",
    "```"
   ]
  }
 ],
 "metadata": {
  "kernelspec": {
   "display_name": "Python 3 (ipykernel)",
   "language": "python",
   "name": "python3"
  },
  "language_info": {
   "codemirror_mode": {
    "name": "ipython",
    "version": 3
   },
   "file_extension": ".py",
   "mimetype": "text/x-python",
   "name": "python",
   "nbconvert_exporter": "python",
   "pygments_lexer": "ipython3",
   "version": "3.9.7"
  }
 },
 "nbformat": 4,
 "nbformat_minor": 5
}
