{
 "cells": [
  {
   "cell_type": "markdown",
   "id": "bcf5c502-119e-415a-9a10-ce7f9d3e96f5",
   "metadata": {},
   "source": [
    "# Toetsvragen"
   ]
  },
  {
   "cell_type": "markdown",
   "id": "2c60121d-fb58-4aec-b8a5-d582a56bf1b2",
   "metadata": {},
   "source": [
    "Benoemen van onderdelen: lokale router (\"residential gateway\"); WiFi base station; computer (\"eindapparaat\"); switch; bedrade verbinding (Ethernet); WAN-verbinding (glasvezel)."
   ]
  },
  {
   "cell_type": "markdown",
   "id": "7b566e50-350a-416d-96c7-69545ba079ae",
   "metadata": {},
   "source": [
    "Indelen in de juiste categorie: eindapparaat; fysieke verbinding (medium); netwerkapparaat. Computer; IoT-schakelaar; IoT-lamp; router/gateway; WiFi base station; (modem?); netwerkprinter; internet-router;  webserver (\"in the cloud\")."
   ]
  },
  {
   "cell_type": "markdown",
   "id": "edd90702-a05b-4a67-ae92-9a208d9c7a88",
   "metadata": {},
   "source": [
    "Wat verbind je met de LAN poorten van een thuisrouter, en wat met de WAN-poort?\n",
    "\n",
    "* verbinding naar het glasvezel-modem (of kabelmodem) van de ISP\n",
    "* verbinding naar de netwerkprinter\n",
    "* verbinding naar het Hue basisstation\n",
    "* verbinding naar een WiFi basisstation\n",
    "* verbinding naar een Ethernet switch\n",
    "* verbinding naar een desktop computer\n",
    "* verbinding naar de stroomvoorziening"
   ]
  },
  {
   "cell_type": "markdown",
   "id": "d1c869a1-6761-4ff5-ad4c-c3d3ee4a7fc2",
   "metadata": {},
   "source": [
    "Op het label van een apparaat vind je een netwerkadres; welk soort netwerkadres staat op dat label, en hoe vind je dat terug in de onderstaande tabel?\n",
    "\n",
    "Je wilt een web-verbinding (HTTP) maken met de webserver van een lokaal apparaat. Op het apparaat staat het MAX-adres van dit apparaat.\n",
    "\n",
    "* je kunt dit MAC-adres gebruiken in de URL voor deze webverbinding\n",
    "* voor de webverbinding heb je het IP-adres nodig; dat kun je vinden in de tabel van de router\n",
    "* of in de tabel van een netwerk-scanner."
   ]
  }
 ],
 "metadata": {
  "kernelspec": {
   "display_name": "Python 3 (ipykernel)",
   "language": "python",
   "name": "python3"
  },
  "language_info": {
   "codemirror_mode": {
    "name": "ipython",
    "version": 3
   },
   "file_extension": ".py",
   "mimetype": "text/x-python",
   "name": "python",
   "nbconvert_exporter": "python",
   "pygments_lexer": "ipython3",
   "version": "3.9.7"
  }
 },
 "nbformat": 4,
 "nbformat_minor": 5
}
