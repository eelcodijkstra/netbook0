{
 "cells": [
  {
   "cell_type": "markdown",
   "id": "bcf5c502-119e-415a-9a10-ce7f9d3e96f5",
   "metadata": {},
   "source": [
    "# Toetsvragen"
   ]
  },
  {
   "cell_type": "markdown",
   "id": "4e988e1f-81c0-41f0-a28c-9444fb725628",
   "metadata": {},
   "source": []
  },
  {
   "cell_type": "markdown",
   "id": "2c60121d-fb58-4aec-b8a5-d582a56bf1b2",
   "metadata": {},
   "source": [
    "Benoemen van onderdelen: lokale router (\"residential gateway\"); WiFi base station; computer (\"eindapparaat\"); switch; bedrade verbinding (Ethernet); WAN-verbinding (glasvezel)."
   ]
  },
  {
   "cell_type": "markdown",
   "id": "7b566e50-350a-416d-96c7-69545ba079ae",
   "metadata": {},
   "source": [
    "Indelen in de juiste categorie: eindapparaat; fysieke verbinding (medium); netwerkapparaat. Computer; IoT-schakelaar; IoT-lamp; router/gateway; WiFi base station; (modem?); netwerkprinter; internet-router;  webserver (\"in the cloud\")."
   ]
  },
  {
   "cell_type": "markdown",
   "id": "66c5b7e8-9f80-4791-8b81-68d250f0448f",
   "metadata": {},
   "source": [
    "```{dragndrop} vraag 2\n",
    "Plaats de onderstaande begrippen in de bijpassende categorie\n",
    "\n",
    "* eindapparaat\n",
    "    * computer\n",
    "    * IoT-schakelaar\n",
    "    * IoT-lamp\n",
    "    * webserver (\"in the cloud\")\n",
    "    * netwerkprinter\n",
    "* fysieke verbinding (medium)\n",
    "    * Ethernetkabel\n",
    "    * glasvezelkabel\n",
    "* netwerkapparaat\n",
    "    * WiFi basisstation\n",
    "    * internet-router\n",
    "    * thuisrouter (\"residential gateway\")\n",
    "```"
   ]
  },
  {
   "cell_type": "markdown",
   "id": "edd90702-a05b-4a67-ae92-9a208d9c7a88",
   "metadata": {},
   "source": [
    "Wat verbind je met de LAN poorten van een thuisrouter, en wat met de WAN-poort?\n",
    "\n",
    "* verbinding naar het glasvezel-modem (of kabelmodem) van de ISP\n",
    "* verbinding naar de netwerkprinter\n",
    "* verbinding naar het Hue basisstation\n",
    "* verbinding naar een WiFi basisstation\n",
    "* verbinding naar een Ethernet switch\n",
    "* verbinding naar een desktop computer\n",
    "* verbinding naar de stroomvoorziening"
   ]
  },
  {
   "cell_type": "markdown",
   "id": "03038fe5-b508-4dfd-91a7-ff64c9e9e338",
   "metadata": {},
   "source": [
    "```{dragndrop} Vraag 3\n",
    "Je thuisrouter (\"residential gateway\") heeft Ethernet-aansluitingen met de labels \"WAN\" en \"LAN\".\n",
    "\n",
    "Plaats de Ethernetnet-kabels van de onderstaande apparaten bij het juiste label.\n",
    "\n",
    "* WAN\n",
    "    * kabelmodem\n",
    "    * glasvezelmodem\n",
    "* LAN\n",
    "    * netwerkprinter\n",
    "    * Ethernet switch\n",
    "    * desktop-computer\n",
    "    * Hue basisstation (IoT)\n",
    "    * WiFi basisstation\n",
    "* no-target\n",
    "    * USB netvoeding"
   ]
  },
  {
   "cell_type": "markdown",
   "id": "f7057189-962a-495b-85f4-c38186b7f83c",
   "metadata": {},
   "source": [
    "Op het label van een apparaat vind je een netwerkadres; welk soort netwerkadres staat op dat label, en hoe vind je dat terug in de onderstaande tabel?"
   ]
  },
  {
   "cell_type": "markdown",
   "id": "0425e2ce-a252-4205-911e-5a1d94e54846",
   "metadata": {},
   "source": [
    "Je wilt een web-verbinding (HTTP) maken met de webserver van een lokaal apparaat. Op het apparaat staat het MAC-adres van dit apparaat.\n",
    "\n",
    "* je kunt dit MAC-adres gebruiken in de URL voor deze webverbinding\n",
    "* voor de webverbinding heb je het IP-adres nodig; dat kun je vinden in de tabel van de router\n",
    "* of in de tabel van een netwerk-scanner."
   ]
  },
  {
   "cell_type": "markdown",
   "id": "4d2ff2bc-a1bb-4b9a-a5e2-76cdeed7b0d5",
   "metadata": {},
   "source": [
    "Als je meer apparaten wilt aansluiten via een Ethernet-kabel dan het aantal aansluitigen van je thuisrouter, hoe os je dat dan op?\n",
    "\n",
    "* met behulp van een Ethernet *switch*\n",
    "* met behup van een IP switch\n",
    "* met behulp van een USB hub\n",
    "* "
   ]
  },
  {
   "cell_type": "markdown",
   "id": "4a136000-1284-424f-82cc-bee2df7ac70e",
   "metadata": {},
   "source": [
    "```{mchoice} vraag 4\n",
    ":correct: a\n",
    "\n",
    "Je thuisrouter (\"residential gateway\") heeft maar een beperkt aantal Ethernet-aansluitingen.\n",
    "Je wilt meer apparaten met een bedrade verbinding in het lokale netwerk kunnen aansluiten.\n",
    "Hoe los je dit op?\n",
    "\n",
    "* met een Ethernet *switch* aan een LAN-aansluiting van de router\n",
    "    * Juist! De switch verzorgt dan de \"routering\" op Ethernet/MAC-niveau \n",
    "* met een Ethernet *switch* aan een WAN-aansluiting van de router\n",
    "    * De WAN-aansluiting is voor het \"Wide Area Network\" van de internet service provider (ISP)\n",
    "* met een IP *router* aan een IP-aansluiting van de router\n",
    "    * (i) er zijn geen IP-aansluitingen; (ii) binnen een enkel netwerk heb je geen router nodig \n",
    "* met een USB-*hub* aan een USB-aansluiting van de router\n",
    "    * de USB-aansluiting is niet bedoeld voor het netwerk, alleen voor randapparaten van de router.\n",
    "```"
   ]
  },
  {
   "cell_type": "markdown",
   "id": "2eab33da-fde7-43ca-9d2e-bb9aa829e8ee",
   "metadata": {},
   "source": [
    "toetsvraag over DHCP? statische, dynamische adressen?"
   ]
  },
  {
   "cell_type": "markdown",
   "id": "cf07d380-5871-4c15-b2ad-2db99f213cc3",
   "metadata": {},
   "source": [
    "Is het verkeer tussen de apparaten in het lokale netwerk versleuteld?\n",
    "\n",
    "* ja, bijvoorbeeld met de WiFi versleuteling\n",
    "* nee, de WiFi versleuteling beveiligt alleen de toegang tot het netwerk "
   ]
  },
  {
   "cell_type": "markdown",
   "id": "f586331e-d02c-4daf-9bff-3402c96f85c7",
   "metadata": {},
   "source": [
    "```{mchoice} vraag 5\n",
    ":correct: a\n",
    "\n",
    "Is het verkeer tussen de apparaten in het lokale netwerk versleuteld?\n",
    "\n",
    "* ja, bijvoorbeeld met de WiFi versleuteling\n",
    "* nee, de WiFi versleuteling beveiligt alleen de toegang tot het netwerk, niet het verkeer in het netwerk.\n",
    "\n",
    "```"
   ]
  },
  {
   "cell_type": "markdown",
   "id": "f0794369-34f3-47e4-a47a-a901b8fc580f",
   "metadata": {},
   "source": [
    "Heeft het zin om op je computer te beveiligen tegen het lokale netwerk?\n"
   ]
  }
 ],
 "metadata": {
  "kernelspec": {
   "display_name": "Python 3 (ipykernel)",
   "language": "python",
   "name": "python3"
  },
  "language_info": {
   "codemirror_mode": {
    "name": "ipython",
    "version": 3
   },
   "file_extension": ".py",
   "mimetype": "text/x-python",
   "name": "python",
   "nbconvert_exporter": "python",
   "pygments_lexer": "ipython3",
   "version": "3.9.7"
  }
 },
 "nbformat": 4,
 "nbformat_minor": 5
}
