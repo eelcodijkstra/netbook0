{
 "cells": [
  {
   "cell_type": "markdown",
   "id": "15ea3c5c-5bc3-4251-adc5-6cd302b9e14b",
   "metadata": {},
   "source": [
    "# Rest"
   ]
  },
  {
   "cell_type": "markdown",
   "id": "90ff006d-cd66-4b65-9a26-b0c937b52961",
   "metadata": {},
   "source": [
    "(De volgende onderdelen moeten opgeruimd worden of elders toegevoegd.)"
   ]
  },
  {
   "cell_type": "markdown",
   "id": "557ea75c-f1f5-43f2-ac14-4126e28f9db5",
   "metadata": {},
   "source": [
    "*(Wel leuk om op te merken, maar zal de meeste lezers niet aanspreken.)*\n",
    "\n",
    "Een voordeel van zo'n ster-netwerk is de eenvoud.\n",
    "Ook het aanpassen van het netwerk aan een nieuwe (WiFi)versie is eenvoudig: je kunt beginnen met het vervangen van het basisstation, en daarna apparaten upgraden waar het nodig is. Deze apparaten hebben dan direct alle voordelen van de nieuwe versie.\n",
    "(In het geval van een *maasnetwerk* is het veel lastiger om dit aan te passen aan een nieuwe versie: je moet veel meer punten vervangen om direct voordeel te hebben.)"
   ]
  },
  {
   "cell_type": "markdown",
   "id": "ab56eed5-bd07-4cac-9df0-4962d6df54d6",
   "metadata": {},
   "source": [
    "## Adressering(?)"
   ]
  },
  {
   "cell_type": "markdown",
   "id": "e0771ab3-f718-424c-b790-219a4113f88b",
   "metadata": {},
   "source": [
    "### Routering in het lokale netwerk"
   ]
  },
  {
   "cell_type": "markdown",
   "id": "9f914054-c7ff-4e6c-8b43-b8c3db6ac85f",
   "metadata": {},
   "source": [
    "Waarom kun je in een lokaal netwerk werken met MAC-adressering? Omdat er geen routering plaatsvindt (afgezien van switches). En omdat er geen sprake is van een netwerkadres: er is maar 1 netwerk.\n",
    "\n",
    "De routering die plaatsvindt - in de vorm van switches - is maar beperkt, omdat het aantal apparaten in het netwerk beperkt is. (Hoe groot zijn de tabellen van een switch? Typisch enkele duizenden; maar voor grote switches kan dat meer dan een miljoen zijn.)"
   ]
  },
  {
   "cell_type": "markdown",
   "id": "59355619-6097-4fa1-9fee-60580080fe73",
   "metadata": {},
   "source": [
    "### Modulatie"
   ]
  },
  {
   "cell_type": "markdown",
   "id": "dd27b6d2-235f-4816-ba94-d87ec2931b7a",
   "metadata": {},
   "source": [
    "Enkele eenvoudige voorbeelden van modulatie: Je kunt een binair signaal, met 0-en en 1-en, weergeven met een enkel lichtsignaal, bijvoorbeeld: 1 is \"aan\", 0 is \"uit\". Je moet dan wel heel precies de timing (klok) van de data kennen, om twee of meer opeenvolgende 1-en of 0-en te kunnen decoderen. Deze aan/uit modulatie is een voorbeeld van *amplitude modulatie* (AM): de amplitude van het signaal bevat de informatie. Een andere mogelijkheid is om twee verschillende kleuren te gebruiken, bijvoorbeeld rood voor \"1\" en groen voor \"0\". Dit is een voorbeeld van *frequentie modulatie* (FM): de frequentie van het signaal bevat de informatie. In plaats van te werken met licht, kun je ook radiosignalen van verschillende frequenties gebruiken."
   ]
  },
  {
   "cell_type": "markdown",
   "id": "adfd0bf1-374f-4c6c-8a1e-8e84bf53c109",
   "metadata": {},
   "source": [
    "## NAT: network address translation\n",
    "\n",
    "Als je opdracht xxx gedaan hebt, heb je waarschijnlijk gezien dat het IP-adres van je computer in het lokale netwerk (thuis of op school) er anders uitziet dan het IP-adres gezien vanuit het publieke internet. Hoe kan dat, en hoe werkt dat?\n",
    "\n",
    "* bijvoorbeeld: https://whatismyipaddress.com/\n",
    "* \n",
    "\n",
    "De thuisrouter of residential gateway maakt hiervoor gebruik van NAT: Network Address Translation. Er zijn (veel) te weinig IPv4 adressen om elk apparaat in alle lokale netwerken van een uniek IP-adres te voorzien. De oplossing is dan om voor het lokale netwerk *lokale IP-adressen* te gebruiken; in het verkeer naar het publieke internet delen de lokale apparaten het publieke IP-adres van de NAT-router.\n",
    "\n",
    "Hoe kunnen die verschillende lokale apparaten *eenzelfde publiek IP-adres delen*? Hoe weet de NAT router bij een binnenkomend pakket, voor welk lokaal apparaat dit bestemd is? De oplossing zit in het gebruik van de *poortnummers* in de adressering.\n",
    "\n",
    "* een adres in de UDP- en TCP-protocollen bestaat uit een IP-adres en een poortnummer.\n",
    "    * een \"inkomend\" poortnummer van een server is gekoppeld aan dienst die die server biedt;\n",
    "    * bijvoorbeeld: poortnummer 80 is gewoonlijk de poort voor het web-protocol HTTP (via TCP).\n",
    "* de NAT-router zet de lokale combinatie (IPa, Portx) om in (IPs, Portax)\n",
    "    * hierin is IPa: een lokaal IP-adres; Portx: een lokaal poortnummer van IPa\n",
    "    * en IPs: het (gedeelde) externe IP-adres van de router\n",
    "    * en Portax: het externe poortnummmer van de router dat gebruikt wordt voor de lokale combinatie (IPa, Portx).\n",
    "\n",
    "Voorbeeld van een NAT-tabel:\n",
    "\n",
    "(Hebben we een voorbeeld hiervan van een echte router?)\n",
    "\n",
    "(Hoe vind je NAT terug in het interface van de router?)\n",
    "\n",
    "\n",
    "Het IP-adres van je thuisrouter wordt toegewezen door je internet provider (ISP). Dit kan een statisch (onveranderlijk) IP-adres zijn, of een dynamisch (veranderlijk) IP adres.\n",
    "\n",
    "Als je gebruik maakt van mobiel internet, wordt meestal een adres toegewezen op het moment dat je verbinding maakt.\n",
    "\n"
   ]
  },
  {
   "cell_type": "markdown",
   "id": "2ac67c3c-88de-4179-8bcd-f4c83a3e0e26",
   "metadata": {},
   "source": [
    "(Je zou het IP-adres van je Smartphone bij een mobiele verbinding ook moeten kunnen opvragen - heeft deze wel een IPv4 adres, of werkt deze alleen met IPv6? Ik zou niet weten waar je dat kunt vinden in de instellingen.)"
   ]
  },
  {
   "cell_type": "markdown",
   "id": "8aef642a-5966-46c3-bca1-88e860c3fe02",
   "metadata": {},
   "source": [
    "We hebben hier te maken met adressering op verschillende niveaus:\n",
    "\n",
    "* laagste, \"fysieke\" niveau: MAC adres. Dit is de \"native\" adressering in het lokale netwerk, die gebruikt wordt voor de \"routering\". (Het netwerk-interface van je computer of smartphone werkt op dit niveau.)\n",
    "    * voor de adressering van (eind)apparaten in het netwerk\n",
    "* IP-niveau (netwerklaag):\n",
    "    * voor de adressering van (eind)apparaten in het netwerk\n",
    "* TCP, UDP niveau (transportlaag?) - hoort eigenlijk nog bij de universele, logische laag; maar valt buiten het eigenlijke netwerk.\n",
    "    * voor de adressering van (netwerk)toepassingen cq. diensten in eindapparaten\n",
    "    * (bijv. een webserver; of, in de response van de webserver, de client (browser))"
   ]
  },
  {
   "cell_type": "markdown",
   "id": "9e05ff49-6e4e-4066-93a7-6c02d377c546",
   "metadata": {},
   "source": [
    "* een MAC-adres is gekoppeld aan een apparaaat, niet aan het netwerk\n",
    "* een IP-adres is gekoppeld aan het netwerk waarin het apparaat verbonden is: als je je apparaat in een ander netwerk verbindt, krijgt dit een ander IP-adres.\n",
    "    * vergelijk bijvoorbeeld: het IP-adres van je computer thuis, op school, of in het mobiele netwerk.\n"
   ]
  },
  {
   "cell_type": "markdown",
   "id": "5a52b535-9c73-4374-9cd3-9355a36f16b3",
   "metadata": {},
   "source": [
    "## Fysieke verbindingen\n",
    "\n",
    "Voor communicatie heb je altijd een fysieke basis nodig: data worden overgestuurd als elektrische signalen (Ethernet kabel), als lichtsignalen (glasvezel), of als radiosignalen (WiFi, mobiel internet). \n",
    "\n",
    "Verder moet je afspreken in welke vorm deze data overgestuurd worden. De data, in de vorm van een reeks bits, wordt daarbij vaak gemoduleerd: het digitale signaal wordt in een analoog signaal omgezet dat efficiënt en betrouwbaar overgestuurd kan worden. Een modem staat voor *mo*dulatie/*dem*odulatie: hiermee kun je zowel \"zenden\" als \"ontvangen\".\n",
    "\n",
    "* er zijn allerlei vormen van modulatie van binaire signalen, bijvoorbeeld:\n",
    "    * baseband modulatie (eigenlijk \"geen modulatie\"): 0 en 1 worden door verschillende spanningen voorgesteld. Je hebt daarnaast een kloksignaal nodig om te weten op welk tijdstip de opeenvolgende bits in het signaal te vinden zijn. Dit wordt gebruikt voor lokale verbindingen, binnen een computer, of in een lokaal netwerk (Ethernet).\n",
    "    * frequency shift keying: 0 en 1 worden door verschillende frequenties voorgesteld. Een voorbeeld hiervan is het \"ouderwetse\" telefoonmodem: je gebruikt verschillende frequenties voor 0 en voor 1.\n",
    "    * complexere vormen van modulatie, zoals gebruikt bij WiFi, maken een grotere datasnelheid mogelijk.\n",
    "    \n",
    "* https://www.youtube.com/watch?v=QDS4B0mM-ew (geluid van een telefoonmodem)"
   ]
  },
  {
   "cell_type": "markdown",
   "id": "8560842a-1d98-4688-9afb-f94bedba68e9",
   "metadata": {},
   "source": [
    "## Data: modulatie e.d.\n",
    "\n",
    "In een netwerk heb je veel meer afspraken nodig rond de data:\n",
    "\n",
    "* de data worden (in de huidige netwerken) als pakketten verstuurd;\n",
    "* per pakket heb je, naast de eigenlijke data, metadata nodig, zoals adres van de bestemming, van de afzender, lengte van de data, checksum van de data, en het protocol voor de interpretatie van de data.\n",
    "\n",
    "Voorbeeld van een eenvoudige netwerkscanner: https://iot4beginners.com/creating-a-raspberry-pi-network-scanner/ (uit te breiden met het scannen van poorten?)"
   ]
  },
  {
   "cell_type": "markdown",
   "id": "67233ed1-0b2a-4ea2-a1db-4dd4370e446c",
   "metadata": {},
   "source": [
    "---"
   ]
  },
  {
   "cell_type": "markdown",
   "id": "2fc9abe3-b351-4916-bc25-cfe0764953d8",
   "metadata": {},
   "source": [
    "* lokaal IoT-apparaat dat je wilt bedienen vanuit het publieke internet - welke mogelijkheden?\n",
    "    * via externe server\n",
    "    * via open poort (kan meestal maar met 1 apparaat)\n",
    "    * "
   ]
  },
  {
   "cell_type": "markdown",
   "id": "91d2d34c-7b10-49bf-93ba-7866837d3a2c",
   "metadata": {},
   "source": [
    "## Gebruik van shell-opdrachten\n",
    "\n",
    "* je kunt in Jupyter Notebook shell-opdrachten uitvoeren, deze worden dan uitgevoerd op de server (dus meestal niet op je eigen computer)\n",
    "* bijvoorbeeld:\n",
    "    * `ping ip-adres`\n",
    "    * "
   ]
  },
  {
   "cell_type": "markdown",
   "id": "aac05d61-4a04-45f2-add3-9662aaa0daca",
   "metadata": {},
   "source": [
    "## Gebruik van \"localhost\"\n",
    "\n",
    "Je kunt ook via het netwerk-interface van je computer verbinding maken met je eigen computer. Dat is bijvoorbeeld zinvol als je een webserver uittest op je computer. Maar er zijn ook andere programma's zoals Jupyter Notebook die altijd gebruik maken van een web-interface: je gebruik de browser voor de user interface, en een server - mogelijk op je eigen computer - voor het rekenwerk.\n",
    "\n",
    "De internet-verbinding met je eigen computer heet ook wel \"localhost\", met als IP-adres `127.0.0.1`.\n",
    "\n",
    "Het lijkt een omweg, om je eigen computer te gebruiken via de internet interface, en dat is het ook wel. Maar omdat steeds meer programma's ontworpen zijn om te gebruiken via het internet, met de browser voor de user interface, is dit in veel gevallen een praktische oplossing. Ook voor programma's als database-servers wordt de localhost-verbinding vaak gebruikt.\n",
    "\n",
    "* gebruik van een lokale database server\n",
    "\n",
    "\n",
    "Mogelijke opdrachten:\n",
    "\n",
    "* ping naar localhost?\n",
    "* start een (statische) webserver op je eigen computer - bijvoorbeeld: python webserver, of de eenvoudige statische webserver; en bekijk vervolgens via deze webserver en localhost in de browser een lokaal html-bestand.\n",
    "\n"
   ]
  },
  {
   "cell_type": "markdown",
   "id": "0b04b636-b926-4391-ac96-33bf3f2abbb5",
   "metadata": {},
   "source": [
    "* \"ping\" naar een bekende website\n",
    "* \"traceroute\" naar een bekende website\n",
    "* \"ping\" naar een IP-adres in je lokale netwerk\n"
   ]
  },
  {
   "cell_type": "markdown",
   "id": "caa4411e-dec6-4042-b25e-e36c3c35e237",
   "metadata": {},
   "source": [
    "(Gebruik van een IoT-apparaat als webserver.)"
   ]
  },
  {
   "cell_type": "markdown",
   "id": "811309d0-5302-4b6b-988c-01de675f1e78",
   "metadata": {},
   "source": [
    "Discussie: is het zinvol om een apart netwerk te gebruiken voor IoT-apparaten?\n",
    "\n",
    "Welke bedreigingen zijn er in het interne netwerk?\n",
    "\n",
    "* bedreigingen van laptop/desktop-computers (bijv. met prive-data; gebruikt voor bankieren e.d.)\n",
    "    * \"versleuteling van alle data op je computer\"?\n",
    "* bedreigingen van IoT-apparaten\n",
    "    * bediening van je apparaten wordt overgenomen\n",
    "    * apparaten worden afgeluisterd\n",
    "    \n",
    "(Bijv. bediening van je verwarming wordt overgenomen? of je camera('s) worden afgeluisterd? bediening van je voordeur?)\n"
   ]
  },
  {
   "cell_type": "markdown",
   "id": "6ad9b3c3-65d9-402a-8432-21258e0e7992",
   "metadata": {},
   "source": [
    "```{todo}\n",
    "* opdracht(en) voor de thuisrouter\n",
    "    * openzetten van een poort (bijv. voor RasPi met webserver?) - vgl. ook games\n",
    "    * VPN verbinding met het lokale netwerk\n",
    "```"
   ]
  },
  {
   "cell_type": "markdown",
   "id": "6993281f-f021-409a-a533-e72f9b3c9d69",
   "metadata": {},
   "source": [
    "---"
   ]
  },
  {
   "cell_type": "markdown",
   "id": "4726e527-5a07-4463-8bcb-69a716386d37",
   "metadata": {},
   "source": [
    "````{parsons} Parsons puzzle test\n",
    "\n",
    "Dit is de inleidende tekst.\n",
    "\n",
    "Deze kan uit meerdere paragrafen bestaan.\n",
    "\n",
    "```elm\n",
    "x = 0\n",
    "while x < 10:\n",
    "    print(x)\n",
    "    x = x + 1\n",
    "```\n",
    "\n",
    "````"
   ]
  },
  {
   "cell_type": "markdown",
   "id": "76dca420-4860-4b98-8afe-84a21e7f0795",
   "metadata": {},
   "source": [
    "## Toetsvragen"
   ]
  },
  {
   "cell_type": "markdown",
   "id": "054a683e-2520-49d1-ba60-84d5a5ec5589",
   "metadata": {},
   "source": [
    "toetsvraag over DHCP? statische, dynamische adressen?"
   ]
  },
  {
   "cell_type": "markdown",
   "id": "c7f65f06-988e-4637-a826-129dab25f8eb",
   "metadata": {},
   "source": [
    "Heeft het zin om op je computer te beveiligen tegen het lokale netwerk?\n"
   ]
  },
  {
   "cell_type": "markdown",
   "id": "b0a82190-234e-4669-827c-4a3b883744bc",
   "metadata": {},
   "source": [
    "Vragen over IP- en MAC-adressen\n",
    "\n",
    "* een eindapparaat heeft 1 IP adres\n",
    "* een eindapparaat kan meerdere IP-adressen hebben\n",
    "* een eindapparaat heeft 1 MAC adres\n",
    "* een eindapparaat kan meerdere MAC-adressen hebben\n"
   ]
  },
  {
   "cell_type": "markdown",
   "id": "fdc3568d-e891-4f8b-ba25-979ea5185a89",
   "metadata": {},
   "source": [
    "een switch verzorgt de \"routering\" op MAC-niveau in het lokale netwerk.\n",
    "daarmee kan verkeer in een deel-netwerk lokaal blijven.\n",
    "\n",
    "Hoe verloopt de lokale communicatie in een Ethernet-netwerk? Tussen twee eindapparaten?\n",
    "\n",
    "* een bericht (Ethernet-pakket) wordt van het eindapparaat naar de router gestuurd;\n",
    "    * de router stuurt dit vervolgens naar het andere apparaat.\n",
    "* een bericht wordt op de Ethernet-verbinding gezet;\n",
    "    * de ontvanger herkent dat het bericht voor hem(?) bestemd is en leest het bericht\n",
    "\n",
    "Waarom heet het \"Ethernet\"? Omdat het een gedeeld medium is, net als in het geval van een radio-verbinding."
   ]
  },
  {
   "cell_type": "markdown",
   "id": "c4b9cd52-14c6-4606-9f5f-52b2c70b8ce9",
   "metadata": {},
   "source": [
    "Heeft de residential gateway een webserver? Hoe weet je dat? Wat is het IP-adres van deze webserver, gezien vanuit het lokale netwerk?"
   ]
  },
  {
   "cell_type": "markdown",
   "id": "132c97f1-3f95-4b4b-9cd8-e9744f06d83a",
   "metadata": {
    "tags": []
   },
   "source": [
    "## VPN\n",
    "\n",
    "* wat is VPN? Waar staat deze afkorting voor?\n",
    "* wat is er \"virtueel\" aan dit netwerk? (Wat is de \"fysieke\" basis voor dit netwerk?)\n",
    "    *VPN op basis van UDP of TCP? (TCP geeft een verbinding)\n",
    "* verschillende manieren om VPN te gebruiken\n",
    "    * om van elders toegang te hebben tot het lokale netwerk\n",
    "    * om vanaf je computer toegang te hebben tot servers/diensten \"elders\", waarbij je voor de server de lokatie e.d. van de client verbergt. (Ook voor het tussenliggende netwerk is het verkeer dan afgeschermd.)\n",
    "    * bijv. omzeilen van \"firewalls\" zoals de Chinene Muur. (En andere vormen van \"deep packet inspection\">\n",
    "    "
   ]
  },
  {
   "cell_type": "markdown",
   "id": "48df4243-8340-41d1-b9e3-ada4064592e2",
   "metadata": {},
   "source": [
    "Waarvoor staat de afkorting VPN?\n",
    "\n",
    "* Virtual Private Network\n",
    "* Virtual Personal Network\n",
    "* Virtual Privacy Network\n",
    "* Virtual Protected Network"
   ]
  },
  {
   "cell_type": "markdown",
   "id": "0ff16949-dffe-41cf-99f9-1bcec225bb23",
   "metadata": {},
   "source": [
    "Een VPN stelt je in staat om: / Met een VPN kun je\n",
    "\n",
    "* via het publieke internet op een veilige manier toegang krijgen tot apparaten, servers en bestanden in je thuisnetwerk (\"private network\").\n",
    "* apparaten, servers en bestanden in je thuisnetwerk (\"private network\") voor iedereen toegankelijk maken in het publieke internet.\n",
    "* apparaten, servers en bestanden in je thuisnetwerk afschermen van het publieke internet.\n",
    "* (???)"
   ]
  },
  {
   "cell_type": "markdown",
   "id": "cca99062-94bb-4cd7-9cc7-87168b0f0a0c",
   "metadata": {},
   "source": [
    "## Switch, router, e.d.\n",
    "\n",
    "Welke figuur geeft de rol van een switch in het netwerk aan?\n",
    "\n",
    "(figuren: hub: verbinding op medium-niveau:? switch: verbinding op MAC-niveau; IP-router: verbinding op IP-niveau; residential gateway/NAT router: verbinding op UDP/TCP niveau. (\"bridge\" - verbinding op toepassings=niveau?)\n",
    "\n",
    "WiFi-basisstation: heeft twee verschillende fysieke interfaces; gebruiken deze dezelfde pakketten?\n",
    "\n",
    "En/of: plaats het netwerkapparaat bij de betreffende figuur.\n",
    "\n",
    "(\"Hoe programmeer je een switch?\") - \"switch is zelf-lerend\"."
   ]
  },
  {
   "cell_type": "markdown",
   "id": "ffb186c8-6c27-4336-aa53-e94f9a2908d7",
   "metadata": {},
   "source": [
    "Wat is het minimale aantal netwerkaansluitingen van een router? en van een switch?\n",
    "\n",
    "* een router verbindt verschillende IP-netwerken; deze heeft per netwerk een aansluiting nodig. Het minimale aantal netwerken dat een router verbindt is 2 (meestal is er dan sprake van een gateway). Het minimale aantal aansluitingen is dus ook 2\n",
    "* een switch verbindt verschillende segmenten in een fysiek (Ethernet) netwerk. Je gebruikt dit om meerdere apparaten op een enkele \"upstream\" Ethernet-aansluiting, bijvoorbeeld van een router, aan te kunnen sluiten. Het minimale aantal aansluitingen is 3: 1 voor \"upstream\", en 2 voor downstream. In de praktijk is het minimum meestal 5.\n",
    "\n",
    "Je hebt een apparaat met 2 Ethernet-aansluitingen en een met 5 Ethernet-aansluitingen. Welke van de deze apparaten is de switch, en welke de router?\n",
    "\n",
    "(En, Ethernet en glasvezel-aansluiting: modem.)\n",
    "\n",
    "(Met \"router\" boedoelen we gewoonlijk \"IP router\"; met \"switch\": Ethernet-switch.)"
   ]
  },
  {
   "cell_type": "markdown",
   "id": "7cd4a841-cf87-4cd1-a7e2-c838f6ffc98e",
   "metadata": {},
   "source": [
    "## Firewall (wat kunnen we daarover opmerken?)\n",
    "\n",
    "* kan op verschillende niveau's, maar meestal: UDP/TCP, en soms het toepassingsprotocol. \n",
    "\n",
    "Je hebt een firewall die alleen HTTP-verkeer op poort 80 toelaat; op andere poorten is geen HTTP-verkeer toegestaan. Welke fuguur geeft past bij deze firewall?\n",
    "\n",
    "Je hebt een firewall die alleen verkeer afkomstig van bepaalde IP-adressen mag doorlaten. Welke figuur past bij deze fiewall?\n"
   ]
  },
  {
   "cell_type": "markdown",
   "id": "a90bb873-b6cb-4e08-a04c-1efcc9dc0d28",
   "metadata": {},
   "source": [
    "Instellingen van een firewall:\n",
    "\n",
    "* op een computer\n",
    "* in een thousrouter\n",
    "\n",
    "NB: bij het gebruik van virtuele servers (bijv. VPS) kun je ook vaak een firewall instellen; bijv. combinatie van poort, en protocol (UDP, TCP, of toepassingsprotocol)."
   ]
  },
  {
   "cell_type": "markdown",
   "id": "432400b6-e6d7-4dae-ac27-872852539605",
   "metadata": {},
   "source": [
    "Een firewall kan ook gebruikt worden om het verkeer vanuit het lokale netwerk naar buiten te blokkeren. Bijvoorbeeld: het verhinderen van het gebruik van bepaalde websites of diensten. (\"parental control\")\n",
    "\n",
    "* dit kan op basis van\n",
    "    * IP-adres\n",
    "    * protocol\n",
    "    * application (protocol op hoger niveau)\n"
   ]
  },
  {
   "cell_type": "markdown",
   "id": "bd10ac38-88a8-4056-bf7e-51d0966a3597",
   "metadata": {},
   "source": [
    "Stel, je wilt een IoT-apparaat alleen een MQTT-verbinding naar het publieke netwerk toestaan.\n",
    "Waar kun je dit instellen?\n",
    "\n",
    "* WiFi-router base station\n",
    "* Firewall in \"residential gateway\"\n",
    "* Ethernet-switch\n",
    "* DHCP in \"residential gateway\""
   ]
  },
  {
   "cell_type": "markdown",
   "id": "419b59e6-d65c-4f6f-a3d8-161a50eae5a1",
   "metadata": {},
   "source": [
    "## Internet"
   ]
  },
  {
   "cell_type": "markdown",
   "id": "b1056ef4-8507-4d92-9734-fdd5a3d5dd2a",
   "metadata": {},
   "source": []
  },
  {
   "cell_type": "markdown",
   "id": "b993bcbf-58ce-4bf8-836c-f2bdb0277acf",
   "metadata": {
    "tags": []
   },
   "source": [
    "## Backbone(*)\n",
    "\n",
    "Voor het internetverkeer over grote afstanden, bijvoorbeeld overzee, zijn er glasvezelkabels met grote capaciteit aangelegd, bijvoorbeeld op de bodem van de atlatische oceaan.\n",
    "\n",
    "zie figuur voor deze verbindingen\n",
    "\n",
    "* https://www.infrapedia.com\n",
    "\n",
    "Om al deze verbindingen en de ISP-netwerken op elkaar aan te sluiten zijn er grote schakelcentra ingericht. Eén van de grootste wereldwijd is de \"Amsterdam Internet Exchange\". zie: https://www.ams-ix.net/ams en https://en.wikipedia.org/wiki/Amsterdam_Internet_Exchange.\n",
    "\n",
    "Het uitwisselen van het dataverkeer tussen verschillende Internet Service Providers (ISPs) In een IXP gebeurt op basis van *peering* overeenkomsten, meestal met gesloten beurzen: beide ISPs zijn gebaat bij de aansluiting op elkaars netwerk. \n",
    "\n",
    "Het alternatief voor deze directe uitwisseling is de aansluiting van het ISP-netwerk op een \"hoger\" (\"upstream\") netwerk. Hiervoor moeten wel de kosten voor dataverkeer betaald worden.\n",
    "voorgebruik van een \"hoger\" netwerk, waarop een ISP aangesloten \n",
    "\n",
    "\n",
    "De grootste ISPs (\"Tier-1 networks\") hebben zoveel capaciteit, verbindingen en aansluitingen dat ze altijd op basis van peering overeenkomsten met gesloten beurs hun netwerk op andere netwerken kunnen aansluiten.\n",
    "Tier-2 ISPs kunnen via peering op andere Tier-2 netwerken aangesloten worden, maar voor aansluiting op grotere netwerken moet betaald worden.\n",
    "andere Tier-2 ISPs v\n",
    "\n",
    "(Peering: aansluiting van netwerken op elkaar, niet op de rest van het internet. Transit: aansluiting op \"de rest van het internet\". Peering kan in veel gevallen met gesloten beurs (\"settlement-free peering\"; voor transit moet altijd betaald worden.)\n",
    "\n",
    "* Tier 1 netwerk\n",
    "* Internet transit\n",
    "* Internet peering\n",
    "* IXP\n",
    "* https://www.pch.net\n",
    "\n",
    "Er is geen centrale organisatie die het internet beheert. Er is wel een aantal organisaties dat probeert het internet in goede banen te leiden. Organisaties en bedrijven die zich aan de richtlijnen houden weten dat dit de beste manier is om het internet betrouwbaar, veilig en efficiënt te houden. Er is in verschillende landen wel sprake van politieke invloed op het internet en het gebruik daarvan. De genoemde organisaties geven voorlichting aan overheden om de werking van het internet te begrijpen, en om de gevolgen van bepaalde politieke invloed op het internet(-gebruik) duidelijk te maken. \n",
    "\n",
    "* voor het uitdelen van unieke nummers en namen (bijv. domeinnamen?) protocolnummers e,d, IANA\n",
    "* IETF - protocoldefinitie\n",
    "\n"
   ]
  },
  {
   "cell_type": "markdown",
   "id": "b08bba03-03ee-4c87-8932-f0e69258f42d",
   "metadata": {},
   "source": [
    "```{figure} images/internet-tiers.png\n",
    ":width: 600px\n",
    "\n",
    "Internet-tiers\n",
    "```"
   ]
  },
  {
   "cell_type": "markdown",
   "id": "f622a1e7-138c-44eb-8818-dce18a97e1f7",
   "metadata": {},
   "source": [
    "---"
   ]
  },
  {
   "cell_type": "markdown",
   "id": "bd826236-52dc-43d9-8477-7b3fa4f490d6",
   "metadata": {},
   "source": [
    "```{todo} figuur-tiers\n",
    "\n",
    "figuur van de manier waarop de verschillende lagen (tiers) in het internet verbonden zijn.\n",
    "\n",
    "* https://en.wikipedia.org/wiki/Tier_1_network\n",
    "    * ik begrijp deze figuur niet helemaal, o.a. de PoP-elementen?\n",
    "* (er is nog een andere, voor mijn gevoeg duidelijker figuur. Waar?\n",
    "\n",
    "```"
   ]
  },
  {
   "cell_type": "markdown",
   "id": "ba5f0997-9919-48f3-b9cb-c961e2b0c59c",
   "metadata": {},
   "source": [
    "## Routering\n",
    "\n",
    "* via BGP\n",
    "* elk IP-pakket wordt afzonderlijk gerouteerd. Door het uitvallen van verbindingen of routers, of door tijdelijke overbelasting daarvan, kunnen opeenvolgende pakketten met dezelfde afzender en dezelfde bestemming een andere route krijgen. Ook kunnen er onderweg pakketten verloren raken, door een gestoorde communicatie of door een overbelaste router. Dit betekent dat het niet zeker is dat alle verzonden pakketten aankomen; en de volgorde bij aankomst kan anders zijn dan de volgorde bij verzenden.\n",
    "    * met andere woorden: als het vorige pakket nog niet ontvangen is, betekent dat niet noodzakelijk dat het verloren geraakt is.\n"
   ]
  },
  {
   "cell_type": "markdown",
   "id": "dab6aeb4-b232-4dee-a532-3dfb64e00aa8",
   "metadata": {},
   "source": [
    "Het internet is een netwerk van netwerken.\n",
    "De routers in het netwerk verbinden steeds twee of meer netwerken.\n",
    "Tussen twee routers in het netwerk bestaan vaak meerdere verbindingen: het netwerk is *redundant*.\n",
    "Dit betekent dat het wegvallen van een verbinding of van een router de verbondenheid van het netwerk niet direct in gevaar brengt.\n",
    "Dit betekent ook dat het vinden van het \"beste\" pad voor een pakket, van afzender A naar bestemming B, niet altijd eenvoudig is is: er zijn soms heel veel verschillende paden mogelijk."
   ]
  },
  {
   "cell_type": "markdown",
   "id": "e3c8e7f7-25c1-4110-b7c1-0324f9618941",
   "metadata": {},
   "source": [
    "```{figure} images/maas-netwerk.png\n",
    ":width: 350\n",
    "\n",
    "Maas-netwerk\n",
    "```"
   ]
  },
  {
   "cell_type": "markdown",
   "id": "d6e5fd35-3493-4462-8d0f-4e6df0af85f4",
   "metadata": {},
   "source": [
    "Je kunt het internet vergelijken met het wegennet:\n",
    "een verbinding is dan een weg, en een router een kruising van wegen (kruispunt of t-splitsing).\n",
    "Het vinden van het \"beste pad\" kun je dan vergelijken met de taak van een TomTom.\n",
    "(Een verschil is dat de TomTom de hele route van te voren bepaalt; we zullen zien dat dat in het internet niet het geval is.)"
   ]
  },
  {
   "cell_type": "markdown",
   "id": "9646884a-c754-45b9-9abb-f586427fbed4",
   "metadata": {},
   "source": [
    "Het routeren van een pakket van afzender A naar bestemming B is het bepalen van het \"beste\" pad van A naar B.\n",
    "Als een router een pakket ontvang voor bestemming B, en\n",
    "\n",
    "* B bevindt zich in een netwerk dat direct verbonden is met de router: de router stuurt het pakket direct naar B:\n",
    "* B bevindt zich niet in één van de direct verbonden netwerken: de router stuurt het pakket naar de eerstvolgende router in één van de verbonden netwerken die \"een stap dichter bij B ligt\" op het \"beste pad\".\n",
    "\n",
    "Hiervoor moet elke router weten wat de direct verbonder routers zijn, en welke netwerken via die routers te bereiken zijn (en met welke snelheden e.d.) . Het Border Gateway Protocol (BGP)zorgt voor het uitwisselen van deze informatie tussen de routers."
   ]
  },
  {
   "cell_type": "markdown",
   "id": "8d885649-e914-4ddd-adac-1cd6559a11b1",
   "metadata": {},
   "source": [
    "De eigenschappen van het netwerk veranderen in de loop van de tijd: verbindigen vallen soms weg, er komen nieuwe verbindingen bij, verbindingen of routers raken overbelast, enz. Het \"beste pad\" van A naar B zal daarom niet op elk moment hetzelfde zijn.\n",
    "\n",
    "Omdat elk pakket onafhankelijk van de andere pakketten gerouteerd wordt, kunnen opeenvolgende pakketten van A naar B een verschillend pad in het netwerk afleggen. Hierbij kunnen pakketten elkaar inhalen: de volgorde bij aankomst is dan anders dan de volgorde bij verzenden.\n",
    "\n",
    "Het netwerk is niet volledig betrouwbaar: een pakket kan verloren raken door storing van een verbinding, door overbelasting van een router, enz. Het is de taak van hogere protocollen om dit probleem (\"end to end\") op te lossen: dit is niet de taak van het netwerk. (Dit maakt het netwerk veel eenvoudiger, en, paradoxaal genoeg, daardoor ook sneller en betrouwbaarder.)"
   ]
  },
  {
   "cell_type": "markdown",
   "id": "49c03e66-a3b6-41e3-91bc-f6e4d9fc93da",
   "metadata": {},
   "source": [
    "Je kunt een overbelaste router vergelijken met een overbelast distributiecentrum dat zo nu en dan een stapel pakjes weggooit, om ervoor te zorgen dat de rest op tijd bezorgd wordt - in plaats van dat alles vastloopt.\n",
    "\n",
    "(Dit is mogelijk ook een oplossing voor het fileprobleem: een deel van de auto's wordt tijdelijk verplicht aan de kant gezet.)"
   ]
  },
  {
   "cell_type": "markdown",
   "id": "1b3269ae-088e-4e07-b35d-3f54057a8ccb",
   "metadata": {},
   "source": [
    "## ??"
   ]
  },
  {
   "cell_type": "markdown",
   "id": "c93b4c59-992b-4ff9-9799-b514d580fddb",
   "metadata": {},
   "source": [
    "* het internet is een maas-netwerk (mesh network), met *redundante* verbindingen.\n",
    "    * deze redundantie (extra verbindingen) zorgen ervoor dat het netwerk kan blijven functioneren, ook als er een enkele verbinding uitvalt (of overbelast raakt)\n",
    "    * dit maakt het routeren wel lastiger, omdat de \"snelste verbinding tussen twee punten\" in de tijd kan veranderen.\n",
    "* voor de routering van pakketten wordt een bepaald algoritme gebruikt (BGP)\n",
    "* elk pakket wordt onafhankelijk van de andere pakketten gerouteerd. De pakketten van eenzelfde HTTP-verbinding kunnen dus verschillende routes afleggen.\n",
    "* een pakket kan verloren raken... bijvoorbeeld als gevolg van een transmissiefout, maar ook door een buffer-overflow bij een router\n",
    "    * dit probleem wordt niet in het netwerk opgelost, maar moet door de protocollen in de hogere lagen (transportlaag: TCP of toepassingenlaag) opgelost worden.\n",
    "    * dit is een voorbeeld van het \"end to end\" principe - omdat de manier waarop dit probleem het best opgelost kan worden, afhankelijk is van de toepassing. Bijvoorbeeld in het geval van internet-telefonie, VoIP, levert het verlies van een paar pakketten niet direct problemen op. (Extra latency voor het oplossen hiervan, zoals bij TCP, is een groter probleem.)\n",
    "* alle netwerkapparaten in het publieke internet werken - in principe - alleen op het IP-niveau\n",
    "    * voor de functionaliteit is dat voldoende\n",
    "    * maar: soms vindt \"deep packet inspection\" plaats\n",
    "    * en bijv. caching van protocollen op hogere niveaus (html?)\n"
   ]
  },
  {
   "cell_type": "markdown",
   "id": "cbb1e931-e557-43ba-94ad-fd3aae466507",
   "metadata": {},
   "source": [
    "figuur: maas-netwerk (met benoemde punten)"
   ]
  },
  {
   "cell_type": "markdown",
   "id": "11d8be0b-b756-4c12-a6e3-1d7af20da965",
   "metadata": {},
   "source": [
    "Wat kunnen we in deze context zeggen over adressering? Het gaat eigenlijk vnl. over routering, op basis van IP-adressen (IP-netwerk-adressen.)\n"
   ]
  },
  {
   "cell_type": "markdown",
   "id": "f9e61dd9-639b-4501-8f9c-5d8cc96a3955",
   "metadata": {},
   "source": [
    "Internet Backbone (Cisco figuren)\n",
    "\n",
    "\"backbone providers sell their services to ISP's\"\n",
    "\n",
    "* https://en.wikipedia.org/wiki/List_of_Internet_exchange_points"
   ]
  },
  {
   "cell_type": "markdown",
   "id": "145b748d-e579-4796-bea9-4627cda3a866",
   "metadata": {},
   "source": [
    "Internet outages\n",
    "\n",
    "* https://www.thousandeyes.com/outages/\n",
    "\n",
    "Internet radar\n",
    "\n",
    "* https://radar.cloudflare.com\n",
    "\n",
    "Met o.a. verschillende soorten aanvallen (DDOS e.d.)"
   ]
  },
  {
   "cell_type": "markdown",
   "id": "b9ebf42c-301c-45a4-9f43-2e72b9255a3a",
   "metadata": {},
   "source": [
    "Cloudflare (zijn er ook alternatieve aanbieders van dit soort diensten? - o.a. CND, content delivery network - voor de caching van content \"dichtbij de gebruikers\".)"
   ]
  },
  {
   "cell_type": "markdown",
   "id": "5fec6edd-ca7b-4fed-9c8c-3775c2beabef",
   "metadata": {},
   "source": [
    "Tier-1 networks - https://en.wikipedia.org/wiki/Tier_1_network\n",
    "\n",
    "\"zo groot dat ze met *peering* kunnen volstaan, en niet hoeven te betalen voor het uitwisselen van verkeer met andere netwerken.\""
   ]
  },
  {
   "cell_type": "markdown",
   "id": "3b9f2cd6-2630-446b-8bd6-01dcb68ee00b",
   "metadata": {},
   "source": [
    "Amsterdam Internet Exchange\n",
    "\n",
    "* https://nl.wikipedia.org/wiki/Amsterdam_Internet_Exchange\n",
    "* https://en.wikipedia.org/wiki/List_of_Internet_exchange_points\n",
    "\n",
    "Schakelpunten tussen netwerken; verwerken grote hoeveelheden dataverkeer."
   ]
  },
  {
   "cell_type": "markdown",
   "id": "aa62c14e-46db-4826-b859-95d10ccbf6ff",
   "metadata": {},
   "source": [
    "## Adressering in het internet\n",
    "\n",
    "* internetadres bestaat uit (netwerkadres, hostadres)\n",
    "    * in het geval van IPv4 weet je bijv. uit het netmasker wat het netwerk-deel is van het adres. Een andere notatie is \"/xx\" wat aangeeft dat de eerste xx bits van het adres het netwerk-deel vormen\n",
    "    * in het geval van IPv6 is het eenvoudig: de eerste 64 bits vormen het netwerk-deel, de laatste 64 bits het host-deel. (Dit kun je evt. afleiden van het MAC-adres.)\n",
    "* je kunt ook symbolische namen gebruiken (domeinnaam), die via het DNS protocol omgezet kunnen worden in het bijbehorende IP-adres\n",
    "    * bij een bepaald IP-adres kunnen meerdere domeinnamen horen. Meerdere domeinnamen kunnen hetzelfde IP-adres delen.\n",
    "    * een domeinnaam bestaat uit twee of 3 delen, bijv. `www.infvo.nl`. Het subdomein-gedeelte (hier: `www.`) kan ook leeg zijn. Het laatste deel is het \"superdomein\" - officieel: \n",
    "    \n",
    "### IP-adressen    \n",
    "    \n",
    "### DNS\n",
    "    \n",
    "(Een router moet eigenlijk weten wat het netwerk-deel is van een IP-adres: dat gebruik je voor het routeren. Als je dat niet weet, moet je voor elk IP-adres een entry in de router-tabellen hebben. Maar hoe weet je, gegeven een IP-adres, wat daarvan het netwerk-deel is?)\n",
    "\n",
    "Een gateway kan in elk geval concluderen dat een IP-adres niet in het eigen netwerk valt. (Dat is triviaal.)"
   ]
  }
 ],
 "metadata": {
  "kernelspec": {
   "display_name": "Python 3 (ipykernel)",
   "language": "python",
   "name": "python3"
  },
  "language_info": {
   "codemirror_mode": {
    "name": "ipython",
    "version": 3
   },
   "file_extension": ".py",
   "mimetype": "text/x-python",
   "name": "python",
   "nbconvert_exporter": "python",
   "pygments_lexer": "ipython3",
   "version": "3.9.7"
  }
 },
 "nbformat": 4,
 "nbformat_minor": 5
}
