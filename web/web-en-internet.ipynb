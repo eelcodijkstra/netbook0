{
 "cells": [
  {
   "cell_type": "markdown",
   "id": "236607c4-42f6-4cb4-a877-ab936f629358",
   "metadata": {},
   "source": [
    "# het web en het internet"
   ]
  },
  {
   "cell_type": "markdown",
   "id": "ccee492b-a121-4d5a-97c9-497e0f40e294",
   "metadata": {},
   "source": [
    "In dit overzicht maak je kennis met de verschillende bouwstenen van het web, als toepassing van het internet.\n",
    "Voor een meer gedetailleerd inzicht in deze bouwstenen verwijzen we naar aanvullende lesstof.\n"
   ]
  },
  {
   "cell_type": "markdown",
   "id": "3b8a8142-8d1f-4bf3-8864-139f32214ad8",
   "metadata": {},
   "source": [
    "* het web is een toepassing van het internet\n",
    "    * andere internet-toepassingen zijn bijvoorbeeld: e-mail, file transfer (ftp), internet telefonie, Skype e.d., \n",
    "    * het web is in veel gevallen de *user interface* voor het internet en voor internet-toepassingen; bijvoorbeeld e-mail kun je ook via de browser lezen en versturen.\n",
    "* belangrijke elementen (bouwstenen) van het web zijn:\n",
    "    * het HTTP protocol, voor de client-server interactie tussen de web-client (browser) en de web-server.\n",
    "    * HTML en CSS, voor de structuur en inhoud van web-documenten; en voor de vormgeving daarvan\n",
    "    * JavaScript, voor de interactie in de browser.\n",
    "* elementen (bouwstenen?) van het HTTP protocol zijn:\n",
    "    * URLs: adressen in het web\n",
    "    * HTTP methods: GET, PUT, POST, enz.\n",
    "    * HTTP metadata: headers, cookies\n",
    "    * HTTP \"payload\": HTML, CSS, JS documenten, plaatjes, video's, enz.\n",
    "* de *architectuur* van het web vind je o.a. terug in de REST API's\n",
    "    * deze architectuur beschrijft een bepaalde manier van gebruiken van het HTTP protocol, die in overeenstemming is met aannames die in het web en in het internet gemaakt worden.\n",
    "* het web vormt ook de basis voor veel andere toepassingen; niet alleen gericht op de browser\n",
    "    * veel web-diensten gebruiken een web-API, voor andere programma's\n",
    "    * REST APIs (en tegenwoordig ook GraphQL) spelen daarbij een belangrijke rol\n",
    "* iets over webservers:\n",
    "    * het afhandelen van requests: methods, paden\n",
    "    * het gebruik van templates, voor het aanpassen van HTML aan de gebruiker en/of toestand van de server.\n",
    "    "
   ]
  },
  {
   "cell_type": "markdown",
   "id": "cdfd664e-ba16-47a8-820e-c0e9099db38a",
   "metadata": {},
   "source": [
    "## Leerdoelen\n",
    "\n"
   ]
  },
  {
   "cell_type": "markdown",
   "id": "566e0729-d243-4249-8225-ff8455dec7ed",
   "metadata": {},
   "source": [
    "## Opdrachten\n",
    "\n",
    "### HTTP protocol\n",
    "\n",
    "De beste(?) manier om dit te illustreren is met NodeRed. En de andere kant van het protocol: browser developer tools (bijv. in Chrome).\n",
    "\n",
    "Uiteindelijk kunnen we ook demonstreren hoe e.e.a. in Python eruit ziet: een eenvoudige webserver in Python.\n",
    "\n",
    "### web-API's\n",
    "\n",
    "Vanuit Python kun je eenvoudig web-API's gebruiken. Wat zijn goede voorbeelden daarvan?\n",
    "\n",
    "Vanuit NodeRed kun je ook eenvoudig web-API's gebruiken; in een aantal gevallen zijn die al voorbereid met behulp van speciale nodes.\n",
    "\n"
   ]
  },
  {
   "cell_type": "markdown",
   "id": "8ac05110-f069-4a71-8530-a28d988fbbb6",
   "metadata": {},
   "source": [
    "## Toetsvragen"
   ]
  },
  {
   "cell_type": "markdown",
   "id": "464ddbf8-3ad5-4a27-90d5-ec4300c794c8",
   "metadata": {},
   "source": []
  }
 ],
 "metadata": {
  "kernelspec": {
   "display_name": "Python 3 (ipykernel)",
   "language": "python",
   "name": "python3"
  },
  "language_info": {
   "codemirror_mode": {
    "name": "ipython",
    "version": 3
   },
   "file_extension": ".py",
   "mimetype": "text/x-python",
   "name": "python",
   "nbconvert_exporter": "python",
   "pygments_lexer": "ipython3",
   "version": "3.9.7"
  }
 },
 "nbformat": 4,
 "nbformat_minor": 5
}
