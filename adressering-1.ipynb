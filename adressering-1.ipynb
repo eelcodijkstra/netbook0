{
 "cells": [
  {
   "cell_type": "markdown",
   "id": "68930608-4736-4062-95ae-d889af80b995",
   "metadata": {},
   "source": [
    "# Adressering(1): LAN"
   ]
  },
  {
   "cell_type": "markdown",
   "id": "381d64ea-98b0-477b-a0b4-83eb8842ee1f",
   "metadata": {},
   "source": [
    "```{admonition} Concepten\n",
    "MAC-adres, IP-adres, bus, Ethernet, WiFi, frame, collision, LAN-routering, switch, gateway\n",
    "```"
   ]
  },
  {
   "cell_type": "markdown",
   "id": "16036818-9eee-4930-bc79-20040fb4f9aa",
   "metadata": {},
   "source": [
    "De eigenlijke communicatie in het lokale netwerk gebeurt in de fysieke (ook wel: link) laag, via Ethernet en WiFi.\n",
    "Beide werken op basis van pakketcommunicatie, een Ethernet- of WiFi-pakket heet een *frame*.\n",
    "Een frame bevat typisch maximaal ca. 1500 data-bytes.\n",
    "\n",
    "Elk netwerkinterface heeft een eigen MAC-adres: dit is een wereldwijd uniek adres, dat gebonden is aan dit interface (en daarmee aan het apparaat met dit interface).\n",
    "Een apparaat kan meerdere netwerkinterfaces hebben, bijvoorbeeld een Ethernet-interface en een WiFi-interface. Zo'n apparaat heeft dan ook meerdere MAC-adressen.\n",
    "\n",
    "Een Ethernet-frame bevat het MAC-adres van de afzender (source) en van de bestemming (destination). Met behulp van de *checksum* kan de bestemming controleren of het frame onbeschadigd ontvangen is."
   ]
  },
  {
   "cell_type": "markdown",
   "id": "b82783c8-3779-4b5a-9ae1-0a593cc59208",
   "metadata": {},
   "source": [
    "```{figure} images/ethernet-frame.png\n",
    ":width: 600px\n",
    "\n",
    "Ethernet-frame\n",
    "```"
   ]
  },
  {
   "cell_type": "markdown",
   "id": "eabbfad6-c9f4-41ad-957d-907ffb94040d",
   "metadata": {},
   "source": [
    "WiFi en Ethernet werken beide als een \"bus\": de \"ether\" is een gedeeld medium waar een apparaat als zender (source) een bericht (frame) naar verstuurt dat door alle andere verbonden apparaten ontvangen wordt. Dit frame bevat het MAC-adres van de bestemming (destination) en van de afzender (source). De ontvanger met het bijbehorende bestemmings-MAC-adres verwerkt het bericht; de andere apparaten negeren het."
   ]
  },
  {
   "cell_type": "markdown",
   "id": "4a06c193-b428-4d3c-86ea-78ceabde4329",
   "metadata": {},
   "source": [
    "```{figure} images/ethernet-bus.png\n",
    ":width: 600px\n",
    "\n",
    "Ethernet als *bus*"
   ]
  },
  {
   "cell_type": "markdown",
   "id": "988197ef-4609-4a9f-aae9-8a75bf1f8607",
   "metadata": {},
   "source": [
    "Als de inhoud van een frame niet versleuteld is kunnen de andere apparaten in het lokale netwerk dit bericht afluisteren. Als je dat niet wilt, zul je versleuteling moeten gebruiken."
   ]
  },
  {
   "cell_type": "markdown",
   "id": "3c2aa9ad-79f9-4a04-a0c1-c59dfc212da5",
   "metadata": {},
   "source": [
    "**Collisions.** Voordat een apparaat een bericht stuurt naar de Ethernet \"bus\", controleert dit eerst of deze vrij is. Pas als deze vrij is, mag het bericht verstuurd worden. Maar twee apparaten kunnen op hetzelfde moment concluderen dat de bus vrij is, en tegelijk een bericht versturen. In dat geval is er sprake van een botsing ofwel *collision*: het bericht van het ene apparaat verstoort dat van het andere apparaat. Beide apparaten kunnen detecteren dat er sprake is van zo'n collision (*collision detection*), en stoppen dan met het versturen. Daarna wachten beide apparaten *een random periode* voordat ze het opnieuw proberen.\n",
    "\n",
    "Dergelijke collisions gebruiken de bus zonder dat er gegevens overgestuurd worden: de capaciteit van de Ethernet-verbinding neemt hierdoor af. Als er veel actieve apparaten op een Ethernet-verbinding aangesloten zijn, kunnen normale communicatie hierdoor sterk gehinderd worden. Een mogelijke oplossing is om de Ethernet-verbinding te splitsen in meerdere segmenten die verbonden worden door een *switch*. Berichten met een afzender en een bestemming binnen hetzelfde segment komen dan niet voorbij deze switch. Deze switch zorgt voor de \"routering\" van Ethernet-frames tussen de verschillende segmenten."
   ]
  },
  {
   "cell_type": "markdown",
   "id": "7cd1445d-73fb-4ba3-8d1d-93b67cd27936",
   "metadata": {},
   "source": [
    "WiFi-communicatie gebeurt in grote lijnen op dezelfde manier: ook hier is sprake van een gedeeld medium. "
   ]
  },
  {
   "cell_type": "markdown",
   "id": "88e339b8-bb7f-4bb3-b982-d8d1b751bdbd",
   "metadata": {},
   "source": [
    "**Time multiplexing en frequency multiplexing.** Het gebruik van pakketcommunicatie zorgt ervoor dat een verbinding \"tegelijk\" gebruikt kan worden voor meerdere communicaties. Bijvoorbeeld, PC1 kan een bestand naar de printer sturen, terwijl \"tegelijkertijd\" PC2 een bestand van de netwerijschijf (NAS) ophaalt. In werkelijkheid worden beide communicaties in kleinere pakketten (frames) gesplitst, die afwisselend de gedeelde Ethernetverbinding gebruiken. Deze vorm van delen van een gedeeld medium in de tijd heet ook wel *time multiplexing*. In het geval van WiFi komt daarbij ook nog *frequecy multiplexing*: er kunnen meerdere gelijktijdige communicaties plaatsvinden via verschillende *kanalen* (frequenties)."
   ]
  },
  {
   "cell_type": "markdown",
   "id": "3ad6fba8-2b33-4b5c-817b-6676173fc837",
   "metadata": {},
   "source": [
    "De versleuteling van een WiFi-netwerk helpt alleen om apparaten van buiten het netwerk toegang tot het netwerk te geven. Apparaten in het netwerken ontvangen alle netwerkverkeer onversleuteld.\n",
    "\n",
    "    De naam *Ethernet* verwijst naar de \"radio\"eigenschappen van het medium: een bericht verstuurd naar de \"ether\" wordt door alle apparaten in de buurt ontvangen.\n",
    "\n",
    "    Als twee apparaten tegelijk een bericht naar de \"ether\" sturen, storen deze elkaar, en kunnen deze niet goed ontvangen worden.\n",
    "\n",
    "    Er is dan sprake van een \"collision\" (botsing) van de berichten. Om dit te voorkomen, test een apparaat eerst of de \"ether\" vrij is, voordat dit een bericht verstuurt (\"carrier sense\"). Als er dan toch sprake is van een collision (collision detection), houden beide apparaten op met zenden, wachten beide apparaten een random periode voordat ze het weer proberen.\n",
    "\n",
    "Hoe weet een apparaat het MAC-adres van een ander apparaat, gegeven het IP-adres?\n",
    "\n",
    "    dit wordt bijgehouden in een route-tabel in het apparaat zelf\n",
    "    maar, je moet die tabel wel vullen; (dit heet ook wel de ARP tabel, ARP cache)\n",
    "    daarvoor verstuurt het apparaat een \"ARP\" (address resolution protocol) verzoek (via een broadcast)\n",
    "    (wie verstuurt het antwoord? de eigenlijke bestemming, of elk apparaat dat deze gegevens heeft?)\n",
    "\n",
    "(Waarvoor gebruik je RARP? dit geeft het IP-adres bij een MAC-adres. Dit wordt tegenwoordig niet meer gebruikt, in plaats daarvan bijv. DHCP, waarmee een (nieuwe) computer/host in het netwerk om een IP-adres kan vragen.)\n",
    "\n",
    "Enkele eenvoudige voorbeelden van modulatie: Je kunt een binair signaal, met 0-en en 1-en, weergeven met een enkel lichtsignaal, bijvoorbeeld: 1 is \"aan\", 0 is \"uit\". Je moet dan wel heel precies de timing (klok) van de data kennen, om twee of meer opeenvolgende 1-en of 0-en te kunnen decoderen. Deze aan/uit modulatie is een voorbeeld van *amplitude modulatie* (AM): de amplitude van het signaal bevat de informatie. Een andere mogelijkheid is om twee verschillende kleuren te gebruiken, bijvoorbeeld rood voor \"1\" en groen voor \"0\". Dit is een voorbeeld van *frequentie modulatie* (FM): de frequentie van het signaal bevat de informatie. In plaats van te werken met licht, kun je ook radiosignalen van verschillende frequenties gebruiken.\n",
    "\n",
    "Waarom kun je in een lokaal netwerk werken met MAC-adressering? Omdat er geen routering plaatsvindt (afgezien van switches). En omdat er geen sprake is van een netwerkadres: er is maar 1 netwerk.\n",
    "\n",
    "De routering die plaatsvindt - in de vorm van switches - is maar beperkt, omdat het aantal apparaten in het netwerk beperkt is. (Hoe groot zijn de tabellen van een switch? Typisch enkele duizenden; maar voor grote switches kan dat meer dan een miljoen zijn.)"
   ]
  },
  {
   "cell_type": "markdown",
   "id": "1300eef8-05e6-408b-986f-02585769660b",
   "metadata": {},
   "source": [
    "```{sidebar} link-laag of fysieke laag?\n",
    "In de Internet protocol-stack heet de laag onder de netwerklaag met het IP-protocol, de *link laag*.\n",
    "Deze zorgt voor de daadwerkelijke (fysieke) verbinding.\n",
    "Wij gebruiken hiervoor de term *fysieke laag*, omdat deze bestaat uit de hardware aangekleed met een protocol om deze bruikbaar te maken in de software. Dit is het laagste niveau dat gebruikt wordt door de software - vergelijk bijvoorbeeld de instructie set van een computer.\n",
    "In de OSI protocol-stack bestaat deze laag uit de fysieke laag en de datalink-laag.\n",
    "```"
   ]
  },
  {
   "cell_type": "markdown",
   "id": "4d255912-af35-42a6-a8a1-0bf1c50e3ce3",
   "metadata": {},
   "source": [
    "## NAT: network address translation\n",
    "\n",
    "Als je opdracht xxx gedaan hebt, heb je waarschijnlijk gezien dat het IP-adres van je computer in het lokale netwerk (thuis of op school) er anders uitziet dan het IP-adres gezien vanuit het publieke internet. Hoe kan dat, en hoe werkt dat?\n",
    "\n",
    "* bijvoorbeeld: https://whatismyipaddress.com/\n",
    "* \n",
    "\n",
    "De thuisrouter of residential gateway maakt hiervoor gebruik van NAT: Network Address Translation. Er zijn (veel) te weinig IPv4 adressen om elk apparaat in alle lokale netwerken van een uniek IP-adres te voorzien. De oplossing is dan om voor het lokale netwerk *lokale IP-adressen* te gebruiken; in het verkeer naar het publieke internet delen de lokale apparaten het publieke IP-adres van de NAT-router.\n",
    "\n",
    "Hoe kunnen die verschillende lokale apparaten *eenzelfde publiek IP-adres delen*? Hoe weet de NAT router bij een binnenkomend pakket, voor welk lokaal apparaat dit bestemd is? De oplossing zit in het gebruik van de *poortnummers* in de adressering.\n",
    "\n",
    "* een adres in de UDP- en TCP-protocollen bestaat uit een IP-adres en een poortnummer.\n",
    "    * een \"inkomend\" poortnummer van een server is gekoppeld aan dienst die die server biedt;\n",
    "    * bijvoorbeeld: poortnummer 80 is gewoonlijk de poort voor het web-protocol HTTP (via TCP).\n",
    "* de NAT-router zet de lokale combinatie (IPa, Portx) om in (IPs, Portax)\n",
    "    * hierin is IPa: een lokaal IP-adres; Portx: een lokaal poortnummer van IPa\n",
    "    * en IPs: het (gedeelde) externe IP-adres van de router\n",
    "    * en Portax: het externe poortnummmer van de router dat gebruikt wordt voor de lokale combinatie (IPa, Portx).\n",
    "\n",
    "Voorbeeld van een NAT-tabel:\n",
    "\n",
    "(Hebben we een voorbeeld hiervan van een echte router?)\n",
    "\n",
    "(Hoe vind je NAT terug in het interface van de router?)\n",
    "\n",
    "\n",
    "Het IP-adres van je thuisrouter wordt toegewezen door je internet provider (ISP). Dit kan een statisch (onveranderlijk) IP-adres zijn, of een dynamisch (veranderlijk) IP adres.\n",
    "\n",
    "Als je gebruik maakt van mobiel internet, wordt meestal een adres toegewezen op het moment dat je verbinding maakt.\n",
    "\n"
   ]
  },
  {
   "cell_type": "markdown",
   "id": "a9b0439c-d505-4d6e-b32b-80fdae421cbd",
   "metadata": {},
   "source": [
    "(Je zou het IP-adres van je Smartphone bij een mobiele verbinding ook moeten kunnen opvragen - heeft deze wel een IPv4 adres, of werkt deze alleen met IPv6? Ik zou niet weten waar je dat kunt vinden in de instellingen.)"
   ]
  },
  {
   "cell_type": "markdown",
   "id": "67fb53d9-e25c-4235-8458-43f1898b79ce",
   "metadata": {},
   "source": [
    "We hebben hier te maken met adressering op verschillende niveaus:\n",
    "\n",
    "* laagste, \"fysieke\" niveau: MAC adres. Dit is de \"native\" adressering in het lokale netwerk, die gebruikt wordt voor de \"routering\". (Het netwerk-interface van je computer of smartphone werkt op dit niveau.)\n",
    "    * voor de adressering van (eind)apparaten in het netwerk\n",
    "* IP-niveau (netwerklaag):\n",
    "    * voor de adressering van (eind)apparaten in het netwerk\n",
    "* TCP, UDP niveau (transportlaag?) - hoort eigenlijk nog bij de universele, logische laag; maar valt buiten het eigenlijke netwerk.\n",
    "    * voor de adressering van (netwerk)toepassingen cq. diensten in eindapparaten\n",
    "    * (bijv. een webserver; of, in de response van de webserver, de client (browser))"
   ]
  },
  {
   "cell_type": "markdown",
   "id": "76c330ee-d3a6-445e-8caa-eb292b3a9bd1",
   "metadata": {},
   "source": [
    "* een MAC-adres is gekoppeld aan een apparaaat, niet aan het netwerk\n",
    "* een IP-adres is gekoppeld aan het netwerk waarin het apparaat verbonden is: als je je apparaat in een ander netwerk verbindt, krijgt dit een ander IP-adres.\n",
    "    * vergelijk bijvoorbeeld: het IP-adres van je computer thuis, op school, of in het mobiele netwerk.\n"
   ]
  }
 ],
 "metadata": {
  "kernelspec": {
   "display_name": "Python 3 (ipykernel)",
   "language": "python",
   "name": "python3"
  },
  "language_info": {
   "codemirror_mode": {
    "name": "ipython",
    "version": 3
   },
   "file_extension": ".py",
   "mimetype": "text/x-python",
   "name": "python",
   "nbconvert_exporter": "python",
   "pygments_lexer": "ipython3",
   "version": "3.9.7"
  }
 },
 "nbformat": 4,
 "nbformat_minor": 5
}
