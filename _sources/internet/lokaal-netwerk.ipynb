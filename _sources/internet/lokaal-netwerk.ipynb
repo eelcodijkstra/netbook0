{
 "cells": [
  {
   "cell_type": "markdown",
   "id": "9f42859d-5e33-4abb-b26e-321312d3f7cb",
   "metadata": {},
   "source": [
    "# Het lokale netwerk"
   ]
  },
  {
   "cell_type": "markdown",
   "id": "598cc3ef-c849-41c0-baa3-b8d3a6a26eed",
   "metadata": {},
   "source": [
    "```{admonition} Concepten\n",
    "LAN, WAN, eindapparaat, netwerkapparaat, host, fysieke verbinding, medium, Ethernet, WiFi, frame, MAC-adres, bus, collision, switch\n",
    "```"
   ]
  },
  {
   "cell_type": "markdown",
   "id": "4b6a4226-4322-40c4-b094-62508bee1f61",
   "metadata": {},
   "source": [
    "In dit gedeelte behandelen we het lokale netwerk, zoals je dat bijvoorbeeld thuis of op school tegenkomt. \n",
    "Een typisch thuisnetwerk kan er zo uitzien:\n",
    "\n",
    "```{figure} images/ip-lan.png\n",
    ":width: 800px\n",
    "\n",
    "Thuisnetwerk op IP-niveau\n",
    "```\n",
    "\n",
    "```{margin}\n",
    "**LAN**: Local Area Network, **WAN**: Wide Are network.\n",
    "```\n",
    "\n",
    "Je ziet hier een desktop PC, een laptop, een tablet, een smartphone, een netwerkprinter en een IoT-gateway (bijvoorbeeld voor slimme verlichting) in het lokale netwerk (LAN). De thuisrouter of *residential gateway* verbindt dit lokale netwerk via het WAN-netwerk van de *internet service provider* (ISP), met het publieke internet.\n",
    "\n",
    "Apparaten zoals de printer en de computers gebruiken het netwerk voor communicatie met elkaar en met apparaten in het internet: dit noemen we *eindapparaten*. Deze hebben geen rol in het netwerk.\n",
    "\n",
    "*Netwerkapparaten* zorgen ervoor dat het netwerk goed functioneert.\n",
    "Een voorbeeld van een netwerkapparaat is de thuisrouter of *residential gateway*.\n",
    "Deze zorgt ervoor dat lokale IP-pakketten bedoeld voor het publieke internet, via de ISP-verbinding naar de volgende router verstuurd worden, om via een aantal router-stappen zo op de bestemming aan te komen.\n",
    "De thuisrouter stuurt IP-pakketten vanuit het publieke internet naar het juiste lokale apparaat.\n",
    "\n",
    "Een apparaat in het netwerk dat fungeren kan als afzender of bestemming heet ook wel een *host*. Een host kan zowel een eindapparaat als een netwerkapparaat zijn, zoals bijvoorbeeld een thuisrouter."
   ]
  },
  {
   "cell_type": "markdown",
   "id": "e40accdb-e22f-4a97-8bc6-b629c8b01f20",
   "metadata": {},
   "source": [
    "## Fysieke verbindingen\n",
    "\n",
    "Bovenstaande figuur geeft het netwerk weer op de laag van het IP-protocol. De lokale apparaten communiceren via dit protocol met elkaar en met de buitenwereld.\n",
    "\n",
    "Op de fyieke laag ziet hetzelfde netwerk er iets anders uit:\n",
    "\n",
    ":::{margin}\n",
    "**MAC**: media access control\n",
    ":::\n",
    "\n",
    "```{figure} images/mac-lan.png\n",
    ":width: 800px\n",
    "\n",
    "Thuisnetwerk op fysiek (MAC) niveau\n",
    "```\n",
    "\n",
    "Je ziet hier de fysieke verbindingen, in de vorm van Ethernet- en glasvezel(fiber)kabels end draadloze WiFi verbindingen.\n",
    "Je ziet ook meer netwerkappareten, zoals een WiFi basisstation en een Ethernet switch."
   ]
  },
  {
   "cell_type": "markdown",
   "id": "48de4505-034c-4011-922a-e3a9ccbada77",
   "metadata": {},
   "source": [
    "```{figure} images/cables-photo-gallery.png\n",
    ":width: 700px\n",
    "\n",
    "Coax- en Ethernetkabel met connectoren\n",
    "```"
   ]
  },
  {
   "cell_type": "markdown",
   "id": "2d390b78-6e83-4fca-a277-182178dfbb73",
   "metadata": {},
   "source": [
    "```{margin}\n",
    "Enkelvoud: medium, meervoud: media\n",
    "```\n",
    "\n",
    "Voor *fysieke verbindingen* kun je verschillende *media* gebruiken, bijvoorbeeld lokaal Ethernet en WiFi, en glasvezel of coaxkabel met de ISP.\n",
    "Elk medium heeft zijn eigen voor- en nadelen. Bijvoorbeeld WiFi is geschikt voor mobiele apparaten, maar is minder veilig en betrouwbaar dan een bedrade Ethernet- of glasvezelverbinding.\n",
    "Bovendien is Ethernet \"plug&play\", terwijl voor het verbinden van een apparaat met een WiFi-netwerk extra configuratiehandelingen nodig zijn."
   ]
  },
  {
   "cell_type": "markdown",
   "id": "f070c019-b114-4c2a-9d22-813439ee3e04",
   "metadata": {},
   "source": [
    "Via het WiFi basisstation zijn de tablet, smartphone en laptop draadloos aangesloten op het lokale netwerk.\n",
    "Andere apparaten zijn via een Ethernetkabel verbonden.\n",
    "Omdat de thuisrouter hiervoor niet voldoende Ethernetaansluitingen heeft, is er een *switch* gebruikt om het aantal Ethernetverbindingen uit te breiden."
   ]
  },
  {
   "cell_type": "markdown",
   "id": "e0be0a88-9b06-4acc-ba39-71947df0bd76",
   "metadata": {},
   "source": [
    "```{margin}\n",
    "Een Ethernet- of WiFi \"pakket\" heet een *frame*.\n",
    "```\n",
    "\n",
    "De eigenlijke communicatie in het lokale netwerk gebeurt in deze fysieke laag, op basis van Ethernet- en WiFi-frames waarin IP-pakketten ingepakt zijn.\n",
    "Voor de adressering gebruikt dit lokale netwerk de Ethernet- en WiFi-MAC adressen. (Deze hebben hetzelfde formaat.)\n",
    "\n",
    "```{figure} images/ip-in-ethernet-frame.png\n",
    ":width: 600px\n",
    "\n",
    "Ethernet frame met een IPv4 pakket\n",
    "```"
   ]
  },
  {
   "cell_type": "markdown",
   "id": "336297d0-8954-459f-a728-7b876f882ded",
   "metadata": {},
   "source": [
    "## Communicatie via fysieke verbindingen"
   ]
  },
  {
   "cell_type": "markdown",
   "id": "3fba3ea0-bc30-4933-bfec-746eea3213f6",
   "metadata": {},
   "source": [
    "```{sidebar} link-laag, hardware- of fysieke laag\n",
    "In de internet protocol-stack heet de laag onder de netwerklaag met het IP-protocol, de *link-laag*.\n",
    "Deze zorgt voor de daadwerkelijke fysieke verbinding.\n",
    "Wij gebruiken hiervoor de term *fysieke laag* (of *hardware-laag*), omdat deze bestaat uit de hardware aangekleed met een protocol om deze bruikbaar te maken in de software. Dit is het laagste niveau dat gebruikt wordt door de software.\n",
    "In de OSI protocol-stack bestaat deze laag uit de fysieke laag en de datalink-laag.\n",
    "```"
   ]
  },
  {
   "cell_type": "markdown",
   "id": "a9d6c4be-2bf6-4ee8-99b7-c29e9b76a803",
   "metadata": {},
   "source": [
    "De eigenlijke communicatie gebeurt via de fysieke verbindingen (ook wel: link-laag), in het lokale netwerk Ethernet en WiFi.\n",
    "Beide werken op basis van pakketcommunicatie, een Ethernet- of WiFi-pakket heet een *frame*.\n",
    "Een Ethernet-frame bevat typisch maximaal ca. 1500 data-bytes.\n",
    "\n",
    "Elk Ethernet- of WiFi-interface heeft een eigen MAC-adres: dit is een wereldwijd uniek adres, dat gebonden is aan dit interface (en daarmee aan het apparaat met dit interface).\n",
    "Een apparaat kan meerdere netwerkinterfaces hebben, bijvoorbeeld een Ethernet-interface en een WiFi-interface. Zo'n apparaat heeft dan ook meerdere MAC-adressen.\n",
    "\n",
    "Een Ethernet-frame bevat het MAC-adres van de afzender (source) en van de bestemming (destination). Met behulp van de *checksum* kan de bestemming controleren of het frame onbeschadigd ontvangen is."
   ]
  },
  {
   "cell_type": "markdown",
   "id": "26bca937-7468-4c81-b68a-7336b6de917f",
   "metadata": {},
   "source": [
    "```{figure} images/ethernet-frame.png\n",
    ":width: 600px\n",
    "\n",
    "Ethernet-frame\n",
    "```"
   ]
  },
  {
   "cell_type": "markdown",
   "id": "e13cc6ab-3bb6-40a8-920c-eb385894eade",
   "metadata": {},
   "source": [
    "Ethernet werkt als een \"bus\": de \"ether\" is een gedeeld medium waar een apparaat als zender een bericht (frame) naar verstuurt dat door alle andere verbonden apparaten ontvangen wordt. Dit frame bevat het MAC-adres van de bestemming (destination) en van de afzender (source). De ontvanger met het bijbehorende bestemmings-MAC-adres verwerkt het bericht; de andere apparaten negeren het."
   ]
  },
  {
   "cell_type": "markdown",
   "id": "57f3a8f7-631a-40b5-a19a-f222f7367812",
   "metadata": {},
   "source": [
    "```{figure} images/ethernet-bus.png\n",
    ":width: 600px\n",
    "\n",
    "Ethernet als *bus*\n",
    "```"
   ]
  },
  {
   "cell_type": "markdown",
   "id": "8046846f-d3aa-4a3e-8ffa-8101293983df",
   "metadata": {},
   "source": [
    "Als de inhoud van een frame niet versleuteld is kunnen de andere apparaten in het lokale netwerk dit bericht afluisteren. Als je dat niet wilt, zul je versleuteling moeten gebruiken."
   ]
  },
  {
   "cell_type": "markdown",
   "id": "42cab928-a348-4ba6-9541-55a9699e2b1a",
   "metadata": {},
   "source": [
    "**Collisions.** Voordat een apparaat een bericht stuurt naar de Ethernet \"bus\", controleert dit eerst of deze vrij is. Pas als deze vrij is, mag het bericht verstuurd worden. Maar twee apparaten kunnen op hetzelfde moment concluderen dat de bus vrij is, en tegelijk een bericht versturen. In dat geval is er sprake van een botsing ofwel *collision*: het bericht van het ene apparaat verstoort dat van het andere apparaat. Beide apparaten kunnen detecteren dat er sprake is van zo'n collision (*collision detection*), en stoppen dan met het versturen. Daarna wachten beide apparaten *een random periode* voordat ze het opnieuw proberen.\n",
    "\n",
    "Dergelijke collisions bezetten de bus maar sturen geen gegevens over: de capaciteit van de Ethernet-verbinding neemt hierdoor af. Als er veel actieve apparaten op een Ethernet-verbinding aangesloten zijn, kan de normale communicatie sterk gehinderd worden door deze collisions. Een mogelijke oplossing is om de Ethernet-verbinding te splitsen in meerdere segmenten die verbonden worden door een *switch*. Berichten met een afzender en een bestemming binnen hetzelfde segment komen dan niet voorbij deze switch. Deze switch zorgt voor de \"routering\" van Ethernet-frames tussen de verschillende segmenten."
   ]
  },
  {
   "cell_type": "markdown",
   "id": "87e5c224-346b-492c-b865-0fe8ee02fe8b",
   "metadata": {},
   "source": [
    "WiFi-communicatie gebeurt in grote lijnen op dezelfde manier: ook hier is sprake van een gedeeld medium, maar dan via radiocommunicatie."
   ]
  },
  {
   "cell_type": "markdown",
   "id": "316215e0-060e-4d3c-acce-dca2d5e2982c",
   "metadata": {},
   "source": [
    "**(+) Time multiplexing en frequency multiplexing.** Het gebruik van pakketcommunicatie zorgt ervoor dat een verbinding \"tegelijk\" gebruikt kan worden voor meerdere communicaties. Bijvoorbeeld, PC-1 kan een bestand naar de printer sturen, terwijl \"tegelijkertijd\" PC-2 een bestand van de netwerijschijf (NAS) ophaalt. In werkelijkheid worden beide communicaties in kleinere pakketten (frames) gesplitst, die afwisselend de gedeelde Ethernetverbinding gebruiken. Deze vorm van delen van een gedeeld medium in de tijd heet ook wel *time multiplexing*. In het geval van WiFi komt daarbij ook nog *frequecy multiplexing*: er kunnen meerdere gelijktijdige communicaties plaatsvinden via verschillende *radiokanalen* (frequenties)."
   ]
  },
  {
   "cell_type": "markdown",
   "id": "276e80c5-e4af-4d15-835d-9ce7b203700e",
   "metadata": {},
   "source": [
    "**(+) Beveiliging van het netwerk.** Een bedraad Ethernet-netwerk is alleen toegankelijk voor apparaten die hiermee verbonden zijn. Een radionetwerk zoals WiFi wordt meestal afgeschermd door versleuteling met een wachtwoord. Zonder een dergelijke afscherming is het netwerk voor iedereen in de buurt toegankelijk. Deze WiFi-versleuteling verhinderd alleen dat apparaten ongewenst verbinding met het netwerk maken. Deze beschermt apparaten in het netwerk niet tegen elkaar.\n",
    "\n",
    "In principe kan een apparaat in het netwerk alle berichten ontvangen. Alleen versleuteling van de data door een protocol van een hogere laag kan afluisteren van de inhoud voorkomen."
   ]
  },
  {
   "cell_type": "markdown",
   "id": "6e4e1b37-0047-4db0-b5db-e6ec42aa51dc",
   "metadata": {},
   "source": [
    "## Ster-netwerk"
   ]
  },
  {
   "cell_type": "markdown",
   "id": "8ec2e987-6205-4c4f-87f8-fdb475796ef9",
   "metadata": {},
   "source": [
    "```{figure} images/ster-netwerk.png\n",
    ":width: 400px\n",
    "\n",
    "Sternetwerk\n",
    "```"
   ]
  },
  {
   "cell_type": "markdown",
   "id": "7e109cfb-cdf2-4053-8fe1-367599320610",
   "metadata": {},
   "source": [
    "Een WiFi-netwerk met een enkel WiFi basisstation vormt een *sternetwerk*.\n",
    "Het basisstation vormt hiervan het centrale punt.\n",
    "De andere hosts zijn alleen verbonden met dit centrale punt, niet met elkaar.\n",
    "\n",
    "Tegenwoordig worden vaak extra WiFi-punten gebruikt, van \"boosters\" en versterkers tot extra basisstations, om overal in huis (of in een ander gebouw) voldoende WiFi-dekking te hebben."
   ]
  }
 ],
 "metadata": {
  "kernelspec": {
   "display_name": "Python 3 (ipykernel)",
   "language": "python",
   "name": "python3"
  },
  "language_info": {
   "codemirror_mode": {
    "name": "ipython",
    "version": 3
   },
   "file_extension": ".py",
   "mimetype": "text/x-python",
   "name": "python",
   "nbconvert_exporter": "python",
   "pygments_lexer": "ipython3",
   "version": "3.9.7"
  }
 },
 "nbformat": 4,
 "nbformat_minor": 5
}
