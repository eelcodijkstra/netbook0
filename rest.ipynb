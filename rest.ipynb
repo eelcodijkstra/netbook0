{
 "cells": [
  {
   "cell_type": "markdown",
   "id": "15ea3c5c-5bc3-4251-adc5-6cd302b9e14b",
   "metadata": {},
   "source": [
    "# Rest"
   ]
  },
  {
   "cell_type": "markdown",
   "id": "90ff006d-cd66-4b65-9a26-b0c937b52961",
   "metadata": {},
   "source": [
    "(De volgende onderdelen moeten opgeruimd worden of elders toegevoegd.)"
   ]
  },
  {
   "cell_type": "markdown",
   "id": "adfd0bf1-374f-4c6c-8a1e-8e84bf53c109",
   "metadata": {},
   "source": [
    "## NAT: network address translation\n",
    "\n",
    "Als je opdracht xxx gedaan hebt, heb je waarschijnlijk gezien dat het IP-adres van je computer in het lokale netwerk (thuis of op school) er anders uitziet dan het IP-adres gezien vanuit het publieke internet. Hoe kan dat, en hoe werkt dat?\n",
    "\n",
    "* bijvoorbeeld: https://whatismyipaddress.com/\n",
    "* \n",
    "\n",
    "De thuisrouter of residential gateway maakt hiervoor gebruik van NAT: Network Address Translation. Er zijn (veel) te weinig IPv4 adressen om elk apparaat in alle lokale netwerken van een uniek IP-adres te voorzien. De oplossing is dan om voor het lokale netwerk *lokale IP-adressen* te gebruiken; in het verkeer naar het publieke internet delen de lokale apparaten het publieke IP-adres van de NAT-router.\n",
    "\n",
    "Hoe kunnen die verschillende lokale apparaten *eenzelfde publiek IP-adres delen*? Hoe weet de NAT router bij een binnenkomend pakket, voor welk lokaal apparaat dit bestemd is? De oplossing zit in het gebruik van de *poortnummers* in de adressering.\n",
    "\n",
    "* een adres in de UDP- en TCP-protocollen bestaat uit een IP-adres en een poortnummer.\n",
    "    * een \"inkomend\" poortnummer van een server is gekoppeld aan dienst die die server biedt;\n",
    "    * bijvoorbeeld: poortnummer 80 is gewoonlijk de poort voor het web-protocol HTTP (via TCP).\n",
    "* de NAT-router zet de lokale combinatie (IPa, Portx) om in (IPs, Portax)\n",
    "    * hierin is IPa: een lokaal IP-adres; Portx: een lokaal poortnummer van IPa\n",
    "    * en IPs: het (gedeelde) externe IP-adres van de router\n",
    "    * en Portax: het externe poortnummmer van de router dat gebruikt wordt voor de lokale combinatie (IPa, Portx).\n",
    "\n",
    "Voorbeeld van een NAT-tabel:\n",
    "\n",
    "(Hebben we een voorbeeld hiervan van een echte router?)\n",
    "\n",
    "(Hoe vind je NAT terug in het interface van de router?)\n",
    "\n",
    "\n",
    "Het IP-adres van je thuisrouter wordt toegewezen door je internet provider (ISP). Dit kan een statisch (onveranderlijk) IP-adres zijn, of een dynamisch (veranderlijk) IP adres.\n",
    "\n",
    "Als je gebruik maakt van mobiel internet, wordt meestal een adres toegewezen op het moment dat je verbinding maakt.\n",
    "\n"
   ]
  },
  {
   "cell_type": "markdown",
   "id": "2ac67c3c-88de-4179-8bcd-f4c83a3e0e26",
   "metadata": {},
   "source": [
    "(Je zou het IP-adres van je Smartphone bij een mobiele verbinding ook moeten kunnen opvragen - heeft deze wel een IPv4 adres, of werkt deze alleen met IPv6? Ik zou niet weten waar je dat kunt vinden in de instellingen.)"
   ]
  },
  {
   "cell_type": "markdown",
   "id": "8aef642a-5966-46c3-bca1-88e860c3fe02",
   "metadata": {},
   "source": [
    "We hebben hier te maken met adressering op verschillende niveaus:\n",
    "\n",
    "* laagste, \"fysieke\" niveau: MAC adres. Dit is de \"native\" adressering in het lokale netwerk, die gebruikt wordt voor de \"routering\". (Het netwerk-interface van je computer of smartphone werkt op dit niveau.)\n",
    "    * voor de adressering van (eind)apparaten in het netwerk\n",
    "* IP-niveau (netwerklaag):\n",
    "    * voor de adressering van (eind)apparaten in het netwerk\n",
    "* TCP, UDP niveau (transportlaag?) - hoort eigenlijk nog bij de universele, logische laag; maar valt buiten het eigenlijke netwerk.\n",
    "    * voor de adressering van (netwerk)toepassingen cq. diensten in eindapparaten\n",
    "    * (bijv. een webserver; of, in de response van de webserver, de client (browser))"
   ]
  },
  {
   "cell_type": "markdown",
   "id": "9e05ff49-6e4e-4066-93a7-6c02d377c546",
   "metadata": {},
   "source": [
    "* een MAC-adres is gekoppeld aan een apparaaat, niet aan het netwerk\n",
    "* een IP-adres is gekoppeld aan het netwerk waarin het apparaat verbonden is: als je je apparaat in een ander netwerk verbindt, krijgt dit een ander IP-adres.\n",
    "    * vergelijk bijvoorbeeld: het IP-adres van je computer thuis, op school, of in het mobiele netwerk.\n"
   ]
  }
 ],
 "metadata": {
  "kernelspec": {
   "display_name": "Python 3 (ipykernel)",
   "language": "python",
   "name": "python3"
  },
  "language_info": {
   "codemirror_mode": {
    "name": "ipython",
    "version": 3
   },
   "file_extension": ".py",
   "mimetype": "text/x-python",
   "name": "python",
   "nbconvert_exporter": "python",
   "pygments_lexer": "ipython3",
   "version": "3.9.7"
  }
 },
 "nbformat": 4,
 "nbformat_minor": 5
}
