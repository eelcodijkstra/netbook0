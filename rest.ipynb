{
 "cells": [
  {
   "cell_type": "markdown",
   "id": "15ea3c5c-5bc3-4251-adc5-6cd302b9e14b",
   "metadata": {},
   "source": [
    "# Rest"
   ]
  },
  {
   "cell_type": "markdown",
   "id": "90ff006d-cd66-4b65-9a26-b0c937b52961",
   "metadata": {},
   "source": [
    "(De volgende onderdelen moeten opgeruimd worden of elders toegevoegd.)"
   ]
  },
  {
   "cell_type": "markdown",
   "id": "557ea75c-f1f5-43f2-ac14-4126e28f9db5",
   "metadata": {},
   "source": [
    "*(Wel leuk om op te merken, maar zal de meeste lezers niet aanspreken.)*\n",
    "\n",
    "Een voordeel van zo'n ster-netwerk is de eenvoud.\n",
    "Ook het aanpassen van het netwerk aan een nieuwe (WiFi)versie is eenvoudig: je kunt beginnen met het vervangen van het basisstation, en daarna apparaten upgraden waar het nodig is. Deze apparaten hebben dan direct alle voordelen van de nieuwe versie.\n",
    "(In het geval van een *maasnetwerk* is het veel lastiger om dit aan te passen aan een nieuwe versie: je moet veel meer punten vervangen om direct voordeel te hebben.)"
   ]
  },
  {
   "cell_type": "markdown",
   "id": "ab56eed5-bd07-4cac-9df0-4962d6df54d6",
   "metadata": {},
   "source": [
    "## Adressering(?)"
   ]
  },
  {
   "cell_type": "markdown",
   "id": "e0771ab3-f718-424c-b790-219a4113f88b",
   "metadata": {},
   "source": [
    "### Routering in het lokale netwerk"
   ]
  },
  {
   "cell_type": "markdown",
   "id": "9f914054-c7ff-4e6c-8b43-b8c3db6ac85f",
   "metadata": {},
   "source": [
    "Waarom kun je in een lokaal netwerk werken met MAC-adressering? Omdat er geen routering plaatsvindt (afgezien van switches). En omdat er geen sprake is van een netwerkadres: er is maar 1 netwerk.\n",
    "\n",
    "De routering die plaatsvindt - in de vorm van switches - is maar beperkt, omdat het aantal apparaten in het netwerk beperkt is. (Hoe groot zijn de tabellen van een switch? Typisch enkele duizenden; maar voor grote switches kan dat meer dan een miljoen zijn.)"
   ]
  },
  {
   "cell_type": "markdown",
   "id": "59355619-6097-4fa1-9fee-60580080fe73",
   "metadata": {},
   "source": [
    "### Modulatie"
   ]
  },
  {
   "cell_type": "markdown",
   "id": "dd27b6d2-235f-4816-ba94-d87ec2931b7a",
   "metadata": {},
   "source": [
    "Enkele eenvoudige voorbeelden van modulatie: Je kunt een binair signaal, met 0-en en 1-en, weergeven met een enkel lichtsignaal, bijvoorbeeld: 1 is \"aan\", 0 is \"uit\". Je moet dan wel heel precies de timing (klok) van de data kennen, om twee of meer opeenvolgende 1-en of 0-en te kunnen decoderen. Deze aan/uit modulatie is een voorbeeld van *amplitude modulatie* (AM): de amplitude van het signaal bevat de informatie. Een andere mogelijkheid is om twee verschillende kleuren te gebruiken, bijvoorbeeld rood voor \"1\" en groen voor \"0\". Dit is een voorbeeld van *frequentie modulatie* (FM): de frequentie van het signaal bevat de informatie. In plaats van te werken met licht, kun je ook radiosignalen van verschillende frequenties gebruiken."
   ]
  },
  {
   "cell_type": "markdown",
   "id": "adfd0bf1-374f-4c6c-8a1e-8e84bf53c109",
   "metadata": {},
   "source": [
    "## NAT: network address translation\n",
    "\n",
    "Als je opdracht xxx gedaan hebt, heb je waarschijnlijk gezien dat het IP-adres van je computer in het lokale netwerk (thuis of op school) er anders uitziet dan het IP-adres gezien vanuit het publieke internet. Hoe kan dat, en hoe werkt dat?\n",
    "\n",
    "* bijvoorbeeld: https://whatismyipaddress.com/\n",
    "* \n",
    "\n",
    "De thuisrouter of residential gateway maakt hiervoor gebruik van NAT: Network Address Translation. Er zijn (veel) te weinig IPv4 adressen om elk apparaat in alle lokale netwerken van een uniek IP-adres te voorzien. De oplossing is dan om voor het lokale netwerk *lokale IP-adressen* te gebruiken; in het verkeer naar het publieke internet delen de lokale apparaten het publieke IP-adres van de NAT-router.\n",
    "\n",
    "Hoe kunnen die verschillende lokale apparaten *eenzelfde publiek IP-adres delen*? Hoe weet de NAT router bij een binnenkomend pakket, voor welk lokaal apparaat dit bestemd is? De oplossing zit in het gebruik van de *poortnummers* in de adressering.\n",
    "\n",
    "* een adres in de UDP- en TCP-protocollen bestaat uit een IP-adres en een poortnummer.\n",
    "    * een \"inkomend\" poortnummer van een server is gekoppeld aan dienst die die server biedt;\n",
    "    * bijvoorbeeld: poortnummer 80 is gewoonlijk de poort voor het web-protocol HTTP (via TCP).\n",
    "* de NAT-router zet de lokale combinatie (IPa, Portx) om in (IPs, Portax)\n",
    "    * hierin is IPa: een lokaal IP-adres; Portx: een lokaal poortnummer van IPa\n",
    "    * en IPs: het (gedeelde) externe IP-adres van de router\n",
    "    * en Portax: het externe poortnummmer van de router dat gebruikt wordt voor de lokale combinatie (IPa, Portx).\n",
    "\n",
    "Voorbeeld van een NAT-tabel:\n",
    "\n",
    "(Hebben we een voorbeeld hiervan van een echte router?)\n",
    "\n",
    "(Hoe vind je NAT terug in het interface van de router?)\n",
    "\n",
    "\n",
    "Het IP-adres van je thuisrouter wordt toegewezen door je internet provider (ISP). Dit kan een statisch (onveranderlijk) IP-adres zijn, of een dynamisch (veranderlijk) IP adres.\n",
    "\n",
    "Als je gebruik maakt van mobiel internet, wordt meestal een adres toegewezen op het moment dat je verbinding maakt.\n",
    "\n"
   ]
  },
  {
   "cell_type": "markdown",
   "id": "2ac67c3c-88de-4179-8bcd-f4c83a3e0e26",
   "metadata": {},
   "source": [
    "(Je zou het IP-adres van je Smartphone bij een mobiele verbinding ook moeten kunnen opvragen - heeft deze wel een IPv4 adres, of werkt deze alleen met IPv6? Ik zou niet weten waar je dat kunt vinden in de instellingen.)"
   ]
  },
  {
   "cell_type": "markdown",
   "id": "8aef642a-5966-46c3-bca1-88e860c3fe02",
   "metadata": {},
   "source": [
    "We hebben hier te maken met adressering op verschillende niveaus:\n",
    "\n",
    "* laagste, \"fysieke\" niveau: MAC adres. Dit is de \"native\" adressering in het lokale netwerk, die gebruikt wordt voor de \"routering\". (Het netwerk-interface van je computer of smartphone werkt op dit niveau.)\n",
    "    * voor de adressering van (eind)apparaten in het netwerk\n",
    "* IP-niveau (netwerklaag):\n",
    "    * voor de adressering van (eind)apparaten in het netwerk\n",
    "* TCP, UDP niveau (transportlaag?) - hoort eigenlijk nog bij de universele, logische laag; maar valt buiten het eigenlijke netwerk.\n",
    "    * voor de adressering van (netwerk)toepassingen cq. diensten in eindapparaten\n",
    "    * (bijv. een webserver; of, in de response van de webserver, de client (browser))"
   ]
  },
  {
   "cell_type": "markdown",
   "id": "9e05ff49-6e4e-4066-93a7-6c02d377c546",
   "metadata": {},
   "source": [
    "* een MAC-adres is gekoppeld aan een apparaaat, niet aan het netwerk\n",
    "* een IP-adres is gekoppeld aan het netwerk waarin het apparaat verbonden is: als je je apparaat in een ander netwerk verbindt, krijgt dit een ander IP-adres.\n",
    "    * vergelijk bijvoorbeeld: het IP-adres van je computer thuis, op school, of in het mobiele netwerk.\n"
   ]
  },
  {
   "cell_type": "markdown",
   "id": "5a52b535-9c73-4374-9cd3-9355a36f16b3",
   "metadata": {},
   "source": [
    "## Fysieke verbindingen\n",
    "\n",
    "Voor communicatie heb je altijd een fysieke basis nodig: data worden overgestuurd als elektrische signalen (Ethernet kabel), als lichtsignalen (glasvezel), of als radiosignalen (WiFi, mobiel internet). \n",
    "\n",
    "Verder moet je afspreken in welke vorm deze data overgestuurd worden. De data, in de vorm van een reeks bits, wordt daarbij vaak gemoduleerd: het digitale signaal wordt in een analoog signaal omgezet dat efficiënt en betrouwbaar overgestuurd kan worden. Een modem staat voor *mo*dulatie/*dem*odulatie: hiermee kun je zowel \"zenden\" als \"ontvangen\".\n",
    "\n",
    "* er zijn allerlei vormen van modulatie van binaire signalen, bijvoorbeeld:\n",
    "    * baseband modulatie (eigenlijk \"geen modulatie\"): 0 en 1 worden door verschillende spanningen voorgesteld. Je hebt daarnaast een kloksignaal nodig om te weten op welk tijdstip de opeenvolgende bits in het signaal te vinden zijn. Dit wordt gebruikt voor lokale verbindingen, binnen een computer, of in een lokaal netwerk (Ethernet).\n",
    "    * frequency shift keying: 0 en 1 worden door verschillende frequenties voorgesteld. Een voorbeeld hiervan is het \"ouderwetse\" telefoonmodem: je gebruikt verschillende frequenties voor 0 en voor 1.\n",
    "    * complexere vormen van modulatie, zoals gebruikt bij WiFi, maken een grotere datasnelheid mogelijk.\n",
    "    \n",
    "* https://www.youtube.com/watch?v=QDS4B0mM-ew (geluid van een telefoonmodem)"
   ]
  },
  {
   "cell_type": "markdown",
   "id": "8560842a-1d98-4688-9afb-f94bedba68e9",
   "metadata": {},
   "source": [
    "## Data: modulatie e.d.\n",
    "\n",
    "In een netwerk heb je veel meer afspraken nodig rond de data:\n",
    "\n",
    "* de data worden (in de huidige netwerken) als pakketten verstuurd;\n",
    "* per pakket heb je, naast de eigenlijke data, metadata nodig, zoals adres van de bestemming, van de afzender, lengte van de data, checksum van de data, en het protocol voor de interpretatie van de data.\n",
    "\n",
    "Voorbeeld van een eenvoudige netwerkscanner: https://iot4beginners.com/creating-a-raspberry-pi-network-scanner/ (uit te breiden met het scannen van poorten?)"
   ]
  },
  {
   "cell_type": "markdown",
   "id": "67233ed1-0b2a-4ea2-a1db-4dd4370e446c",
   "metadata": {},
   "source": [
    "---"
   ]
  },
  {
   "cell_type": "markdown",
   "id": "2fc9abe3-b351-4916-bc25-cfe0764953d8",
   "metadata": {},
   "source": [
    "* lokaal IoT-apparaat dat je wilt bedienen vanuit het publieke internet - welke mogelijkheden?\n",
    "    * via externe server\n",
    "    * via open poort (kan meestal maar met 1 apparaat)\n",
    "    * "
   ]
  },
  {
   "cell_type": "markdown",
   "id": "91d2d34c-7b10-49bf-93ba-7866837d3a2c",
   "metadata": {},
   "source": [
    "## Gebruik van shell-opdrachten\n",
    "\n",
    "* je kunt in Jupyter Notebook shell-opdrachten uitvoeren, deze worden dan uitgevoerd op de server (dus meestal niet op je eigen computer)\n",
    "* bijvoorbeeld:\n",
    "    * `ping ip-adres`\n",
    "    * "
   ]
  },
  {
   "cell_type": "markdown",
   "id": "aac05d61-4a04-45f2-add3-9662aaa0daca",
   "metadata": {},
   "source": [
    "## Gebruik van \"localhost\"\n",
    "\n",
    "Je kunt ook via het netwerk-interface van je computer verbinding maken met je eigen computer. Dat is bijvoorbeeld zinvol als je een webserver uittest op je computer. Maar er zijn ook andere programma's zoals Jupyter Notebook die altijd gebruik maken van een web-interface: je gebruik de browser voor de user interface, en een server - mogelijk op je eigen computer - voor het rekenwerk.\n",
    "\n",
    "De internet-verbinding met je eigen computer heet ook wel \"localhost\", met als IP-adres `127.0.0.1`.\n",
    "\n",
    "Het lijkt een omweg, om je eigen computer te gebruiken via de internet interface, en dat is het ook wel. Maar omdat steeds meer programma's ontworpen zijn om te gebruiken via het internet, met de browser voor de user interface, is dit in veel gevallen een praktische oplossing. Ook voor programma's als database-servers wordt de localhost-verbinding vaak gebruikt.\n",
    "\n",
    "* gebruik van een lokale database server\n",
    "\n",
    "\n",
    "Mogelijke opdrachten:\n",
    "\n",
    "* ping naar localhost?\n",
    "* start een (statische) webserver op je eigen computer - bijvoorbeeld: python webserver, of de eenvoudige statische webserver; en bekijk vervolgens via deze webserver en localhost in de browser een lokaal html-bestand.\n",
    "\n"
   ]
  },
  {
   "cell_type": "markdown",
   "id": "0b04b636-b926-4391-ac96-33bf3f2abbb5",
   "metadata": {},
   "source": [
    "* \"ping\" naar een bekende website\n",
    "* \"traceroute\" naar een bekende website\n",
    "* \"ping\" naar een IP-adres in je lokale netwerk\n"
   ]
  },
  {
   "cell_type": "markdown",
   "id": "caa4411e-dec6-4042-b25e-e36c3c35e237",
   "metadata": {},
   "source": [
    "(Gebruik van een IoT-apparaat als webserver.)"
   ]
  },
  {
   "cell_type": "markdown",
   "id": "811309d0-5302-4b6b-988c-01de675f1e78",
   "metadata": {},
   "source": [
    "Discussie: is het zinvol om een apart netwerk te gebruiken voor IoT-apparaten?\n",
    "\n",
    "Welke bedreigingen zijn er in het interne netwerk?\n",
    "\n",
    "* bedreigingen van laptop/desktop-computers (bijv. met prive-data; gebruikt voor bankieren e.d.)\n",
    "    * \"versleuteling van alle data op je computer\"?\n",
    "* bedreigingen van IoT-apparaten\n",
    "    * bediening van je apparaten wordt overgenomen\n",
    "    * apparaten worden afgeluisterd\n",
    "    \n",
    "(Bijv. bediening van je verwarming wordt overgenomen? of je camera('s) worden afgeluisterd? bediening van je voordeur?)\n"
   ]
  },
  {
   "cell_type": "markdown",
   "id": "6ad9b3c3-65d9-402a-8432-21258e0e7992",
   "metadata": {},
   "source": [
    "```{todo}\n",
    "* opdracht(en) voor de thuisrouter\n",
    "    * openzetten van een poort (bijv. voor RasPi met webserver?) - vgl. ook games\n",
    "    * VPN verbinding met het lokale netwerk\n",
    "```"
   ]
  },
  {
   "cell_type": "markdown",
   "id": "6993281f-f021-409a-a533-e72f9b3c9d69",
   "metadata": {},
   "source": [
    "---"
   ]
  },
  {
   "cell_type": "markdown",
   "id": "4726e527-5a07-4463-8bcb-69a716386d37",
   "metadata": {},
   "source": [
    "````{parsons} Parsons puzzle test\n",
    "\n",
    "Dit is de inleidende tekst.\n",
    "\n",
    "Deze kan uit meerdere paragrafen bestaan.\n",
    "\n",
    "```elm\n",
    "x = 0\n",
    "while x < 10:\n",
    "    print(x)\n",
    "    x = x + 1\n",
    "```\n",
    "\n",
    "````"
   ]
  }
 ],
 "metadata": {
  "kernelspec": {
   "display_name": "Python 3 (ipykernel)",
   "language": "python",
   "name": "python3"
  },
  "language_info": {
   "codemirror_mode": {
    "name": "ipython",
    "version": 3
   },
   "file_extension": ".py",
   "mimetype": "text/x-python",
   "name": "python",
   "nbconvert_exporter": "python",
   "pygments_lexer": "ipython3",
   "version": "3.9.7"
  }
 },
 "nbformat": 4,
 "nbformat_minor": 5
}
