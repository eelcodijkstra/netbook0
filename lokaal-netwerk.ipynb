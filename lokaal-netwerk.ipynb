{
 "cells": [
  {
   "cell_type": "markdown",
   "id": "9f42859d-5e33-4abb-b26e-321312d3f7cb",
   "metadata": {},
   "source": [
    "# Het lokale netwerk"
   ]
  },
  {
   "cell_type": "markdown",
   "id": "3ac9dd90-3380-4f7d-8620-44357588c6b9",
   "metadata": {},
   "source": [
    "In dit gedeelte behandelen we het lokale netwerk, zoals je dat bijvoorbeeld thuis of op school tegenkomt. \n",
    "Een typisch thuisnetwerk kan er zo uitzien:\n",
    "\n",
    "```{figure} images/ip-lan.png\n",
    ":width: 800px\n",
    "\n",
    "Thuisnetwerk op IP-niveau\n",
    "```\n",
    "\n",
    "```{margin}\n",
    "**LAN**: Local Area Network, **WAN**: Wide Are network.\n",
    "```\n",
    "\n",
    "Je ziet hier een desktop PC, een laptop, een tablet, een smartphone, een netwerkprinter en een IoT-gateway (bijvoorbeeld voor slimme verlichting) in het lokale netwerk (LAN). De thuisrouter of *residential gateway* verbindt dit lokale netwerk via het WAN-netwerk van de *internet service provider* (ISP), met het publieke internet.\n",
    "\n",
    "Apparaten zoals de printer en de computers gebruiken het netwerk voor communicatie met elkaar en met apparaten in het internet: dit noemen we *eindapparaten*. Deze hebben geen rol in het netwerk.\n",
    "\n",
    "*Netwerkapparaten* zorgen ervoor dat het netwerk goed functioneert.\n",
    "Een voorbeeld van een netwerkapparaat is de thuisrouter of *residential gateway*.\n",
    "Deze zorgt ervoor dat lokale IP-pakketten bedoeld voor het publieke internet, via de ISP-verbinding naar de volgende router verstuurd worden, om via een aantal router-stappen zo op de bestemming aan te komen.\n",
    "De thuisrouter stuurt IP-pakketten vanuit het publieke internet naar het juiste lokale apparaat.\n",
    "\n",
    "Bovenstaande figuur geeft het netwerk weer op de laag van het IP-protocol. De lokale apparaten communiceren via dit protocol met elkaar en met de buitenwereld.\n",
    "\n",
    "Op de fyieke laag ziet hetzelfde netwerk er iets anders uit:\n",
    "\n",
    "```{figure} images/mac-lan.png\n",
    ":width: 800px\n",
    "\n",
    "Thuisnetwerk op fysiek (MAC) niveau\n",
    "```\n",
    "\n",
    "Je ziet hier de fysieke verbindingen, in de vorm van Ethernet- en glasvezel(fiber)kabels end draadloze WiFi verbindingen.\n",
    "Je ziet ook meer netwerkappareten, zoals een WiFi basisstation en een Ethernet switch.\n",
    "\n",
    "Sommige apparaten zijn via een Ethernetkabel verbonden in het netwerk.\n",
    "Omdat de thuisrouter hiervoor niet voldoende Ethernetaansluitingen heeft, is er een *switch* gebruikt om het aantal Ethernetverbindingen uit te breiden.\n",
    "\n",
    "Via het WiFi basisstation zijn de tablet, smartphone en laptop draadloos aangesloten op het lokale netwerk.\n",
    "\n",
    "```{margin}\n",
    "Een Ethernet- of WiFi \"pakket\" heet een *frame*.\n",
    "```\n",
    "\n",
    "De eigenlijke communicatie in het lokale netwerk gebeurt in deze fysieke laag, op basis van Ethernet- en WiFi-frames waarin IP-pakketten ingepakt zijn.\n",
    "Voor de adressering gebruikt dit lokale netwerk de Ethernet- en WiFi-MAC adressen. (Deze hebben hetzelfde formaat.)\n",
    "\n",
    "```{figure} images/ip-in-ethernet-frame.png\n",
    ":width: 600px\n",
    "\n",
    "Ethernet frame met een IPv4 pakket\n",
    "```\n",
    "\n",
    "```{margin}\n",
    "Enkelvoud: medium, meervoud: media\n",
    "```\n",
    "\n",
    "Voor *fysieke verbindingen* kun je verschillende *media* gebruiken, bijvoorbeeld lokaal Ethernet en WiFi, en glasvezel of coaxkabel met de ISP.\n",
    "Elk medium heeft zijn eigen voor- en nadelen. Bijvoorbeeld WiFi is geschikt voor mobiele apparaten, maar is minder veilig en betrouwbaar dan een bedrade Ethernet- of glasvezelverbinding.\n",
    "Bovendien is Ethernet \"plug&play\", terwijl je voor het verbinden van een apparaat met een WiFi-netwerk extra configuratie-handelingen nodig hebt.\n",
    "\n",
    "\n",
    "```{figure} images/cables-photo-gallery.png\n",
    ":width: 700px\n",
    "\n",
    "Coax- en Ethernetkabel met connectoren\n",
    "```\n"
   ]
  },
  {
   "cell_type": "markdown",
   "id": "6e4e1b37-0047-4db0-b5db-e6ec42aa51dc",
   "metadata": {},
   "source": [
    "## Ster-netwerk"
   ]
  },
  {
   "cell_type": "markdown",
   "id": "8ec2e987-6205-4c4f-87f8-fdb475796ef9",
   "metadata": {},
   "source": [
    "```{figure} images/ster-netwerk.png\n",
    ":width: 400px\n",
    "\n",
    "Sternetwerk\n",
    "```"
   ]
  },
  {
   "cell_type": "markdown",
   "id": "7e109cfb-cdf2-4053-8fe1-367599320610",
   "metadata": {},
   "source": [
    "Een WiFi-netwerk met een enkel WiFi basisstation vormt een *sternetwerk*.\n",
    "Het basisstation vormt hiervan het centrale punt.\n",
    "De andere hosts zijn alleen verbonden met dit centrale punt, niet met elkaar.\n",
    "\n",
    "Tegenwoordig worden vaak extra WiFi-punten gebruikt, van \"boosters\" en versterkers tot extra basisstations, om overal in huis (of in een ander gebouw) voldoende WiFi-dekking te hebben\n",
    "\n",
    "Een voordeel van zo'n ster-netwerk is de eenvoud.\n",
    "Ook het aanpassen van het netwerk aan een nieuwe (WiFi)versie is eenvoudig: je kunt beginnen met het vervangen van het basisstation, en daarna apparaten upgraden waar het nodig is. Deze apparaten hebben dan direct alle voordelen van de nieuwe versie.\n",
    "(In het geval van een maasnetwerk is het veel lastiger om dit aan te passen aan een nieuwe versie: je moet veel meer punten vervangen om direct voordeel te hebben.)\n",
    "\n"
   ]
  }
 ],
 "metadata": {
  "kernelspec": {
   "display_name": "Python 3 (ipykernel)",
   "language": "python",
   "name": "python3"
  },
  "language_info": {
   "codemirror_mode": {
    "name": "ipython",
    "version": 3
   },
   "file_extension": ".py",
   "mimetype": "text/x-python",
   "name": "python",
   "nbconvert_exporter": "python",
   "pygments_lexer": "ipython3",
   "version": "3.9.7"
  }
 },
 "nbformat": 4,
 "nbformat_minor": 5
}
