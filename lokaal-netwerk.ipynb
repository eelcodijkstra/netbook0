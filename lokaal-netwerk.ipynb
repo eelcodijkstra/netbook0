{
 "cells": [
  {
   "cell_type": "markdown",
   "id": "9f42859d-5e33-4abb-b26e-321312d3f7cb",
   "metadata": {},
   "source": [
    "# Het lokale netwerk"
   ]
  },
  {
   "cell_type": "markdown",
   "id": "3ac9dd90-3380-4f7d-8620-44357588c6b9",
   "metadata": {},
   "source": [
    "In dit gedeelte behandelen we het lokale netwerk, zoals je dat bijvoorbeeld thuis of op school tegenkomt. \n",
    "Een typisch thuisnetwerk kan er zo uitzien:\n",
    "\n",
    "```{figure} images/ip-lan.png\n",
    ":width: 800px\n",
    "\n",
    "Thuisnetwerk op IP-niveau\n",
    "```\n",
    "\n",
    "```{margin}\n",
    "**LAN**: Local Area Network, **WAN**: Wide Are network.\n",
    "```\n",
    "\n",
    "Je ziet hier een desktop PC, een laptop, een smartphone, een netwerkprinter en een IoT-gateway (bijvoorbeeld voor slimme verlichting) in het lokale netwerk (LAN). De thuisrouter of *residential gateway* verbindt dit lokale netwerk via het netwerk (WAN) van de *internet service provider* (ISP), met het publieke internet.\n",
    "\n",
    "Apparaten zoals de printer en de computers gebruiken het netwerk voor communicatie met elkaar en met apparaten in het internet: dit noemen we *eindapparaten*. Deze hebben geen rol in het netwerk.\n",
    "\n",
    "```{margin} \n",
    "Voor de lokale communicatie zou je ook een ander protocol kunnen gebruiken, maar omdat je voor de communicatie met de buitenwereld toch al het IP-protocol gebruikt, kun je dat ook net zo goed lokaal gebruiken.\n",
    "```\n",
    "\n",
    "De thuisrouter is een voorbeel van een *netwerkapparaat*. Deze netwerkapparaten zorgen ervoor dat het netwerk goed functioneert.\n",
    "Deze router of gateway zorgt ervoor dat lokale IP-pakketten bedoeld voor het publieke internet, via de ISP-verbinding naar de volgende router verstuurd worden, om via een aantal router-stappen zo op de bestemming aan te komen.\n",
    "IP-pakketten vanuit het publieke internet worden naar het juiste lokale apparaat gestuurd.\n",
    "\n",
    "Bovenstaande figuur geeft het netwerk weer op het IP-niveau: de lokale apparaten communiceren via het internet protocol met elkaar en met de buitenwereld.\n",
    "\n",
    "Op het niveau van de *fysieke verbindingen* ziet het netwerk er iets anders uit:\n",
    "\n",
    "```{figure} images/mac-lan.png\n",
    ":width: 800px\n",
    "\n",
    "Thuisnetwerk op fysiek (MAC) niveau\n",
    "```\n",
    "\n",
    "Sommige apparaten zijn via een Ethernetkabel verbonden in het netwerk.\n",
    "Omdat de thuisrouter niet voldoende Ethernetaansluitingen heeft, is er een *switch* gebruikt om het aantal Ethernetverbindingen uit te breiden.\n",
    "\n",
    "Via het WiFi basisstation (modem) zijn de tablet, smartphone en laptop draadloos aangesloten op het lokale netwerk.\n",
    "\n",
    "De eigenlijke communicatie in het lokale netwerk gebeurt op dit fysieke niveau, op basis van Ethernet- en WiFi frames waarin IP-pakketten ingepakt zijn.\n",
    "Voor de adressering gebruikt dit lokale netwerk de Ethernet- en WiFi-MAC adressen. (Deze hebben hetzelfde formaat.)\n",
    "\n",
    "```{margin}\n",
    "Enkelvoud: medium, meervoud: media\n",
    "```\n",
    "\n",
    "Voor *fysieke verbindingen* kun je verschillende *media* gebruiken, bijvoorbeeld lokaal Ethernet en WiFi, en glasvezel of coaxkabel met de ISP.\n",
    "Elk medium heeft zijn eigen voor- en nadelen. Bijvoorbeeld WiFi is geschikt voor mobiele apparaten, maar is minder veilig en betrouwbaar dan een bedrade Ethernet- of glasvezelverbinding. \n",
    "\n",
    "We zien op dit MAC-niveau ook meer netwerkapparaten, zoals de *switch* en het *WiFi basisstation*.\n",
    "\n",
    "Het eigenlijke netwerk bestaat uit fysieke verbindingen (*media*) en *netwerkapparaten*.\n",
    "\n",
    "\n"
   ]
  }
 ],
 "metadata": {
  "kernelspec": {
   "display_name": "Python 3 (ipykernel)",
   "language": "python",
   "name": "python3"
  },
  "language_info": {
   "codemirror_mode": {
    "name": "ipython",
    "version": 3
   },
   "file_extension": ".py",
   "mimetype": "text/x-python",
   "name": "python",
   "nbconvert_exporter": "python",
   "pygments_lexer": "ipython3",
   "version": "3.9.7"
  }
 },
 "nbformat": 4,
 "nbformat_minor": 5
}
