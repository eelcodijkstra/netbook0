{
 "cells": [
  {
   "cell_type": "markdown",
   "id": "0f39daa7-4026-41ef-8981-2c154e78e2b6",
   "metadata": {},
   "source": [
    "# De thuisrouter"
   ]
  },
  {
   "cell_type": "markdown",
   "id": "0b18b5ec-53ff-4cb8-b280-a339a03b385a",
   "metadata": {},
   "source": [
    "```{admonition} Concepten\n",
    "thuisrouter (\"residential gateway\"), NAT-router, VPN, firewall, LAN, WAN, modem, switch\n",
    "```"
   ]
  },
  {
   "cell_type": "markdown",
   "id": "d51389a8-edca-4ffb-ad0c-8dcf3e9f738e",
   "metadata": {},
   "source": [
    "De thuisrouter of \"residential gateway\" combineert vaak een groot aantal functies:\n",
    "\n",
    "* (kabel/glasvezel)modem\n",
    "* (NAT)router\n",
    "* firewall\n",
    "* WiFi basisstation\n",
    "* Ethernet switch\n",
    "\n",
    "en soms ook:\n",
    "\n",
    "* telefonie\n",
    "* netwerk-schijf"
   ]
  },
  {
   "cell_type": "markdown",
   "id": "69a62317-4986-47b7-88f9-670185f39bfe",
   "metadata": {},
   "source": [
    "Het *modem* past het data-signaal aan aan het betreffende medium, bijvoorbeeld de (kabeltv-)coaxkabel of de glasvezelkabel.\n",
    "\n",
    "De *router* (of gateway) zorgt ervoor dat IP-pakketten van buiten het netwerk naar het juiste apparaat in het netwerk gestuurd worden, en dat lokale pakketen bestemd voor een apparaat in het publieke internet naar de volgende router gestuurd worden. (Lokale pakketten met een lokale bestemming blijven lokaal.) Deze router is meestal een *NAT-router*, waarmee alle lokale apparaten hetzelfde publieke IP-adres delen.\n",
    "\n",
    "De *firewall* zorgt ervoor dat bepaalde communicaties van buiten geweerd worden van het lokale netwerk, en omgekeerd. Dit is een belangrijk onderdeel van de beveiliging van het lokale netwerk.\n",
    "\n",
    "Het *WiFi basisstation* zorgt voor de draadloze communicatie in het lokale netwerk, naast de bedrade communicatie via Ethernet.\n",
    "\n",
    "De *Ethernet switch* zorgt ervoor dat Ethernet-pakketten naar dat segment van het lokale netwerk gestuurd worden waarmee het bestemmings-apparaat verbonden is.\n",
    "\n",
    "Bovendien bevat de thuisrouter een *webserver* waarmee je de instellingen kunt aanpassen."
   ]
  },
  {
   "cell_type": "markdown",
   "id": "515a0be8-d63f-4f44-bfc5-c8544036f2c3",
   "metadata": {},
   "source": [
    "## Aansluitingen"
   ]
  },
  {
   "cell_type": "markdown",
   "id": "a8211f71-98f1-4721-bb28-d5bbd1f63d62",
   "metadata": {},
   "source": [
    "**externe verbinding.** De thuisrouter heeft een aansluiting voor het \"Wide Area Network\" (WAN) van de internet-provider. Als de router een ingebouwd kabelmodel heeft, of glasvezelmodem, dan heb je voor dat medium een speciale aansluiting. Een router zonder modem heeft een Ethernet-aansluiting met label \"WAN\", voor de kabel naar het modem van de internet-provider.\n",
    "\n",
    "**lokale verbindingen.** Voor het lokale netwerk (LAN, local area network) heeft de router vaak meerdere Ethernet-aansluitingen.\n",
    "\n",
    "Daarnaast zijn er, afhankelijk van het type thuisrouter, nog aansluitingen mogelijk voor:\n",
    "\n",
    "* telefonie - voor het aansluiten van een \"vaste lijn\" telefoon;\n",
    "* USB - voor het aansluiten van een harde schijf/USB geheugen, voor een netwerkschijf of voor gebruik als mediaserver"
   ]
  },
  {
   "cell_type": "markdown",
   "id": "8c50fe67-ce6a-4e5d-8625-7f9f53c59b74",
   "metadata": {},
   "source": [
    "## Instelling: DHCP en statische adressen"
   ]
  },
  {
   "cell_type": "markdown",
   "id": "fc879e20-f8c2-4752-b9bb-dc356985f2b8",
   "metadata": {},
   "source": [
    "Hoe krijgt een apparaat in het thuisnetwerk een IP-adres toegewezen? Dit kan op twee manieren:\n",
    "\n",
    "* statische toewijzing: in de instellingen van de thuisrouter geef je op wat het IP-adres is van het apparaat met een bepaald MAC-adres. Dit apparaat heeft dan een vast IP-adres.\n",
    "* dynamische toewijzing: in dit geval wijst de thuisrouter een apparaat in het netwerk een IP-adres toe via het DHCP protocol. In de instellingen van de thuisrouter geef je aan welke IP-adressen daarvoor gebruikt kunnen worden. \n",
    "    * het apparaat zelf moet ook zo ingesteld zijn dat dit het DHCP-protocol gebruikt. Dit is de *default* instelling bij veel apparaten.\n",
    "\n",
    "Voor de meeste apparaten zal DHCP gebruikt worden. Dit betekent dat de IP-adressen van deze apparaten kunnen veranderen. Meestal bljven ze wel gelijk, omdat er meer dan genoeg vrije IP-adressen overblijven.\n",
    "\n",
    "Waar vind je deze instellingen in de thuisrouter?"
   ]
  },
  {
   "cell_type": "markdown",
   "id": "42097589-4647-49aa-94bc-5b81cadc29f8",
   "metadata": {},
   "source": []
  },
  {
   "cell_type": "markdown",
   "id": "ab4cf3f8-a328-4758-8d79-c36de6c56d3d",
   "metadata": {},
   "source": [
    "voorbeeld-fig van een thuisrouter: DHCP instellingen."
   ]
  },
  {
   "cell_type": "markdown",
   "id": "0c6b9d30-c261-45cc-9328-bc21fb1344c6",
   "metadata": {},
   "source": [
    "voorbeeld-fig van DHCP-instelling op een apparaat (computer)."
   ]
  },
  {
   "cell_type": "markdown",
   "id": "f0900c4b-bed3-4caa-9e8b-f88a3c65a9ac",
   "metadata": {},
   "source": [
    "*Opmerking.* Het DHCP-protocol wordt niet alleen in thuisnetwerken gebruikt: ook een ISP kan bijvoorbeeld gebruik maken van DHCP voor het toewijzen van het publieke IP-adres aan je thuisrouter. In dat geval heb je geen \"statisch IP adres\"."
   ]
  },
  {
   "cell_type": "markdown",
   "id": "caff30a8-bea7-4725-abf5-f9562df9b209",
   "metadata": {},
   "source": [
    "## Instelling: NAT en Firewall"
   ]
  },
  {
   "cell_type": "markdown",
   "id": "e8c5c431-d0fd-451d-9669-385cf5664954",
   "metadata": {},
   "source": [
    "In dit gedeelte gaan we in op een aantal van de belangrijkste functies van de thuisrouter. In het bijzonder gaan we in op de instellingen die je kunt doen voor het vergroten van de veiligheid.\n"
   ]
  },
  {
   "cell_type": "markdown",
   "id": "fb6ce8dc-af7e-46f6-9215-f2cd0ee91ac7",
   "metadata": {},
   "source": [
    "In sectie xxx behandelen we de adressering in het thuisnetwerk, en het gebruik van adresvertalin (NAT) tussen lokale IP-adressen en het publieke IP-adres van een lokale computer."
   ]
  },
  {
   "cell_type": "markdown",
   "id": "64642d79-17fe-42a0-8c88-3666c4b745b6",
   "metadata": {},
   "source": [
    "\n",
    "* wat is/zijn de functie(s) van de thuisrouter?\n",
    "* wat kun je instellen? - via een webinterface\n",
    "    * voorbeeld van een netwerkapparaat met een webinterface (instellingen)\n",
    "* aansluitingen:\n",
    "    * WAN (Ethernet; of: kabel, \n",
    "    * LAN (Ethernet)\n",
    "    * (WiFi)\n",
    "    * telefoon (soms)\n",
    "    * USB (soms) - bijv. voor een netwerkdrive\n",
    "* NB: scherm je router af met een veilig wachtwoord - (niet admin/admin)\n",
    "    * andere instellingen voor de veiligheid (firewall)\n",
    "* Soms: \"parental control\", niet alle websites altijd/voor iedereen beschikbaar.\n",
    "* DHCP in het lokale netwerk\n",
    "    * de router deelt lokale IP-adressen uit als een apparaat zich aanmeldt; \"dynamische toewijzing\".\n",
    "    * (hierdoor kan een apparaat in de loop van de tijd verschillende lokale IP-adressen krijgen.)\n",
    "    * je kunt in de router instellen dat bepaalde apparaten altijd een vast IP-adres krijgen.\n",
    "\n",
    "(Ik kom nog maar weinig IoT-firewall/rules tegen.)\n",
    "\n",
    "Wat kun je instellen aan het netwerk? O.a. DHCP: welke adressen worden uitgedeeld; en welke adressen worden vast gekoppeld (IP-adres<->MAC adres).\n",
    "\n",
    "De FritzBox gebruikt NAT, maar ik kan daarover in het interface geen gegevens over vinden. (Er is bijv. geen tabel met NAT-afbeeldingen.) Het enige is dat je kunt zien, is het \"openzetten van een poort\". (Dit kan op verschillende manieren...)\n",
    "\n",
    "(De FritzBox kan ook gebruikt worden als NAS server, en als mediaserver.)\n",
    "\n",
    "## VPN\n",
    "\n",
    "Stel, je wilt bepaalde bestanden in je lokale (thuis)netwerk gebruiken, terwijl je niet in de buurt van dit netwerk bent. Hoe kan dat?\n",
    "Een oplossing hiervoor is het gebruik van een VPN (virtual private network): dat is een \"virtuele\" uitbreiding van het lokale \"private network\", door middel van een verbinding over een ander netwerk, gewoonlijk het publieke internet, tussen de thuisrouter en je eigen computer.\n",
    "\n",
    "\n",
    "\n",
    "Een VPN wordt bijvoorbeeld gebruikt door medewerkers van een organisatie die thuis werken: via de VPN-verbinding kunnen ze dan toch verbinding maken met de servers en andere computers (en collega's) in het lokale netwerk van die organisatie.\n",
    "\n",
    "\n",
    "\n",
    "Via VPN kun je een beveiligde verbinding maken *naar/met het lokale netwerk*, vanuit een computer of smartphone in het publieke internet. (Fritzbox ondersteunt dit.) https://en.avm.de/service/vpn/tips-tricks/. Op die manier kun je bijvoorbeeld lokale bestanden bereiken, of een lokale printer.\n",
    "\n",
    "> Dit is een ander gebruik dan een VPN *vanuit het lokale netwerk*: dat gebruik je om toegang tot diensten in het publieke internet af te schermen. (*Is hiervoor ook een terminologie in gebruik?) Eigenlijk is er in dit geval sprake van een \"remote proxy server\"?\n",
    "\n",
    "Uit de handleidingen e.d. voor de FritzBox:\n",
    "\n",
    "* verbinden van de FritxBox met een bedrijfsnetwerk; je kunt dan via een willekeurige computer in het thuisnetwerk verbinding maken met het bedrijfsnetwerk. (Dat lijkt mij niet zo veilig, voor het bedrijfsnetwerk; je wilt je bedrijfsnetwerk niet aan risico's van al die thuisnetwerken blootstellen...)\n",
    "* \n",
    "\n",
    "NB: plek van VPN in de IP-stack, laten zien dat je een complete internet-verbinding maakt als toepassing\n",
    "\n",
    "* op basis van TCP? UDP? (of direct op IP?)\n",
    "** OpenVPS: \"Tunnel any IP subnetwork or virtual ethernet adapter over a single UDP or TCP port,\"\n",
    "* maar: IPsec vervangt de IP-laag (en maakt daarmee ook het gebruik van UDP mogelijk).\n",
    "* "
   ]
  },
  {
   "cell_type": "markdown",
   "id": "85fb8b1d-ddaa-4a49-afe5-a578b02d4a23",
   "metadata": {},
   "source": [
    "### VPN - Mozilla\n",
    "\n",
    "Zie de scenario's daar.\n",
    "\n",
    "* \"het WiFi netwerk van het hotel is beveiligd met een sterk wachtwoord, mijn computer is dus veilig en mijn privacy is beschermd\".\n"
   ]
  }
 ],
 "metadata": {
  "kernelspec": {
   "display_name": "Python 3 (ipykernel)",
   "language": "python",
   "name": "python3"
  },
  "language_info": {
   "codemirror_mode": {
    "name": "ipython",
    "version": 3
   },
   "file_extension": ".py",
   "mimetype": "text/x-python",
   "name": "python",
   "nbconvert_exporter": "python",
   "pygments_lexer": "ipython3",
   "version": "3.9.7"
  }
 },
 "nbformat": 4,
 "nbformat_minor": 5
}
