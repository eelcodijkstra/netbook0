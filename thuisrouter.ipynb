{
 "cells": [
  {
   "cell_type": "markdown",
   "id": "0f39daa7-4026-41ef-8981-2c154e78e2b6",
   "metadata": {},
   "source": [
    "# De thuisrouter"
   ]
  },
  {
   "cell_type": "markdown",
   "id": "0b18b5ec-53ff-4cb8-b280-a339a03b385a",
   "metadata": {},
   "source": [
    "```{admonition} Concepten\n",
    "thuisrouter (\"residential gateway\"), NAT-router, VPN, firewall, LAN, WAN, modem, switch\n",
    "```"
   ]
  },
  {
   "cell_type": "markdown",
   "id": "ef2b8c2d-b294-4848-832d-26af389c703e",
   "metadata": {},
   "source": [
    "```{figure} images/routers-photo-gallery.png\n",
    ":width: 800px\n",
    "\n",
    "Enkele thuisrouters\n",
    "```"
   ]
  },
  {
   "cell_type": "markdown",
   "id": "34a2fdad-3407-424f-9fb9-3b124ad624da",
   "metadata": {},
   "source": [
    "In dit gedeelte behandelen we de *thuisrouter* of ook wel *residential gateway*: de functie(s) die deze vervult, de fysieke aansluitingen, en de instellingen daarvan.\n",
    "Deze kennis moet je in staat stellen om de handleidingen van je thuisrouter (beter) te begrijpen, en het hoe en waarom van de aansluitingen en instellingen."
   ]
  },
  {
   "cell_type": "markdown",
   "id": "05ef16d2-38ce-4bd7-9336-920251b5edb2",
   "metadata": {},
   "source": [
    "```{figure} images/thuisrouter-onderdelen.png\n",
    ":width: 800px\n",
    "\n",
    "Thuisrouter-onderdelen\n",
    "```"
   ]
  },
  {
   "cell_type": "markdown",
   "id": "d51389a8-edca-4ffb-ad0c-8dcf3e9f738e",
   "metadata": {},
   "source": [
    "De thuisrouter verbindt het lokale netwerk met het internet.\n",
    "Deze routering wordt vaak gecombineerd met een aantal andere functies. In de figuur van rechts naar links:\n",
    "\n",
    "* (kabel/glasvezel)modem\n",
    "* firewall\n",
    "* (NAT)router\n",
    "* WiFi basisstation\n",
    "* Ethernet switch\n",
    "\n",
    "Daarnaast bevat de thuisrouter soms ook functies voor telefonie en voor een netwerkschijf (NAS).\n",
    "Bovendien heeft de thuisrouter een *webserver* waarmee je de instellingen kunt aanpassen."
   ]
  },
  {
   "cell_type": "markdown",
   "id": "69a62317-4986-47b7-88f9-670185f39bfe",
   "metadata": {},
   "source": [
    "```{margin}\n",
    "Voor losse apparaten ligt een Ethernetverbinding voor de hand. Wanneer deze apparaten gecombineerd worden in een thuisrouter, kan deze intern andere verbindingen gebruiken.\n",
    "```\n",
    "\n",
    "We beschrijven hieronder deze onderdelen als losse apparaten verbonden via Ethernet.\n",
    "\n",
    "```{figure} images/glasvezel-modem.png\n",
    ":width: 350px\n",
    "\n",
    "Glasvezel-modem\n",
    "```\n",
    "\n",
    "Het *modem* past het datasignaal aan aan het betreffende medium, bijvoorbeeld de (kabeltv-)coaxkabel of de glasvezelkabel. Het modem *moduleert* het signaal voor het betreffende medium, en *demoduleert* het signaal van dat medium.\n",
    "\n",
    "```{figure} images/firewall.png\n",
    ":width: 350px\n",
    "\n",
    "Firewall - op IP, TCP/UDP, en HTTP-niveau\n",
    "```\n",
    "\n",
    "De *firewall* zorgt ervoor dat bepaalde communicaties van buiten geweerd worden van het lokale netwerk, en omgekeerd. Dit is een belangrijk onderdeel van de beveiliging van het lokale netwerk.\n",
    "(De firewall is hier getekend als apart onderdeel. In de praktijk is deze geïntegreerd met de eigenlijke router.)\n",
    "\n",
    "```{figure} images/nat-router.png\n",
    ":width: 350px\n",
    "\n",
    "NAT-router\n",
    "```\n",
    "\n",
    "De *router* (of gateway) zorgt ervoor dat IP-pakketten van buiten het netwerk naar het juiste apparaat in het netwerk gestuurd worden, en dat lokale pakketen bestemd voor een apparaat in het publieke internet naar de volgende router gestuurd worden. Lokale pakketten met een lokale bestemming blijven lokaal. Deze router is meestal een *NAT-router*, waarmee alle lokale apparaten hetzelfde publieke IP-adres delen.\n",
    "\n",
    "In een volgend gedeelte leggen we de details van NAT-routering uit.\n",
    "Merk op dat deze op NAT-routering op de (transport)laag van het TCP/UDP-protocol plaatsvindt, en niet op de (netwerk)laag van het IP-protocol. \n",
    "\n",
    "```{figure} images/ethernet-switch.png\n",
    ":width: 350px\n",
    "\n",
    "Switch\n",
    "```\n",
    "\n",
    "De *Ethernet switch* zorgt ervoor dat je meerdere Ethernetkabels op de thuisrouter kunt aansluiten. Bovendien worden Ethernet-pakketten alleen naar die aansluiting gestuurd waarmee het bestemmings-apparaat verbonden is.\n",
    "\n",
    "```{figure} images/wifi-basisstation.png\n",
    ":width: 350px\n",
    "\n",
    "WiFi basisstation\n",
    "```\n",
    "\n",
    "Het *WiFi basisstation* zorgt voor de draadloze communicatie in het lokale netwerk, naast de bedrade communicatie via Ethernet."
   ]
  },
  {
   "cell_type": "markdown",
   "id": "515a0be8-d63f-4f44-bfc5-c8544036f2c3",
   "metadata": {},
   "source": [
    "## Aansluitingen"
   ]
  },
  {
   "cell_type": "markdown",
   "id": "e5dc0af1-764b-43f4-b8b2-49bf630d2ff6",
   "metadata": {},
   "source": [
    "```{figure} images/routers-back-gallery.png\n",
    ":width: 500px\n",
    "\n",
    "Aansluitingen van enkele thuisrouters\n",
    "```"
   ]
  },
  {
   "cell_type": "markdown",
   "id": "48c8e7d4-a786-4547-8331-1d510b3bcad0",
   "metadata": {},
   "source": [
    "**Externe verbinding.** De thuisrouter heeft een aansluiting voor het \"Wide Area Network\" (WAN) van de internet-provider. Als de router een ingebouwd (coax)kabelmodem of glasvezelmodem heeft, dan heb je voor dat medium een speciale aansluiting. Een router zonder modem heeft een Ethernet-aansluiting met label \"WAN\", voor de verbinding met het modem van de internet-provider."
   ]
  },
  {
   "cell_type": "markdown",
   "id": "778d125f-4bc9-44f8-99f7-e06255ece0f8",
   "metadata": {},
   "source": [
    "**Lokale verbindingen.** Voor het lokale netwerk (LAN, local area network) heeft de router vaak meerdere Ethernet-aansluitingen.\n",
    "\n",
    "Daarnaast zijn er, afhankelijk van het type thuisrouter, nog aansluitingen mogelijk voor telefonie - voor het aansluiten van een \"vaste lijn\" telefoon; en voor USB, bijvoorbeeld voor het aansluiten van een USB harde schijf of USB-stick die je dan als netwerkschijf (NAS) kunt gebruiken.\n",
    "\n",
    "Een thuisrouter heeft gewoonlijk een ingebouwd WiFi basisstation, voor het draadloos verbinden van apparaten in het thuisnetwerk. Sommige thuisrouters hebben ook een DECT basisstation, voor het draadloos verbinden van telefoons en DECT IoT-apparaten."
   ]
  },
  {
   "cell_type": "markdown",
   "id": "8c50fe67-ce6a-4e5d-8625-7f9f53c59b74",
   "metadata": {},
   "source": [
    "## Instellingen: DHCP"
   ]
  },
  {
   "cell_type": "markdown",
   "id": "0b82c80c-e467-4666-8339-0993196ce296",
   "metadata": {},
   "source": [
    "```{figure} images/osx-tcpip-instellingen.png\n",
    ":width: 500px\n",
    "\n",
    "IP-netwerkinstellingen van een computer (OS X)\n",
    "```"
   ]
  },
  {
   "cell_type": "markdown",
   "id": "9f397fc4-78c9-4c60-9374-d9354a07b981",
   "metadata": {},
   "source": [
    "```{margin}\n",
    "Wikipedia: [DHCP](https://nl.wikipedia.org/wiki/Dynamic_Host_Configuration_Protocol)\n",
    "```"
   ]
  },
  {
   "cell_type": "markdown",
   "id": "c7ca5116-9be1-41af-ace4-2181aef50d8e",
   "metadata": {},
   "source": [
    "Hoe krijgt een apparaat in het thuisnetwerk een IP-adres toegewezen? Dit gebeurt meestal via het DHCP-protocol. Een apparaat meldt zich via DHCP aan bij het netwerk, en krijgt van de router een IP-adres toegewezen. Deze toewijzing is meestal tijdelijk (\"dynamisch IP adres\"): als het apparaat zich later weer aanmeldt, krijgt het soms een ander IP-adres. "
   ]
  },
  {
   "cell_type": "markdown",
   "id": "b464a924-f204-4d78-a8e9-276279210e35",
   "metadata": {},
   "source": [
    "DHCP geeft ook het adres van de gateway (thuisrouter) in het lokale netwerk; en het *subnetmasker* dat aangeeft welke bits het netwerkdeel vormen van het IP-adres."
   ]
  },
  {
   "cell_type": "markdown",
   "id": "8867330c-6320-4d7c-b1d9-cc76a4f1b9c6",
   "metadata": {},
   "source": [
    "**Router-instellingen.** In de router kun je instellen welke IP-adressen automatisch uitgedeeld kunnen worden door DHCP."
   ]
  },
  {
   "cell_type": "markdown",
   "id": "8c18d18b-2d25-46a5-90a1-c85c0408ae97",
   "metadata": {},
   "source": [
    "```{figure} images/fritzbox-dhcp-bereik-instellingen.png\n",
    ":width: 500px\n",
    "\n",
    "DHCP-instellingen in een router\n",
    "```"
   ]
  },
  {
   "cell_type": "markdown",
   "id": "a69dd20b-28e6-45ea-bcf7-c338e3106f6f",
   "metadata": {},
   "source": [
    "Je kunt in de router ook opgeven welke apparaten een vast (statisch) IP-adres moeten krijgen. Je geeft dan het MAC-adres van het apparaat op en het IP-adres. Je moet er in dat geval wel voor zorgen dat je eenzelfde IP-adres niet aan meer dan één apparaat toewijst."
   ]
  },
  {
   "cell_type": "markdown",
   "id": "abc2e7a1-d036-4911-a7c8-dc2993636b5c",
   "metadata": {},
   "source": [
    "```{figure} images/fritzbox-dhcp-vast-ip-adres.png\n",
    ":width: 500px\n",
    "\n",
    "Router-instelling voor een vast IP-adres van een apparaat\n",
    "```"
   ]
  },
  {
   "cell_type": "markdown",
   "id": "f0900c4b-bed3-4caa-9e8b-f88a3c65a9ac",
   "metadata": {},
   "source": [
    "*Opmerking.* Het DHCP-protocol wordt niet alleen in thuisnetwerken gebruikt: ook een ISP kan bijvoorbeeld gebruik maken van DHCP voor het toewijzen van het publieke IP-adres aan je thuisrouter. In dat geval heb je geen \"statisch IP adres\"."
   ]
  },
  {
   "cell_type": "markdown",
   "id": "caff30a8-bea7-4725-abf5-f9562df9b209",
   "metadata": {},
   "source": [
    "## Instelling: Firewall"
   ]
  },
  {
   "cell_type": "markdown",
   "id": "e8c5c431-d0fd-451d-9669-385cf5664954",
   "metadata": {},
   "source": [
    "De thuisrouter bevat ook een firewall, die zowel verkeer van buiten naar binnen als omgekeerd kan blokkeren.\n",
    "\n",
    "Het blokkeren van uitgaand verkeer is vaak bedoeld voor *parental control*, om bijvoorbeeld bepaalde diensten of websites te blokkeren voor de apparaten die door kinderen gebruikt worden.\n",
    "\n"
   ]
  },
  {
   "cell_type": "markdown",
   "id": "327d1cff-a2ca-497f-b4be-b3516cfad133",
   "metadata": {},
   "source": [
    "## Overige?"
   ]
  },
  {
   "cell_type": "markdown",
   "id": "fb6ce8dc-af7e-46f6-9215-f2cd0ee91ac7",
   "metadata": {},
   "source": [
    "In sectie xxx behandelen we de adressering in het thuisnetwerk, en het gebruik van adresvertalin (NAT) tussen lokale IP-adressen en het publieke IP-adres van een lokale computer."
   ]
  },
  {
   "cell_type": "markdown",
   "id": "d9d990d5-e415-40fa-8737-76e760c5f527",
   "metadata": {},
   "source": [
    "* wat is/zijn de functie(s) van de thuisrouter?\n",
    "* wat kun je instellen? - via een webinterface\n",
    "    * voorbeeld van een netwerkapparaat met een webinterface (instellingen)\n",
    "* NB: scherm je router af met een veilig wachtwoord - (niet admin/admin)\n",
    "    * andere instellingen voor de veiligheid (firewall)\n",
    "* Soms: \"parental control\", niet alle websites altijd/voor iedereen beschikbaar.\n",
    "\n",
    "(Ik kom nog maar weinig IoT-firewall/rules tegen.)\n",
    "\n",
    "De FritzBox gebruikt NAT, maar ik kan daarover in het interface geen gegevens over vinden. (Er is bijv. geen tabel met NAT-afbeeldingen.) Het enige is dat je kunt zien, is het \"openzetten van een poort\". (Dit kan op verschillende manieren...)\n",
    "\n",
    "(De FritzBox kan ook gebruikt worden als NAS server, en als mediaserver.)"
   ]
  }
 ],
 "metadata": {
  "kernelspec": {
   "display_name": "Python 3 (ipykernel)",
   "language": "python",
   "name": "python3"
  },
  "language_info": {
   "codemirror_mode": {
    "name": "ipython",
    "version": 3
   },
   "file_extension": ".py",
   "mimetype": "text/x-python",
   "name": "python",
   "nbconvert_exporter": "python",
   "pygments_lexer": "ipython3",
   "version": "3.9.7"
  }
 },
 "nbformat": 4,
 "nbformat_minor": 5
}
