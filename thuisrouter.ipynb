{
 "cells": [
  {
   "cell_type": "markdown",
   "id": "0f39daa7-4026-41ef-8981-2c154e78e2b6",
   "metadata": {},
   "source": [
    "# De thuisrouter"
   ]
  },
  {
   "cell_type": "markdown",
   "id": "0b18b5ec-53ff-4cb8-b280-a339a03b385a",
   "metadata": {},
   "source": [
    "```{admonition} Concepten\n",
    "thuisrouter (\"residential gateway\"), NAT, VPN, firewall, LAN, WAN\n",
    "```"
   ]
  },
  {
   "cell_type": "markdown",
   "id": "d51389a8-edca-4ffb-ad0c-8dcf3e9f738e",
   "metadata": {},
   "source": [
    "De thuisrouter of \"residential gateway\" combineert vaak een groot aantal functies:\n",
    "\n",
    "* (kabel)modem\n",
    "* router\n",
    "* firewall\n",
    "* WiFi basis"
   ]
  },
  {
   "cell_type": "markdown",
   "id": "515a0be8-d63f-4f44-bfc5-c8544036f2c3",
   "metadata": {},
   "source": [
    "## Aansluitingen"
   ]
  },
  {
   "cell_type": "markdown",
   "id": "a85b44f3-507c-4f12-9ca0-22397ccc277b",
   "metadata": {},
   "source": [
    "```{todo} figuur van aansluitingen van de thuisrouter\n",
    "```"
   ]
  },
  {
   "cell_type": "markdown",
   "id": "a8211f71-98f1-4721-bb28-d5bbd1f63d62",
   "metadata": {},
   "source": [
    "**externe verbinding.** De thuisrouter heeft een aansluiting voor het \"Wide Area Network\" (WAN) van de internet-provider. Als de router een ingebouwd kabelmodel heeft, of glasvezelmodem, dan heb je voor dat medium een speciale aansluiting. Een router zonder modem heeft een Ethernet-aansluiting met label \"WAN\", voor de kabel naar het modem van de internet-provider.\n",
    "\n",
    "**lokale verbindingen.** Voor het lokale netwerk (LAN, local area network) heeft de router vaak meerdere Ethernet-aansluitingen.\n",
    "\n",
    "Daarnaast zijn er, afhankelijk van het type thuisrouter, nog aansluitingen mogelijk voor:\n",
    "\n",
    "* telefonie - voor het aansluiten van een \"vaste lijn\" telefoon;\n",
    "* USB - voor het aansluiten van een harde schijf/USB geheugen, voor een netwerkschijf of voor gebruik als mediaserver"
   ]
  },
  {
   "cell_type": "markdown",
   "id": "9798067e-2508-48e2-af52-cc6584632e6d",
   "metadata": {},
   "source": [
    "## Instelling: DHCP"
   ]
  },
  {
   "cell_type": "markdown",
   "id": "caff30a8-bea7-4725-abf5-f9562df9b209",
   "metadata": {},
   "source": [
    "## Instelling: NAT en Firewall"
   ]
  },
  {
   "cell_type": "markdown",
   "id": "e8c5c431-d0fd-451d-9669-385cf5664954",
   "metadata": {},
   "source": [
    "In dit gedeelte gaan we in op een aantal van de belangrijkste functies van de thuisrouter. In het bijzonder gaan we in op de instellingen die je kunt doen voor het vergroten van de veiligheid.\n"
   ]
  },
  {
   "cell_type": "markdown",
   "id": "fb6ce8dc-af7e-46f6-9215-f2cd0ee91ac7",
   "metadata": {},
   "source": [
    "In sectie xxx behandelen we de adressering in het thuisnetwerk, en het gebruik van adresvertalin (NAT) tussen lokale IP-adressen en het publieke IP-adres van een lokale computer."
   ]
  },
  {
   "cell_type": "markdown",
   "id": "64642d79-17fe-42a0-8c88-3666c4b745b6",
   "metadata": {},
   "source": [
    "\n",
    "* wat is/zijn de functie(s) van de thuisrouter?\n",
    "* wat kun je instellen? - via een webinterface\n",
    "    * voorbeeld van een netwerkapparaat met een webinterface (instellingen)\n",
    "* aansluitingen:\n",
    "    * WAN (Ethernet; of: kabel, \n",
    "    * LAN (Ethernet)\n",
    "    * (WiFi)\n",
    "    * telefoon (soms)\n",
    "    * USB (soms) - bijv. voor een netwerkdrive\n",
    "* NB: scherm je router af met een veilig wachtwoord - (niet admin/admin)\n",
    "    * andere instellingen voor de veiligheid (firewall)\n",
    "* Soms: \"parental control\", niet alle websites altijd/voor iedereen beschikbaar.\n",
    "* DHCP in het lokale netwerk\n",
    "    * de router deelt lokale IP-adressen uit als een apparaat zich aanmeldt; \"dynamische toewijzing\".\n",
    "    * (hierdoor kan een apparaat in de loop van de tijd verschillende lokale IP-adressen krijgen.)\n",
    "    * je kunt in de router instellen dat bepaalde apparaten altijd een vast IP-adres krijgen.\n",
    "\n",
    "(Ik kom nog maar weinig IoT-firewall/rules tegen.)\n",
    "\n",
    "Wat kun je instellen aan het netwerk? O.a. DHCP: welke adressen worden uitgedeeld; en welke adressen worden vast gekoppeld (IP-adres<->MAC adres).\n",
    "\n",
    "De FritzBox gebruikt NAT, maar ik kan daarover in het interface geen gegevens over vinden. (Er is bijv. geen tabel met NAT-afbeeldingen.) Het enige is dat je kunt zien, is het \"openzetten van een poort\". (Dit kan op verschillende manieren...)\n",
    "\n",
    "(De FritzBox kan ook gebruikt worden als NAS server, en als mediaserver.)\n",
    "\n",
    "Via VPN kun je een beveiligde verbinding maken *naar/met het lokale netwerk*, vanuit een computer of smartphone in het publieke internet. (Fritzbox ondersteunt dit.) https://en.avm.de/service/vpn/tips-tricks/. Op die manier kun je bijvoorbeeld lokale bestanden bereiken, of een lokale printer.\n",
    "\n",
    "> Dit is een ander gebruik dan een VPN *vanuit het lokale netwerk*: dat gebruik je om toegang tot diensten in het publieke internet af te schermen. (*Is hiervoor ook een terminologie in gebruik?)"
   ]
  }
 ],
 "metadata": {
  "kernelspec": {
   "display_name": "Python 3 (ipykernel)",
   "language": "python",
   "name": "python3"
  },
  "language_info": {
   "codemirror_mode": {
    "name": "ipython",
    "version": 3
   },
   "file_extension": ".py",
   "mimetype": "text/x-python",
   "name": "python",
   "nbconvert_exporter": "python",
   "pygments_lexer": "ipython3",
   "version": "3.9.7"
  }
 },
 "nbformat": 4,
 "nbformat_minor": 5
}
